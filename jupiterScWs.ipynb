{
 "cells": [
  {
   "cell_type": "code",
   "execution_count": 13,
   "id": "3313429d",
   "metadata": {},
   "outputs": [],
   "source": [
    "import time\n",
    "import astroquery.heasarc\n",
    "from astropy.coordinates import SkyCoord\n",
    "import astropy.units as u\n",
    "\n",
    "from astroquery.jplhorizons import Horizons\n",
    "import numpy as np\n",
    "import pandas as pd\n",
    "\n",
    "from collections import defaultdict\n",
    "\n",
    "from astropy.time import Time\n",
    "\n",
    "import getpass\n",
    "import oda_api.token\n",
    "\n",
    "import logging\n",
    "\n",
    "from oda_api.api import DispatcherAPI\n",
    "\n",
    "from oda_api.plot_tools import OdaImage\n",
    "\n",
    "import matplotlib.pyplot as plt\n",
    "from astropy.io import fits\n",
    "from astropy.wcs import WCS\n",
    "from matplotlib.patches import Circle"
   ]
  },
  {
   "cell_type": "markdown",
   "id": "baec8afe",
   "metadata": {},
   "source": [
    "Idea of how this code works (27/02)\n",
    "\n",
    "1. We obtain Jupiter's position in the sky (ephemerides). We will be using a search radius of 8 degrees (due to FOV of INTEGRAL, fully coded). I found that Jupiter's position does not significantly change (more than 8 degrees) within less than 2 months. For safety, we will obtain Jupiter's mean monthly position.\n",
    "2. Using the mean monthly position of Jupiter over a certain time period (1 year, 2 years, ...), we will search for all the ScWs within 8 degrees of this position. No time filtering yet. We will group by mean monthly position of Jupiter.\n",
    "Though we already filter for pointing ScWs only.\n",
    "3. Then, we have N groups of ScWs, each corresponding to a certain RA and DEC (within 8 degrees). These only contain Jupiter if it is in the FOV at that precise time, i.e. that month. So filtering will be done by taking ScWs only within corresponding month (aka the month corresponding to the mean position as found in step 1).\n",
    "4. Finally, we will have N groups of ScWs, each containg Jupiter, for each month in the given interval. Some may be empty."
   ]
  },
  {
   "cell_type": "markdown",
   "id": "771fe389",
   "metadata": {},
   "source": [
    "STEP 1 - obtaining Jupiter's position"
   ]
  },
  {
   "cell_type": "code",
   "execution_count": 14,
   "id": "8055dc69",
   "metadata": {},
   "outputs": [
    {
     "name": "stdout",
     "output_type": "stream",
     "text": [
      "Jupiter's monthly position between 2003-01-01 and 2004-01-01: \n",
      "\n",
      "   datetime_str       RA      DEC   \n",
      "       ---           deg      deg   \n",
      "----------------- --------- --------\n",
      "2003-Jan-01 00:00 133.13461 18.23402\n",
      "2003-Feb-01 00:00 135.64353 17.59249\n",
      "2003-Mar-04 00:00  138.1248 16.92216\n",
      "2003-Apr-04 00:00 140.57899 16.22478\n",
      "2003-May-05 00:00 143.00678 15.50206\n",
      "2003-Jun-05 00:00 145.40891  14.7557\n",
      "2003-Jul-06 00:00 147.78632 13.98736\n",
      "2003-Aug-06 00:00    150.14 13.19866\n",
      "2003-Sep-06 00:00 152.47101 12.39117\n",
      "2003-Oct-07 00:00 154.78053 11.56645\n",
      "2003-Nov-07 00:00 157.06978 10.72599\n",
      "2003-Dec-08 00:00 159.34001  9.87127\n"
     ]
    }
   ],
   "source": [
    "# First, define the time interval we are interested in (> 1 month)\n",
    "epochs = {'start':'2003-01-01', 'stop':'2004-01-01', 'step':'31d'}\n",
    "\n",
    "# Get Jupiter's monthly position in the given time interval (not using mean as step of 31 days)\n",
    "jupiter = Horizons(id='599', location='@0',epochs=epochs) \n",
    "eph = jupiter.ephemerides()\n",
    "\n",
    "ra_values = eph['RA']\n",
    "dec_values = eph['DEC']\n",
    "print(f\"Jupiter's monthly position between {epochs['start']} and {epochs['stop']}: \\n\")\n",
    "print(eph[['datetime_str', 'RA', 'DEC']])\n",
    "\n",
    "# If we want to use mean:\n",
    "# df = eph.to_pandas()\n",
    "# df['datetime_str'] = pd.to_datetime(df['datetime_str'])\n",
    "# monthly_means = df.groupby(df['datetime_str'].dt.strftime('%Y-%m'))[['RA', 'DEC']].mean()\n",
    "# for month, row in monthly_means.iterrows():\n",
    "    # print(f\"Month: {month}, Mean RA: {row['RA']:.2f} deg, Mean DEC: {row['DEC']:.2f} deg\")"
   ]
  },
  {
   "cell_type": "markdown",
   "id": "0448b554",
   "metadata": {},
   "source": [
    "STEP 2 - obtaining ScWs"
   ]
  },
  {
   "cell_type": "code",
   "execution_count": 15,
   "id": "051fe1ee",
   "metadata": {},
   "outputs": [],
   "source": [
    "Heasarc = astroquery.heasarc.Heasarc()\n",
    "\n",
    "def get_scw_list(ra_obj, dec_obj, radius):\n",
    "    R = Heasarc.query_region(\n",
    "            position = SkyCoord(ra_obj, dec_obj, unit='deg'),\n",
    "            radius = f\"{radius} deg\",\n",
    "            catalog = 'intscw',\n",
    "            good_isgri = \">1000\",\n",
    "        )\n",
    "    R.sort('scw_id') \n",
    "    return R['scw_id'], R['scw_ver'], R['start_date'], R['end_date']\n",
    "\n",
    "assert astroquery.__version__ >= '0.4.2.dev6611'\n",
    "assert 'isdc' in astroquery.heasarc.Conf.server.cfgtype"
   ]
  },
  {
   "cell_type": "code",
   "execution_count": null,
   "id": "f68a0d88",
   "metadata": {},
   "outputs": [
    {
     "name": "stdout",
     "output_type": "stream",
     "text": [
      "Found  12  pointing science windows\n"
     ]
    }
   ],
   "source": [
    "scw_ids = []\n",
    "scw_versions = []\n",
    "scw_start_times = []\n",
    "scw_end_times = []\n",
    "\n",
    "for row in eph:\n",
    "    ra = float(row['RA'])\n",
    "    dec = float(row['DEC'])\n",
    "    radius = 8.\n",
    "    scw_id, scw_ver, scw_start, scw_end = get_scw_list(ra, dec, radius)\n",
    "    scw_ids.append(scw_id) # Using append means we get a list of lists, grouped by Jupiter's monthly position\n",
    "    scw_versions.append(scw_ver)\n",
    "    scw_start_times.append(scw_start)\n",
    "    scw_end_times.append(scw_end)\n",
    "\n",
    "# Filter by type (pointing type)\n",
    "scw_ids_filtered = []\n",
    "scw_versions_filtered = []\n",
    "scw_start_times_filtered = []\n",
    "scw_end_times_filtered = []\n",
    "\n",
    "for scw_sublist, ver_sublist, start_sublist, end_sublist in zip(scw_ids, scw_versions, scw_start_times, scw_end_times):\n",
    "    \n",
    "    mask = [int(scw) % 10 == 0 for scw in scw_sublist]\n",
    "    \n",
    "    filtered_scws = [scw_sublist[i] for i in range(len(scw_sublist)) if mask[i]]\n",
    "    filtered_versions = [ver_sublist[i] for i in range(len(ver_sublist)) if mask[i]]\n",
    "    filtered_start_times = [start_sublist[i] for i in range(len(start_sublist)) if mask[i]]\n",
    "    filtered_end_times = [end_sublist[i] for i in range(len(end_sublist)) if mask[i]]\n",
    "    \n",
    "    scw_ids_filtered.append(filtered_scws)\n",
    "    scw_versions_filtered.append(filtered_versions)\n",
    "    scw_start_times_filtered.append(filtered_start_times)\n",
    "    scw_end_times_filtered.append(filtered_end_times)\n",
    "\n",
    "scw_ids = scw_ids_filtered\n",
    "scw_versions = scw_versions_filtered\n",
    "scw_start_times = scw_start_times_filtered\n",
    "scw_end_times = scw_end_times_filtered\n",
    "\n",
    "print(\"Found a total of\", np.sum([len(scw_id) for scw_id in scw_ids]), \"ScWs.\")\n",
    "print(\"Number of ScWs found per month: \\n\")\n",
    "for i, scw_sublist in enumerate(scw_ids):\n",
    "    print(f\"Month {i+1} - # of ScWs found: {len(scw_sublist)}\")\n"
   ]
  },
  {
   "cell_type": "markdown",
   "id": "946960b9",
   "metadata": {},
   "source": [
    "STEP 3 - filtering by time"
   ]
  },
  {
   "cell_type": "code",
   "execution_count": 23,
   "id": "560b42a3",
   "metadata": {},
   "outputs": [
    {
     "name": "stdout",
     "output_type": "stream",
     "text": [
      "Found a total of 71 matching ScWs.\n",
      "Number of matching ScWs found per month: \n",
      "\n",
      "Month 1 - # of ScWs found: 6\n",
      "Month 2 - # of ScWs found: 6\n",
      "Month 3 - # of ScWs found: 12\n",
      "Month 4 - # of ScWs found: 9\n",
      "Month 5 - # of ScWs found: 11\n",
      "Month 6 - # of ScWs found: 9\n",
      "Month 7 - # of ScWs found: 9\n",
      "Month 8 - # of ScWs found: 9\n",
      "Month 9 - # of ScWs found: 0\n",
      "Month 10 - # of ScWs found: 0\n",
      "Month 11 - # of ScWs found: 0\n",
      "Month 12 - # of ScWs found: 0\n"
     ]
    }
   ],
   "source": [
    "scw_ids_filtered = []\n",
    "scw_versions_filtered = []\n",
    "scw_start_times_filtered = []\n",
    "scw_end_times_filtered = []\n",
    "\n",
    "for scw_sublist, ver_sublist, start_sublist, end_sublist in zip(scw_ids, scw_versions, scw_start_times, scw_end_times):\n",
    "    \n",
    "    mask = [\n",
    "        (start >= Time(epochs['start'], format='isot').mjd) and\n",
    "        (end <= Time(epochs['stop'], format='isot').mjd)\n",
    "        for start, end in zip(start_sublist, end_sublist)\n",
    "    ]    \n",
    "    filtered_scws = [scw_sublist[i] for i in range(len(scw_sublist)) if mask[i]]\n",
    "    filtered_versions = [ver_sublist[i] for i in range(len(ver_sublist)) if mask[i]]\n",
    "    filtered_start_times = [start_sublist[i] for i in range(len(start_sublist)) if mask[i]]\n",
    "    filtered_end_times = [end_sublist[i] for i in range(len(end_sublist)) if mask[i]]\n",
    "    \n",
    "    scw_ids_filtered.append(filtered_scws)\n",
    "    scw_versions_filtered.append(filtered_versions)\n",
    "    scw_start_times_filtered.append(filtered_start_times)\n",
    "    scw_end_times_filtered.append(filtered_end_times)\n",
    "\n",
    "scw_ids = scw_ids_filtered\n",
    "scw_versions = scw_versions_filtered\n",
    "scw_start_times = scw_start_times_filtered\n",
    "scw_end_times = scw_end_times_filtered\n",
    "\n",
    "print(\"Found a total of\", np.sum([len(scw_id) for scw_id in scw_ids]), \"matching ScWs.\")\n",
    "print(\"Number of matching ScWs found per month: \\n\")\n",
    "for i, scw_sublist in enumerate(scw_ids):\n",
    "    print(f\"Month {i+1} - # of ScWs found: {len(scw_sublist)}\")    "
   ]
  }
 ],
 "metadata": {
  "jupytext": {
   "cell_metadata_filter": "-all",
   "main_language": "python",
   "notebook_metadata_filter": "-all"
  },
  "kernelspec": {
   "display_name": "jupiter_xray",
   "language": "python",
   "name": "python3"
  },
  "language_info": {
   "codemirror_mode": {
    "name": "ipython",
    "version": 3
   },
   "file_extension": ".py",
   "mimetype": "text/x-python",
   "name": "python",
   "nbconvert_exporter": "python",
   "pygments_lexer": "ipython3",
   "version": "3.9.21"
  }
 },
 "nbformat": 4,
 "nbformat_minor": 5
}
