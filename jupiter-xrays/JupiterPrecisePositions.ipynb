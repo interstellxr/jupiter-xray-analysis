{
 "cells": [
  {
   "cell_type": "markdown",
   "id": "b5866304",
   "metadata": {},
   "source": [
    "This code gets Jupiter's position for a given ScW or list of ScWs, also accounting for INTEGRAL's position in orbit (parallax)"
   ]
  },
  {
   "cell_type": "code",
   "execution_count": 36,
   "id": "946759c7",
   "metadata": {},
   "outputs": [],
   "source": [
    "import os\n",
    "import numpy as np\n",
    "import pandas as pd\n",
    "import matplotlib.pyplot as plt\n",
    "import astroquery.heasarc\n",
    "from astroquery.simbad import Simbad\n",
    "from astropy import coordinates as coord\n",
    "from astropy.coordinates import SkyCoord\n",
    "import astropy.units as u\n",
    "from astroquery.jplhorizons import Horizons\n",
    "from collections import defaultdict\n",
    "from astropy.time import Time\n",
    "from astropy.io import fits\n",
    "import requests"
   ]
  },
  {
   "cell_type": "code",
   "execution_count": 37,
   "id": "3443e2dd",
   "metadata": {},
   "outputs": [],
   "source": [
    "def get_integral_position(obs_date):\n",
    "    url = f\"https://www.astro.unige.ch/mmoda/dispatch-data/gw/scsystem/api/v1.0/sc/{obs_date}/0/0\"\n",
    "    response = requests.get(url)\n",
    "    if response.status_code == 200:\n",
    "        data = response.json()\n",
    "        integral_ra = data['ephs']['ra'] \n",
    "        integral_dec = data['ephs']['dec']\n",
    "        integral_alt = data['ephs']['alt']\n",
    "        return integral_ra, integral_dec, integral_alt\n",
    "    else:\n",
    "        raise ValueError(\"Error fetching INTEGRAL data\")\n"
   ]
  },
  {
   "cell_type": "code",
   "execution_count": 144,
   "id": "938aa4fb",
   "metadata": {},
   "outputs": [],
   "source": [
    "jcoords = np.loadtxt(\"../data/Jupiter-ScWs.txt\", delimiter=\",\", skiprows=1, usecols=(4, 5))\n",
    "jupiter_ra = jcoords[:, 0]\n",
    "jupiter_dec = jcoords[:, 1]\n",
    "jupiter_coords = SkyCoord(ra=jupiter_ra, dec=jupiter_dec, unit=\"deg\")\n",
    "\n",
    "jdates = np.loadtxt(\"../data/Jupiter-ScWs.txt\", delimiter=\",\", skiprows=1, usecols=(2,), dtype=str)\n",
    "jdates = [Time(jd, format=\"mjd\").datetime for jd in jdates]"
   ]
  },
  {
   "cell_type": "code",
   "execution_count": 148,
   "id": "b4f3e234",
   "metadata": {},
   "outputs": [],
   "source": [
    "fits_files = np.sort(os.listdir('../data/JupiterIMG_FITS_15_30/')) # list of the jupiter SCW FITS files\n",
    "scws = [f[:16] for f in fits_files] # list of the SCW names\n",
    "\n",
    "scw_dates = []\n",
    "scw_ra = []\n",
    "scw_dec = []\n",
    "scw_jra = []\n",
    "scw_jdec = []\n",
    "expected_jra = []\n",
    "expected_jdec = []\n",
    "\n",
    "parallax = True\n",
    "\n",
    "for f in fits_files[:1]:\n",
    "    with fits.open('../data/JupiterIMG_FITS_15_30/' + f) as hdu:\n",
    "        header = hdu[2].header\n",
    "        obs_date = header['DATE-OBS']\n",
    "        end_date = header['DATE-END']\n",
    "        ra = header['CRVAL1']\n",
    "        dec = header['CRVAL2']\n",
    "\n",
    "        scw_dates.append(obs_date)\n",
    "        scw_ra.append(ra)\n",
    "        scw_dec.append(dec)\n",
    "\n",
    "        date_obs = Time(obs_date).datetime\n",
    "\n",
    "        # Find closest Jupiter position\n",
    "        pointing_coords = SkyCoord(ra=ra*u.deg, dec=dec*u.deg)\n",
    "\n",
    "        closest_idx = jupiter_coords.separation(pointing_coords).argmin()\n",
    "        closest_idx = np.argmin(np.abs([jdates[i] - date_obs for i in range(len(jdates))]))\n",
    "        \n",
    "        j_ra = jupiter_ra[closest_idx]\n",
    "        j_dec = jupiter_dec[closest_idx]\n",
    "\n",
    "        expected_jra.append(j_ra)\n",
    "        expected_jdec.append(j_dec)\n",
    "\n",
    "        epochs = Time(obs_date).jd\n",
    "        jupiter = Horizons(id='599', location='@0', epochs=epochs)\n",
    "        eph = jupiter.ephemerides()\n",
    "        jra = eph['RA']\n",
    "        jdec = eph['DEC']\n",
    "        jdist = eph['delta'] * u.au.to(u.km) * u.km\n",
    "\n",
    "        if parallax:\n",
    "\n",
    "            integral_ra, integral_dec, integral_alt = get_integral_position(obs_date)\n",
    "\n",
    "            integral_position = SkyCoord(ra=integral_ra*u.deg, dec=integral_dec*u.deg, distance=integral_alt*u.km).transform_to('fk5')\n",
    "            jupiter_position = SkyCoord(ra=jra, dec=jdec, distance=jdist).transform_to('fk5')\n",
    "\n",
    "            jupiter_relative_position = jupiter_position.cartesian - integral_position.cartesian\n",
    "\n",
    "            relative_position = SkyCoord(x=jupiter_relative_position.x, \n",
    "                                y=jupiter_relative_position.y, \n",
    "                                z=jupiter_relative_position.z, \n",
    "                                representation_type='cartesian').transform_to(integral_position.frame)\n",
    "\n",
    "            jra = relative_position.ra.value\n",
    "            jdec = relative_position.dec.value\n",
    "\n",
    "        scw_jra.append(jra)\n",
    "        scw_jdec.append(jdec)"
   ]
  },
  {
   "cell_type": "code",
   "execution_count": 159,
   "id": "6972a4c5",
   "metadata": {},
   "outputs": [
    {
     "name": "stdout",
     "output_type": "stream",
     "text": [
      "Jupiter RA: [133.5407836]\n",
      "Jupiter DEC: [18.12350495]\n",
      "Expected Jupiter RA: [196.39812]\n",
      "Expected Jupiter DEC: [-5.57746]\n",
      "SCW RA: 191.178115844727\n",
      "SCW DEC: 0.152548849582672\n"
     ]
    }
   ],
   "source": [
    "print('Jupiter RA:', jra)\n",
    "print('Jupiter DEC:', jdec)\n",
    "\n",
    "print('Expected Jupiter RA:', expected_jra)\n",
    "print('Expected Jupiter DEC:', expected_jdec)\n",
    "\n",
    "print('SCW RA:', ra)\n",
    "print('SCW DEC:', dec)"
   ]
  },
  {
   "cell_type": "markdown",
   "id": "4efb28b1",
   "metadata": {},
   "source": [
    "Save to file"
   ]
  },
  {
   "cell_type": "code",
   "execution_count": 138,
   "id": "ef0217a5",
   "metadata": {},
   "outputs": [],
   "source": [
    "with open('../data/scw_jup_positions.txt', 'w') as f:\n",
    "    f.write(\"SCW,Date,RA,Dec,Jupiter_RA,Jupiter_Dec\\n\")\n",
    "    for scw, date, ra, dec, jra, jdec in zip(scws, scw_dates, scw_ra, scw_dec, scw_jra, scw_jdec):\n",
    "        f.write(f\"{scw},{date},{ra},{dec},{jra},{jdec}\\n\")"
   ]
  }
 ],
 "metadata": {
  "kernelspec": {
   "display_name": "jupiter_xray",
   "language": "python",
   "name": "python3"
  },
  "language_info": {
   "codemirror_mode": {
    "name": "ipython",
    "version": 3
   },
   "file_extension": ".py",
   "mimetype": "text/x-python",
   "name": "python",
   "nbconvert_exporter": "python",
   "pygments_lexer": "ipython3",
   "version": "3.9.21"
  }
 },
 "nbformat": 4,
 "nbformat_minor": 5
}
