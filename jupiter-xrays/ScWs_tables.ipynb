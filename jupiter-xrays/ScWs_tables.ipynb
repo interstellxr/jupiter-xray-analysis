{
 "cells": [
  {
   "cell_type": "code",
   "execution_count": 1,
   "id": "3313429d",
   "metadata": {},
   "outputs": [],
   "source": [
    "import time\n",
    "import astroquery.heasarc\n",
    "from astroquery.simbad import Simbad\n",
    "from astropy import coordinates as coord\n",
    "from astropy.coordinates import SkyCoord\n",
    "import astropy.units as u\n",
    "from astroquery.jplhorizons import Horizons\n",
    "import numpy as np\n",
    "import pandas as pd\n",
    "from collections import defaultdict\n",
    "from astropy.time import Time\n",
    "import matplotlib.pyplot as plt\n",
    "from astropy.io import ascii"
   ]
  },
  {
   "cell_type": "markdown",
   "id": "84f398e7",
   "metadata": {},
   "source": [
    "Jupiter's monthly positions"
   ]
  },
  {
   "cell_type": "code",
   "execution_count": 2,
   "id": "8055dc69",
   "metadata": {},
   "outputs": [
    {
     "name": "stdout",
     "output_type": "stream",
     "text": [
      "Jupiter's monthly position between 2003-01-01 and 2025-01-01: \n",
      "\n",
      "   datetime_str       RA      DEC   \n",
      "       ---           deg      deg   \n",
      "----------------- --------- --------\n",
      "2003-Jan-01 00:00 133.13461 18.23402\n",
      "2003-Feb-01 00:00 135.64353 17.59249\n",
      "2003-Mar-04 00:00  138.1248 16.92216\n",
      "2003-Apr-04 00:00 140.57899 16.22478\n",
      "2003-May-05 00:00 143.00678 15.50206\n",
      "2003-Jun-05 00:00 145.40891  14.7557\n",
      "2003-Jul-06 00:00 147.78632 13.98736\n",
      "2003-Aug-06 00:00    150.14 13.19866\n",
      "2003-Sep-06 00:00 152.47101 12.39117\n",
      "2003-Oct-07 00:00 154.78053 11.56645\n",
      "              ...       ...      ...\n",
      "2024-Mar-21 00:00  50.60927 17.52697\n",
      "2024-Apr-21 00:00  53.43087 18.24997\n",
      "2024-May-22 00:00  56.26678 18.92932\n",
      "2024-Jun-22 00:00    59.116 19.56331\n",
      "2024-Jul-23 00:00  61.97734 20.15039\n",
      "2024-Aug-23 00:00  64.84944 20.68914\n",
      "2024-Sep-23 00:00  67.73074 21.17832\n",
      "2024-Oct-24 00:00  70.61942 21.61685\n",
      "2024-Nov-24 00:00  73.51359 22.00384\n",
      "2024-Dec-25 00:00  76.41117 22.33857\n",
      "Length = 260 rows\n"
     ]
    }
   ],
   "source": [
    "epochs = {'start':'2003-01-01', 'stop':'2025-01-01', 'step':'31d'}\n",
    "\n",
    "jupiter = Horizons(id='599', location='@0',epochs=epochs) \n",
    "eph = jupiter.ephemerides()\n",
    "\n",
    "ra_values = eph['RA']\n",
    "dec_values = eph['DEC']\n",
    "datetime_values = eph['datetime_jd']\n",
    "print(f\"Jupiter's monthly position between {epochs['start']} and {epochs['stop']}: \\n\")\n",
    "print(eph[['datetime_str', 'RA', 'DEC']])\n",
    "\n",
    "monthly_intervals = []\n",
    "for i in range(len(datetime_values) - 1):  \n",
    "    start_time = Time(datetime_values[i], format='jd').mjd\n",
    "    end_time = Time(datetime_values[i + 1], format='jd').mjd\n",
    "    monthly_intervals.append((start_time, end_time))\n"
   ]
  },
  {
   "cell_type": "markdown",
   "id": "0aba004f",
   "metadata": {},
   "source": [
    "Get the entire full sky table"
   ]
  },
  {
   "cell_type": "code",
   "execution_count": 3,
   "id": "fe428fe0",
   "metadata": {},
   "outputs": [
    {
     "data": {
      "text/html": [
       "<div><i>Table length=100000</i>\n",
       "<table id=\"table139860702205840\" class=\"table-striped table-bordered table-condensed\">\n",
       "<thead><tr><th>scw_id</th><th>scw_ver</th><th>scw_type</th><th>status</th><th>data_in_heasarc</th><th>ra</th><th>dec</th><th>good_spi</th><th>good_isgri</th><th>good_picsit</th><th>good_jemx1</th><th>good_jemx2</th><th>good_omc</th><th>start_date</th><th>end_date</th><th>obs_id</th><th>obs_type</th><th>pi_name</th><th>data_size</th><th>__row</th></tr></thead>\n",
       "<thead><tr><th>int64</th><th>int64</th><th>str8</th><th>str7</th><th>str1</th><th>float64</th><th>float64</th><th>int64</th><th>int64</th><th>int64</th><th>int64</th><th>int64</th><th>int64</th><th>float64</th><th>float64</th><th>str62</th><th>str13</th><th>str93</th><th>int64</th><th>int64</th></tr></thead>\n",
       "<tr><td>207800280021</td><td>1</td><td>slew</td><td>public</td><td>Y</td><td>47.95158</td><td>-89.85108</td><td>975</td><td>976</td><td>0</td><td>975</td><td>974</td><td>976</td><td>58584.8798067897</td><td>58584.8911030961</td><td>--</td><td>--</td><td>--</td><td>42106880</td><td>1</td></tr>\n",
       "<tr><td>218500510010</td><td>1</td><td>pointing</td><td>public</td><td>Y</td><td>294.97232</td><td>-89.65222</td><td>5772</td><td>5770</td><td>1709</td><td>5772</td><td>5772</td><td>5772</td><td>58870.8615711961</td><td>58870.9290133643</td><td>17200120001</td><td>General</td><td>Moritz M. M. Pleintinger</td><td>250466304</td><td>3</td></tr>\n",
       "<tr><td>218300230021</td><td>1</td><td>slew</td><td>public</td><td>Y</td><td>27.95042</td><td>-89.55722</td><td>137</td><td>137</td><td>0</td><td>135</td><td>135</td><td>0</td><td>58864.2218220474</td><td>58864.2234076965</td><td>17200120001</td><td>General</td><td>Moritz M. M. Pleintinger</td><td>6930432</td><td>7</td></tr>\n",
       "<tr><td>230300440021</td><td>1</td><td>slew</td><td>public</td><td>Y</td><td>58.73615</td><td>-89.51254</td><td>136</td><td>137</td><td>0</td><td>136</td><td>136</td><td>0</td><td>59184.3325168109</td><td>59184.3341024602</td><td>--</td><td>--</td><td>--</td><td>7454720</td><td>11</td></tr>\n",
       "<tr><td>229900030021</td><td>1</td><td>slew</td><td>public</td><td>Y</td><td>275.12358</td><td>-89.43092</td><td>115</td><td>110</td><td>0</td><td>115</td><td>81</td><td>0</td><td>59172.0166874964</td><td>59172.0180300899</td><td>17200120002</td><td>General</td><td>Moritz M. M. Pleintinger</td><td>6631424</td><td>14</td></tr>\n",
       "<tr><td>230300490010</td><td>1</td><td>pointing</td><td>public</td><td>Y</td><td>11.65258</td><td>-89.23714</td><td>3472</td><td>3084</td><td>3440</td><td>3472</td><td>3472</td><td>3472</td><td>59184.572320224</td><td>59184.6131188626</td><td>17200120002</td><td>General</td><td>Moritz M. M. Pleintinger</td><td>159584256</td><td>23</td></tr>\n",
       "<tr><td>218400210010</td><td>1</td><td>pointing</td><td>public</td><td>Y</td><td>284.91614</td><td>-89.19434</td><td>3504</td><td>3502</td><td>3472</td><td>3504</td><td>3504</td><td>3503</td><td>58866.860677714</td><td>58866.9015342187</td><td>17200120001</td><td>General</td><td>Moritz M. M. Pleintinger</td><td>154615808</td><td>25</td></tr>\n",
       "<tr><td>229200810021</td><td>1</td><td>slew</td><td>public</td><td>Y</td><td>275.15002</td><td>-89.16277</td><td>133</td><td>134</td><td>0</td><td>132</td><td>124</td><td>0</td><td>59155.4036450234</td><td>59155.4051959502</td><td>17200120002</td><td>General</td><td>Moritz M. M. Pleintinger</td><td>7000064</td><td>27</td></tr>\n",
       "<tr><td>218400520010</td><td>1</td><td>pointing</td><td>public</td><td>Y</td><td>351.69272</td><td>-89.14411</td><td>3484</td><td>3484</td><td>3467</td><td>3484</td><td>3484</td><td>3484</td><td>58868.210528019</td><td>58868.2514308201</td><td>17200120001</td><td>General</td><td>Moritz M. M. Pleintinger</td><td>156672000</td><td>30</td></tr>\n",
       "<tr><td>218400520020</td><td>1</td><td>pointing</td><td>public</td><td>Y</td><td>351.69272</td><td>-89.14411</td><td>4511</td><td>4510</td><td>0</td><td>3352</td><td>3351</td><td>4512</td><td>58868.2514308201</td><td>58868.303653072</td><td>17200120001</td><td>General</td><td>Moritz M. M. Pleintinger</td><td>209494016</td><td>31</td></tr>\n",
       "<tr><td>...</td><td>...</td><td>...</td><td>...</td><td>...</td><td>...</td><td>...</td><td>...</td><td>...</td><td>...</td><td>...</td><td>...</td><td>...</td><td>...</td><td>...</td><td>...</td><td>...</td><td>...</td><td>...</td><td>...</td></tr>\n",
       "<tr><td>221800070021</td><td>1</td><td>slew</td><td>public</td><td>Y</td><td>285.18876</td><td>9.46089</td><td>127</td><td>129</td><td>0</td><td>129</td><td>130</td><td>0</td><td>58956.5935704733</td><td>58956.5950635298</td><td>17200070002</td><td>General</td><td>Dr. Jerome Rodriguez</td><td>6815744</td><td>288370</td></tr>\n",
       "<tr><td>208900660010</td><td>1</td><td>pointing</td><td>public</td><td>Y</td><td>277.20258</td><td>9.46194</td><td>1958</td><td>1957</td><td>1933</td><td>1954</td><td>1954</td><td>1958</td><td>58614.9996229801</td><td>58615.0229216095</td><td>15200260111</td><td>General</td><td>Dr. Alexander Lutovinov</td><td>83636224</td><td>288372</td></tr>\n",
       "<tr><td>79700530021</td><td>1</td><td>slew</td><td>public</td><td>Y</td><td>287.39194</td><td>9.46215</td><td>0</td><td>117</td><td>112</td><td>116</td><td>116</td><td>0</td><td>54946.5140927765</td><td>54946.515446944</td><td>06200540001</td><td>General</td><td>Dr. Katja Pottschmidt</td><td>4456448</td><td>288374</td></tr>\n",
       "<tr><td>79700530021</td><td>2</td><td>slew</td><td>public</td><td>Y</td><td>287.39194</td><td>9.46215</td><td>--</td><td>--</td><td>--</td><td>--</td><td>--</td><td>--</td><td>54946.5140927765</td><td>54946.515446944</td><td>06200540001</td><td>General</td><td>Dr. Katja Pottschmidt</td><td>4599808</td><td>288375</td></tr>\n",
       "<tr><td>208900520010</td><td>1</td><td>pointing</td><td>public</td><td>Y</td><td>273.06805</td><td>9.46225</td><td>4146</td><td>4159</td><td>4222</td><td>4149</td><td>4148</td><td>4244</td><td>58614.6446689866</td><td>58614.6944606921</td><td>15200260109</td><td>General</td><td>Dr. Alexander Lutovinov</td><td>172081152</td><td>288376</td></tr>\n",
       "<tr><td>209000880010</td><td>1</td><td>pointing</td><td>public</td><td>Y</td><td>276.45761</td><td>9.46244</td><td>1960</td><td>1958</td><td>1934</td><td>1960</td><td>1960</td><td>1960</td><td>58618.1065005618</td><td>58618.1297876178</td><td>15200260117</td><td>General</td><td>Dr. Alexander Lutovinov</td><td>85057536</td><td>288378</td></tr>\n",
       "<tr><td>116700090021</td><td>1</td><td>slew</td><td>public</td><td>Y</td><td>287.9398</td><td>9.46266</td><td>115</td><td>116</td><td>112</td><td>115</td><td>0</td><td>0</td><td>56051.3620100104</td><td>56051.3633526041</td><td>09200080015</td><td>General</td><td>Prof. Joern Wilms</td><td>5738496</td><td>288379</td></tr>\n",
       "<tr><td>123100220021</td><td>1</td><td>slew</td><td>public</td><td>Y</td><td>291.32416</td><td>9.46274</td><td>114</td><td>115</td><td>104</td><td>114</td><td>115</td><td>0</td><td>56243.13848822</td><td>56243.1398192394</td><td>09200080025</td><td>General</td><td>Prof. Joern Wilms</td><td>5648384</td><td>288380</td></tr>\n",
       "<tr><td>49500080010</td><td>1</td><td>pointing</td><td>public</td><td>Y</td><td>287.30316</td><td>9.46283</td><td>2853</td><td>2834</td><td>2814</td><td>2794</td><td>0</td><td>2815</td><td>54041.0875820411</td><td>54041.1206607659</td><td>04200340009</td><td>General</td><td>Dr. Jerome Rodriguez</td><td>121327616</td><td>288381</td></tr>\n",
       "<tr><td>257600770010</td><td>1</td><td>pointing</td><td>public</td><td>Y</td><td>322.90076</td><td>9.46289</td><td>3318</td><td>3317</td><td>3286</td><td>3318</td><td>3318</td><td>0</td><td>59910.8818689364</td><td>59910.9204569274</td><td>19200130002</td><td>General</td><td>Dr. Thomas Siegert</td><td>124768256</td><td>288382</td></tr>\n",
       "</table></div>"
      ],
      "text/plain": [
       "<Table length=100000>\n",
       "   scw_id    scw_ver scw_type ...         pi_name          data_size __row \n",
       "   int64      int64    str8   ...          str93             int64   int64 \n",
       "------------ ------- -------- ... ------------------------ --------- ------\n",
       "207800280021       1     slew ...                       --  42106880      1\n",
       "218500510010       1 pointing ... Moritz M. M. Pleintinger 250466304      3\n",
       "218300230021       1     slew ... Moritz M. M. Pleintinger   6930432      7\n",
       "230300440021       1     slew ...                       --   7454720     11\n",
       "229900030021       1     slew ... Moritz M. M. Pleintinger   6631424     14\n",
       "230300490010       1 pointing ... Moritz M. M. Pleintinger 159584256     23\n",
       "218400210010       1 pointing ... Moritz M. M. Pleintinger 154615808     25\n",
       "229200810021       1     slew ... Moritz M. M. Pleintinger   7000064     27\n",
       "218400520010       1 pointing ... Moritz M. M. Pleintinger 156672000     30\n",
       "218400520020       1 pointing ... Moritz M. M. Pleintinger 209494016     31\n",
       "         ...     ...      ... ...                      ...       ...    ...\n",
       "221800070021       1     slew ...     Dr. Jerome Rodriguez   6815744 288370\n",
       "208900660010       1 pointing ...  Dr. Alexander Lutovinov  83636224 288372\n",
       " 79700530021       1     slew ...    Dr. Katja Pottschmidt   4456448 288374\n",
       " 79700530021       2     slew ...    Dr. Katja Pottschmidt   4599808 288375\n",
       "208900520010       1 pointing ...  Dr. Alexander Lutovinov 172081152 288376\n",
       "209000880010       1 pointing ...  Dr. Alexander Lutovinov  85057536 288378\n",
       "116700090021       1     slew ...        Prof. Joern Wilms   5738496 288379\n",
       "123100220021       1     slew ...        Prof. Joern Wilms   5648384 288380\n",
       " 49500080010       1 pointing ...     Dr. Jerome Rodriguez 121327616 288381\n",
       "257600770010       1 pointing ...       Dr. Thomas Siegert 124768256 288382"
      ]
     },
     "execution_count": 3,
     "metadata": {},
     "output_type": "execute_result"
    }
   ],
   "source": [
    "Heasarc = astroquery.heasarc.Heasarc()\n",
    "\n",
    "load = True\n",
    "if load:\n",
    "    table = ascii.read('../data/full_table.dat')\n",
    "else:\n",
    "    table = Heasarc.query_region(SkyCoord(ra=0, dec=0, unit='deg'), radius=90*u.deg, maxrec=1000000, catalog='intscw')\n",
    "    ascii.write(table, '../data/full_table.dat', overwrite=True)\n",
    "\n",
    "table"
   ]
  },
  {
   "cell_type": "markdown",
   "id": "33094eb0",
   "metadata": {},
   "source": [
    "Filter for pointing type"
   ]
  },
  {
   "cell_type": "code",
   "execution_count": 4,
   "id": "65c13aa2",
   "metadata": {},
   "outputs": [
    {
     "data": {
      "text/html": [
       "<div><i>Table length=49230</i>\n",
       "<table id=\"table139860702249600\" class=\"table-striped table-bordered table-condensed\">\n",
       "<thead><tr><th>scw_id</th><th>scw_ver</th><th>scw_type</th><th>status</th><th>data_in_heasarc</th><th>ra</th><th>dec</th><th>good_spi</th><th>good_isgri</th><th>good_picsit</th><th>good_jemx1</th><th>good_jemx2</th><th>good_omc</th><th>start_date</th><th>end_date</th><th>obs_id</th><th>obs_type</th><th>pi_name</th><th>data_size</th><th>__row</th></tr></thead>\n",
       "<thead><tr><th>int64</th><th>int64</th><th>str8</th><th>str7</th><th>str1</th><th>float64</th><th>float64</th><th>int64</th><th>int64</th><th>int64</th><th>int64</th><th>int64</th><th>int64</th><th>float64</th><th>float64</th><th>str62</th><th>str13</th><th>str93</th><th>int64</th><th>int64</th></tr></thead>\n",
       "<tr><td>218500510010</td><td>1</td><td>pointing</td><td>public</td><td>Y</td><td>294.97232</td><td>-89.65222</td><td>5772</td><td>5770</td><td>1709</td><td>5772</td><td>5772</td><td>5772</td><td>58870.8615711961</td><td>58870.9290133643</td><td>17200120001</td><td>General</td><td>Moritz M. M. Pleintinger</td><td>250466304</td><td>3</td></tr>\n",
       "<tr><td>230300490010</td><td>1</td><td>pointing</td><td>public</td><td>Y</td><td>11.65258</td><td>-89.23714</td><td>3472</td><td>3084</td><td>3440</td><td>3472</td><td>3472</td><td>3472</td><td>59184.572320224</td><td>59184.6131188626</td><td>17200120002</td><td>General</td><td>Moritz M. M. Pleintinger</td><td>159584256</td><td>23</td></tr>\n",
       "<tr><td>218400210010</td><td>1</td><td>pointing</td><td>public</td><td>Y</td><td>284.91614</td><td>-89.19434</td><td>3504</td><td>3502</td><td>3472</td><td>3504</td><td>3504</td><td>3503</td><td>58866.860677714</td><td>58866.9015342187</td><td>17200120001</td><td>General</td><td>Moritz M. M. Pleintinger</td><td>154615808</td><td>25</td></tr>\n",
       "<tr><td>218400520010</td><td>1</td><td>pointing</td><td>public</td><td>Y</td><td>351.69272</td><td>-89.14411</td><td>3484</td><td>3484</td><td>3467</td><td>3484</td><td>3484</td><td>3484</td><td>58868.210528019</td><td>58868.2514308201</td><td>17200120001</td><td>General</td><td>Moritz M. M. Pleintinger</td><td>156672000</td><td>30</td></tr>\n",
       "<tr><td>218400520020</td><td>1</td><td>pointing</td><td>public</td><td>Y</td><td>351.69272</td><td>-89.14411</td><td>4511</td><td>4510</td><td>0</td><td>3352</td><td>3351</td><td>4512</td><td>58868.2514308201</td><td>58868.303653072</td><td>17200120001</td><td>General</td><td>Moritz M. M. Pleintinger</td><td>209494016</td><td>31</td></tr>\n",
       "<tr><td>218400020010</td><td>1</td><td>pointing</td><td>public</td><td>Y</td><td>62.20154</td><td>-89.06347</td><td>2368</td><td>2300</td><td>0</td><td>1962</td><td>1962</td><td>1252</td><td>58866.0568462387</td><td>58866.0984319108</td><td>17200120001</td><td>General</td><td>Moritz M. M. Pleintinger</td><td>160223232</td><td>32</td></tr>\n",
       "<tr><td>218400010010</td><td>1</td><td>pointing</td><td>public</td><td>Y</td><td>62.29213</td><td>-89.06245</td><td>643</td><td>0</td><td>0</td><td>0</td><td>0</td><td>1054</td><td>58866.0422281748</td><td>58866.0555036454</td><td>--</td><td>--</td><td>--</td><td>13348864</td><td>34</td></tr>\n",
       "<tr><td>218500190010</td><td>1</td><td>pointing</td><td>public</td><td>Y</td><td>24.07567</td><td>-89.05664</td><td>3487</td><td>3485</td><td>3458</td><td>3487</td><td>3487</td><td>3484</td><td>58869.4612579008</td><td>58869.5019986645</td><td>17200120001</td><td>General</td><td>Moritz M. M. Pleintinger</td><td>154918912</td><td>35</td></tr>\n",
       "<tr><td>229900100010</td><td>1</td><td>pointing</td><td>public</td><td>Y</td><td>289.3252</td><td>-89.00825</td><td>3478</td><td>3218</td><td>3443</td><td>3478</td><td>3478</td><td>3478</td><td>59172.2876946125</td><td>59172.3285163969</td><td>17200120002</td><td>General</td><td>Moritz M. M. Pleintinger</td><td>157827072</td><td>36</td></tr>\n",
       "<tr><td>229400830010</td><td>1</td><td>pointing</td><td>public</td><td>Y</td><td>9.95142</td><td>-89.0055</td><td>4977</td><td>3116</td><td>0</td><td>1578</td><td>1578</td><td>4163</td><td>59160.8586945797</td><td>59160.9184747059</td><td>17200120002</td><td>General</td><td>Moritz M. M. Pleintinger</td><td>191270912</td><td>37</td></tr>\n",
       "<tr><td>...</td><td>...</td><td>...</td><td>...</td><td>...</td><td>...</td><td>...</td><td>...</td><td>...</td><td>...</td><td>...</td><td>...</td><td>...</td><td>...</td><td>...</td><td>...</td><td>...</td><td>...</td><td>...</td><td>...</td></tr>\n",
       "<tr><td>73000900010</td><td>1</td><td>pointing</td><td>public</td><td>Y</td><td>289.93134</td><td>9.45606</td><td>1898</td><td>1896</td><td>1876</td><td>1891</td><td>0</td><td>1898</td><td>54745.9952054291</td><td>54746.0178443336</td><td>06200590003</td><td>General</td><td>Prof. Rashid Sunyaev</td><td>90445824</td><td>288349</td></tr>\n",
       "<tr><td>263700060010</td><td>1</td><td>pointing</td><td>public</td><td>Y</td><td>284.36874</td><td>9.45753</td><td>3572</td><td>3571</td><td>3537</td><td>3572</td><td>3572</td><td>0</td><td>60071.2301674812</td><td>60071.2718457474</td><td>20200020004</td><td>General</td><td>Dr. Jerome Rodriguez</td><td>125693952</td><td>288355</td></tr>\n",
       "<tr><td>181300340010</td><td>1</td><td>pointing</td><td>public</td><td>Y</td><td>295.85709</td><td>9.45842</td><td>2121</td><td>2120</td><td>2096</td><td>2121</td><td>2121</td><td>2121</td><td>57880.5080260234</td><td>57880.5332575244</td><td>14200320001</td><td>General</td><td>Dr. Alexander Lutovinov</td><td>88416256</td><td>288360</td></tr>\n",
       "<tr><td>181500470010</td><td>1</td><td>pointing</td><td>public</td><td>Y</td><td>296.46295</td><td>9.45897</td><td>2125</td><td>2123</td><td>2104</td><td>2125</td><td>2125</td><td>2125</td><td>57886.5029615903</td><td>57886.5282162404</td><td>14200320001</td><td>General</td><td>Dr. Alexander Lutovinov</td><td>89202688</td><td>288362</td></tr>\n",
       "<tr><td>215900270010</td><td>1</td><td>pointing</td><td>public</td><td>Y</td><td>283.82672</td><td>9.46008</td><td>1734</td><td>1733</td><td>1707</td><td>1734</td><td>1734</td><td>1734</td><td>58800.083962667</td><td>58800.1046686996</td><td>16200080010</td><td>General</td><td>Dr. Jerome Rodriguez</td><td>79495168</td><td>288367</td></tr>\n",
       "<tr><td>208900660010</td><td>1</td><td>pointing</td><td>public</td><td>Y</td><td>277.20258</td><td>9.46194</td><td>1958</td><td>1957</td><td>1933</td><td>1954</td><td>1954</td><td>1958</td><td>58614.9996229801</td><td>58615.0229216095</td><td>15200260111</td><td>General</td><td>Dr. Alexander Lutovinov</td><td>83636224</td><td>288372</td></tr>\n",
       "<tr><td>208900520010</td><td>1</td><td>pointing</td><td>public</td><td>Y</td><td>273.06805</td><td>9.46225</td><td>4146</td><td>4159</td><td>4222</td><td>4149</td><td>4148</td><td>4244</td><td>58614.6446689866</td><td>58614.6944606921</td><td>15200260109</td><td>General</td><td>Dr. Alexander Lutovinov</td><td>172081152</td><td>288376</td></tr>\n",
       "<tr><td>209000880010</td><td>1</td><td>pointing</td><td>public</td><td>Y</td><td>276.45761</td><td>9.46244</td><td>1960</td><td>1958</td><td>1934</td><td>1960</td><td>1960</td><td>1960</td><td>58618.1065005618</td><td>58618.1297876178</td><td>15200260117</td><td>General</td><td>Dr. Alexander Lutovinov</td><td>85057536</td><td>288378</td></tr>\n",
       "<tr><td>49500080010</td><td>1</td><td>pointing</td><td>public</td><td>Y</td><td>287.30316</td><td>9.46283</td><td>2853</td><td>2834</td><td>2814</td><td>2794</td><td>0</td><td>2815</td><td>54041.0875820411</td><td>54041.1206607659</td><td>04200340009</td><td>General</td><td>Dr. Jerome Rodriguez</td><td>121327616</td><td>288381</td></tr>\n",
       "<tr><td>257600770010</td><td>1</td><td>pointing</td><td>public</td><td>Y</td><td>322.90076</td><td>9.46289</td><td>3318</td><td>3317</td><td>3286</td><td>3318</td><td>3318</td><td>0</td><td>59910.8818689364</td><td>59910.9204569274</td><td>19200130002</td><td>General</td><td>Dr. Thomas Siegert</td><td>124768256</td><td>288382</td></tr>\n",
       "</table></div>"
      ],
      "text/plain": [
       "<Table length=49230>\n",
       "   scw_id    scw_ver scw_type ...         pi_name          data_size __row \n",
       "   int64      int64    str8   ...          str93             int64   int64 \n",
       "------------ ------- -------- ... ------------------------ --------- ------\n",
       "218500510010       1 pointing ... Moritz M. M. Pleintinger 250466304      3\n",
       "230300490010       1 pointing ... Moritz M. M. Pleintinger 159584256     23\n",
       "218400210010       1 pointing ... Moritz M. M. Pleintinger 154615808     25\n",
       "218400520010       1 pointing ... Moritz M. M. Pleintinger 156672000     30\n",
       "218400520020       1 pointing ... Moritz M. M. Pleintinger 209494016     31\n",
       "218400020010       1 pointing ... Moritz M. M. Pleintinger 160223232     32\n",
       "218400010010       1 pointing ...                       --  13348864     34\n",
       "218500190010       1 pointing ... Moritz M. M. Pleintinger 154918912     35\n",
       "229900100010       1 pointing ... Moritz M. M. Pleintinger 157827072     36\n",
       "229400830010       1 pointing ... Moritz M. M. Pleintinger 191270912     37\n",
       "         ...     ...      ... ...                      ...       ...    ...\n",
       " 73000900010       1 pointing ...     Prof. Rashid Sunyaev  90445824 288349\n",
       "263700060010       1 pointing ...     Dr. Jerome Rodriguez 125693952 288355\n",
       "181300340010       1 pointing ...  Dr. Alexander Lutovinov  88416256 288360\n",
       "181500470010       1 pointing ...  Dr. Alexander Lutovinov  89202688 288362\n",
       "215900270010       1 pointing ...     Dr. Jerome Rodriguez  79495168 288367\n",
       "208900660010       1 pointing ...  Dr. Alexander Lutovinov  83636224 288372\n",
       "208900520010       1 pointing ...  Dr. Alexander Lutovinov 172081152 288376\n",
       "209000880010       1 pointing ...  Dr. Alexander Lutovinov  85057536 288378\n",
       " 49500080010       1 pointing ...     Dr. Jerome Rodriguez 121327616 288381\n",
       "257600770010       1 pointing ...       Dr. Thomas Siegert 124768256 288382"
      ]
     },
     "execution_count": 4,
     "metadata": {},
     "output_type": "execute_result"
    }
   ],
   "source": [
    "pointing_table = table[table['scw_type'] == 'pointing']\n",
    "pointing_table"
   ]
  },
  {
   "cell_type": "markdown",
   "id": "b20a2a2b",
   "metadata": {},
   "source": [
    "Filter for good_isgri > 1000"
   ]
  },
  {
   "cell_type": "code",
   "execution_count": 5,
   "id": "08196118",
   "metadata": {},
   "outputs": [
    {
     "data": {
      "text/html": [
       "<div><i>Table length=42336</i>\n",
       "<table id=\"table139860700589984\" class=\"table-striped table-bordered table-condensed\">\n",
       "<thead><tr><th>scw_id</th><th>scw_ver</th><th>scw_type</th><th>status</th><th>data_in_heasarc</th><th>ra</th><th>dec</th><th>good_spi</th><th>good_isgri</th><th>good_picsit</th><th>good_jemx1</th><th>good_jemx2</th><th>good_omc</th><th>start_date</th><th>end_date</th><th>obs_id</th><th>obs_type</th><th>pi_name</th><th>data_size</th><th>__row</th></tr></thead>\n",
       "<thead><tr><th>int64</th><th>int64</th><th>str8</th><th>str7</th><th>str1</th><th>float64</th><th>float64</th><th>int64</th><th>int64</th><th>int64</th><th>int64</th><th>int64</th><th>int64</th><th>float64</th><th>float64</th><th>str62</th><th>str13</th><th>str93</th><th>int64</th><th>int64</th></tr></thead>\n",
       "<tr><td>218500510010</td><td>1</td><td>pointing</td><td>public</td><td>Y</td><td>294.97232</td><td>-89.65222</td><td>5772</td><td>5770</td><td>1709</td><td>5772</td><td>5772</td><td>5772</td><td>58870.8615711961</td><td>58870.9290133643</td><td>17200120001</td><td>General</td><td>Moritz M. M. Pleintinger</td><td>250466304</td><td>3</td></tr>\n",
       "<tr><td>230300490010</td><td>1</td><td>pointing</td><td>public</td><td>Y</td><td>11.65258</td><td>-89.23714</td><td>3472</td><td>3084</td><td>3440</td><td>3472</td><td>3472</td><td>3472</td><td>59184.572320224</td><td>59184.6131188626</td><td>17200120002</td><td>General</td><td>Moritz M. M. Pleintinger</td><td>159584256</td><td>23</td></tr>\n",
       "<tr><td>218400210010</td><td>1</td><td>pointing</td><td>public</td><td>Y</td><td>284.91614</td><td>-89.19434</td><td>3504</td><td>3502</td><td>3472</td><td>3504</td><td>3504</td><td>3503</td><td>58866.860677714</td><td>58866.9015342187</td><td>17200120001</td><td>General</td><td>Moritz M. M. Pleintinger</td><td>154615808</td><td>25</td></tr>\n",
       "<tr><td>218400520010</td><td>1</td><td>pointing</td><td>public</td><td>Y</td><td>351.69272</td><td>-89.14411</td><td>3484</td><td>3484</td><td>3467</td><td>3484</td><td>3484</td><td>3484</td><td>58868.210528019</td><td>58868.2514308201</td><td>17200120001</td><td>General</td><td>Moritz M. M. Pleintinger</td><td>156672000</td><td>30</td></tr>\n",
       "<tr><td>218400520020</td><td>1</td><td>pointing</td><td>public</td><td>Y</td><td>351.69272</td><td>-89.14411</td><td>4511</td><td>4510</td><td>0</td><td>3352</td><td>3351</td><td>4512</td><td>58868.2514308201</td><td>58868.303653072</td><td>17200120001</td><td>General</td><td>Moritz M. M. Pleintinger</td><td>209494016</td><td>31</td></tr>\n",
       "<tr><td>218400020010</td><td>1</td><td>pointing</td><td>public</td><td>Y</td><td>62.20154</td><td>-89.06347</td><td>2368</td><td>2300</td><td>0</td><td>1962</td><td>1962</td><td>1252</td><td>58866.0568462387</td><td>58866.0984319108</td><td>17200120001</td><td>General</td><td>Moritz M. M. Pleintinger</td><td>160223232</td><td>32</td></tr>\n",
       "<tr><td>218500190010</td><td>1</td><td>pointing</td><td>public</td><td>Y</td><td>24.07567</td><td>-89.05664</td><td>3487</td><td>3485</td><td>3458</td><td>3487</td><td>3487</td><td>3484</td><td>58869.4612579008</td><td>58869.5019986645</td><td>17200120001</td><td>General</td><td>Moritz M. M. Pleintinger</td><td>154918912</td><td>35</td></tr>\n",
       "<tr><td>229900100010</td><td>1</td><td>pointing</td><td>public</td><td>Y</td><td>289.3252</td><td>-89.00825</td><td>3478</td><td>3218</td><td>3443</td><td>3478</td><td>3478</td><td>3478</td><td>59172.2876946125</td><td>59172.3285163969</td><td>17200120002</td><td>General</td><td>Moritz M. M. Pleintinger</td><td>157827072</td><td>36</td></tr>\n",
       "<tr><td>229400830010</td><td>1</td><td>pointing</td><td>public</td><td>Y</td><td>9.95142</td><td>-89.0055</td><td>4977</td><td>3116</td><td>0</td><td>1578</td><td>1578</td><td>4163</td><td>59160.8586945797</td><td>59160.9184747059</td><td>17200120002</td><td>General</td><td>Moritz M. M. Pleintinger</td><td>191270912</td><td>37</td></tr>\n",
       "<tr><td>230300440010</td><td>1</td><td>pointing</td><td>public</td><td>Y</td><td>348.93951</td><td>-88.80573</td><td>3469</td><td>3038</td><td>3433</td><td>3463</td><td>3463</td><td>3469</td><td>59184.2917413162</td><td>59184.3325168109</td><td>17200120002</td><td>General</td><td>Moritz M. M. Pleintinger</td><td>160366592</td><td>50</td></tr>\n",
       "<tr><td>...</td><td>...</td><td>...</td><td>...</td><td>...</td><td>...</td><td>...</td><td>...</td><td>...</td><td>...</td><td>...</td><td>...</td><td>...</td><td>...</td><td>...</td><td>...</td><td>...</td><td>...</td><td>...</td><td>...</td></tr>\n",
       "<tr><td>73000900010</td><td>1</td><td>pointing</td><td>public</td><td>Y</td><td>289.93134</td><td>9.45606</td><td>1898</td><td>1896</td><td>1876</td><td>1891</td><td>0</td><td>1898</td><td>54745.9952054291</td><td>54746.0178443336</td><td>06200590003</td><td>General</td><td>Prof. Rashid Sunyaev</td><td>90445824</td><td>288349</td></tr>\n",
       "<tr><td>263700060010</td><td>1</td><td>pointing</td><td>public</td><td>Y</td><td>284.36874</td><td>9.45753</td><td>3572</td><td>3571</td><td>3537</td><td>3572</td><td>3572</td><td>0</td><td>60071.2301674812</td><td>60071.2718457474</td><td>20200020004</td><td>General</td><td>Dr. Jerome Rodriguez</td><td>125693952</td><td>288355</td></tr>\n",
       "<tr><td>181300340010</td><td>1</td><td>pointing</td><td>public</td><td>Y</td><td>295.85709</td><td>9.45842</td><td>2121</td><td>2120</td><td>2096</td><td>2121</td><td>2121</td><td>2121</td><td>57880.5080260234</td><td>57880.5332575244</td><td>14200320001</td><td>General</td><td>Dr. Alexander Lutovinov</td><td>88416256</td><td>288360</td></tr>\n",
       "<tr><td>181500470010</td><td>1</td><td>pointing</td><td>public</td><td>Y</td><td>296.46295</td><td>9.45897</td><td>2125</td><td>2123</td><td>2104</td><td>2125</td><td>2125</td><td>2125</td><td>57886.5029615903</td><td>57886.5282162404</td><td>14200320001</td><td>General</td><td>Dr. Alexander Lutovinov</td><td>89202688</td><td>288362</td></tr>\n",
       "<tr><td>215900270010</td><td>1</td><td>pointing</td><td>public</td><td>Y</td><td>283.82672</td><td>9.46008</td><td>1734</td><td>1733</td><td>1707</td><td>1734</td><td>1734</td><td>1734</td><td>58800.083962667</td><td>58800.1046686996</td><td>16200080010</td><td>General</td><td>Dr. Jerome Rodriguez</td><td>79495168</td><td>288367</td></tr>\n",
       "<tr><td>208900660010</td><td>1</td><td>pointing</td><td>public</td><td>Y</td><td>277.20258</td><td>9.46194</td><td>1958</td><td>1957</td><td>1933</td><td>1954</td><td>1954</td><td>1958</td><td>58614.9996229801</td><td>58615.0229216095</td><td>15200260111</td><td>General</td><td>Dr. Alexander Lutovinov</td><td>83636224</td><td>288372</td></tr>\n",
       "<tr><td>208900520010</td><td>1</td><td>pointing</td><td>public</td><td>Y</td><td>273.06805</td><td>9.46225</td><td>4146</td><td>4159</td><td>4222</td><td>4149</td><td>4148</td><td>4244</td><td>58614.6446689866</td><td>58614.6944606921</td><td>15200260109</td><td>General</td><td>Dr. Alexander Lutovinov</td><td>172081152</td><td>288376</td></tr>\n",
       "<tr><td>209000880010</td><td>1</td><td>pointing</td><td>public</td><td>Y</td><td>276.45761</td><td>9.46244</td><td>1960</td><td>1958</td><td>1934</td><td>1960</td><td>1960</td><td>1960</td><td>58618.1065005618</td><td>58618.1297876178</td><td>15200260117</td><td>General</td><td>Dr. Alexander Lutovinov</td><td>85057536</td><td>288378</td></tr>\n",
       "<tr><td>49500080010</td><td>1</td><td>pointing</td><td>public</td><td>Y</td><td>287.30316</td><td>9.46283</td><td>2853</td><td>2834</td><td>2814</td><td>2794</td><td>0</td><td>2815</td><td>54041.0875820411</td><td>54041.1206607659</td><td>04200340009</td><td>General</td><td>Dr. Jerome Rodriguez</td><td>121327616</td><td>288381</td></tr>\n",
       "<tr><td>257600770010</td><td>1</td><td>pointing</td><td>public</td><td>Y</td><td>322.90076</td><td>9.46289</td><td>3318</td><td>3317</td><td>3286</td><td>3318</td><td>3318</td><td>0</td><td>59910.8818689364</td><td>59910.9204569274</td><td>19200130002</td><td>General</td><td>Dr. Thomas Siegert</td><td>124768256</td><td>288382</td></tr>\n",
       "</table></div>"
      ],
      "text/plain": [
       "<Table length=42336>\n",
       "   scw_id    scw_ver scw_type ...         pi_name          data_size __row \n",
       "   int64      int64    str8   ...          str93             int64   int64 \n",
       "------------ ------- -------- ... ------------------------ --------- ------\n",
       "218500510010       1 pointing ... Moritz M. M. Pleintinger 250466304      3\n",
       "230300490010       1 pointing ... Moritz M. M. Pleintinger 159584256     23\n",
       "218400210010       1 pointing ... Moritz M. M. Pleintinger 154615808     25\n",
       "218400520010       1 pointing ... Moritz M. M. Pleintinger 156672000     30\n",
       "218400520020       1 pointing ... Moritz M. M. Pleintinger 209494016     31\n",
       "218400020010       1 pointing ... Moritz M. M. Pleintinger 160223232     32\n",
       "218500190010       1 pointing ... Moritz M. M. Pleintinger 154918912     35\n",
       "229900100010       1 pointing ... Moritz M. M. Pleintinger 157827072     36\n",
       "229400830010       1 pointing ... Moritz M. M. Pleintinger 191270912     37\n",
       "230300440010       1 pointing ... Moritz M. M. Pleintinger 160366592     50\n",
       "         ...     ...      ... ...                      ...       ...    ...\n",
       " 73000900010       1 pointing ...     Prof. Rashid Sunyaev  90445824 288349\n",
       "263700060010       1 pointing ...     Dr. Jerome Rodriguez 125693952 288355\n",
       "181300340010       1 pointing ...  Dr. Alexander Lutovinov  88416256 288360\n",
       "181500470010       1 pointing ...  Dr. Alexander Lutovinov  89202688 288362\n",
       "215900270010       1 pointing ...     Dr. Jerome Rodriguez  79495168 288367\n",
       "208900660010       1 pointing ...  Dr. Alexander Lutovinov  83636224 288372\n",
       "208900520010       1 pointing ...  Dr. Alexander Lutovinov 172081152 288376\n",
       "209000880010       1 pointing ...  Dr. Alexander Lutovinov  85057536 288378\n",
       " 49500080010       1 pointing ...     Dr. Jerome Rodriguez 121327616 288381\n",
       "257600770010       1 pointing ...       Dr. Thomas Siegert 124768256 288382"
      ]
     },
     "execution_count": 5,
     "metadata": {},
     "output_type": "execute_result"
    }
   ],
   "source": [
    "good_isgri_table = pointing_table[pointing_table['good_isgri'] > 1000]\n",
    "good_isgri_table"
   ]
  },
  {
   "cell_type": "markdown",
   "id": "890b750a",
   "metadata": {},
   "source": [
    "Jupiter table"
   ]
  },
  {
   "cell_type": "code",
   "execution_count": 6,
   "id": "e183af72",
   "metadata": {},
   "outputs": [
    {
     "data": {
      "text/html": [
       "<div><i>Table length=319</i>\n",
       "<table id=\"table139859932430832\" class=\"table-striped table-bordered table-condensed\">\n",
       "<thead><tr><th>scw_id</th><th>scw_ver</th><th>scw_type</th><th>status</th><th>data_in_heasarc</th><th>ra</th><th>dec</th><th>good_spi</th><th>good_isgri</th><th>good_picsit</th><th>good_jemx1</th><th>good_jemx2</th><th>good_omc</th><th>start_date</th><th>end_date</th><th>obs_id</th><th>obs_type</th><th>pi_name</th><th>data_size</th><th>__row</th></tr></thead>\n",
       "<thead><tr><th>int64</th><th>int64</th><th>str8</th><th>str7</th><th>str1</th><th>float64</th><th>float64</th><th>int64</th><th>int64</th><th>int64</th><th>int64</th><th>int64</th><th>int64</th><th>float64</th><th>float64</th><th>str62</th><th>str13</th><th>str93</th><th>int64</th><th>int64</th></tr></thead>\n",
       "<tr><td>214500490010</td><td>1</td><td>pointing</td><td>public</td><td>Y</td><td>270.52011</td><td>-30.52128</td><td>0</td><td>3522</td><td>3491</td><td>3514</td><td>3514</td><td>3523</td><td>58763.8205709193</td><td>58763.86172835</td><td>16200280002</td><td>General</td><td>Dr. Sergei Grebenev</td><td>90554368</td><td>141240</td></tr>\n",
       "<tr><td>215300220010</td><td>1</td><td>pointing</td><td>public</td><td>Y</td><td>270.38593</td><td>-30.489</td><td>1933</td><td>1925</td><td>1906</td><td>1931</td><td>1931</td><td>1933</td><td>58784.0822160318</td><td>58784.105306325</td><td>16200230026</td><td>General</td><td>Prof. Joern Wilms</td><td>90542080</td><td>141406</td></tr>\n",
       "<tr><td>215300190010</td><td>1</td><td>pointing</td><td>public</td><td>Y</td><td>272.86359</td><td>-30.16489</td><td>1986</td><td>1979</td><td>1953</td><td>1955</td><td>1955</td><td>1968</td><td>58784.0084312594</td><td>58784.0315794234</td><td>16200230026</td><td>General</td><td>Prof. Joern Wilms</td><td>91574272</td><td>143684</td></tr>\n",
       "<tr><td>214400770010</td><td>1</td><td>pointing</td><td>public</td><td>Y</td><td>271.25949</td><td>-29.80186</td><td>0</td><td>1945</td><td>1921</td><td>1946</td><td>1946</td><td>1946</td><td>58761.8276646893</td><td>58761.8508244246</td><td>16200230027</td><td>General</td><td>Prof. Joern Wilms</td><td>50688000</td><td>147557</td></tr>\n",
       "<tr><td>66300520010</td><td>1</td><td>pointing</td><td>public</td><td>Y</td><td>272.51428</td><td>-29.62525</td><td>3172</td><td>3170</td><td>3148</td><td>3172</td><td>0</td><td>3172</td><td>54545.3200781411</td><td>54545.3574624228</td><td>05300000002</td><td>Key Programme</td><td>Key Programme</td><td>147229696</td><td>148875</td></tr>\n",
       "<tr><td>214500560010</td><td>1</td><td>pointing</td><td>public</td><td>Y</td><td>270.50864</td><td>-29.55881</td><td>0</td><td>3496</td><td>3466</td><td>3497</td><td>3497</td><td>3497</td><td>58764.1179553466</td><td>58764.1591243514</td><td>16200280002</td><td>General</td><td>Dr. Sergei Grebenev</td><td>92680192</td><td>149420</td></tr>\n",
       "<tr><td>215200220010</td><td>1</td><td>pointing</td><td>public</td><td>Y</td><td>271.32175</td><td>-29.26306</td><td>1944</td><td>1942</td><td>1917</td><td>1944</td><td>1933</td><td>1944</td><td>58781.4243671216</td><td>58781.4475268594</td><td>16200230037</td><td>General</td><td>Prof. Joern Wilms</td><td>91422720</td><td>151461</td></tr>\n",
       "<tr><td>215200190010</td><td>1</td><td>pointing</td><td>public</td><td>Y</td><td>273.77643</td><td>-28.89775</td><td>1923</td><td>1921</td><td>1901</td><td>1923</td><td>1923</td><td>1923</td><td>58781.3506517934</td><td>58781.3736726427</td><td>16200230037</td><td>General</td><td>Prof. Joern Wilms</td><td>90025984</td><td>155243</td></tr>\n",
       "<tr><td>220800140010</td><td>1</td><td>pointing</td><td>public</td><td>Y</td><td>277.24072</td><td>-28.7365</td><td>0</td><td>1944</td><td>1922</td><td>1947</td><td>1947</td><td>1947</td><td>58930.1338896352</td><td>58930.1570493713</td><td>17200180006</td><td>General</td><td>Prof. Joern Wilms</td><td>52928512</td><td>156684</td></tr>\n",
       "<tr><td>212900520010</td><td>1</td><td>pointing</td><td>public</td><td>Y</td><td>270.37628</td><td>-28.48853</td><td>3527</td><td>3525</td><td>3493</td><td>3527</td><td>3527</td><td>3527</td><td>58721.4082530529</td><td>58721.4494220692</td><td>16200280001</td><td>General</td><td>Dr. Sergei Grebenev</td><td>162377728</td><td>158750</td></tr>\n",
       "<tr><td>...</td><td>...</td><td>...</td><td>...</td><td>...</td><td>...</td><td>...</td><td>...</td><td>...</td><td>...</td><td>...</td><td>...</td><td>...</td><td>...</td><td>...</td><td>...</td><td>...</td><td>...</td><td>...</td><td>...</td></tr>\n",
       "<tr><td>237100070010</td><td>1</td><td>pointing</td><td>public</td><td>Y</td><td>317.35468</td><td>-9.27978</td><td>3315</td><td>3027</td><td>3293</td><td>3315</td><td>3315</td><td>3301</td><td>59363.6258431228</td><td>59363.6644311163</td><td>18200200001</td><td>General</td><td>Dr. Thomas Siegert</td><td>155226112</td><td>223320</td></tr>\n",
       "<tr><td>236900520010</td><td>1</td><td>pointing</td><td>public</td><td>Y</td><td>319.88617</td><td>-9.25942</td><td>3286</td><td>3284</td><td>3263</td><td>3286</td><td>3286</td><td>3286</td><td>59359.8727040261</td><td>59359.9112920176</td><td>18200200001</td><td>General</td><td>Dr. Thomas Siegert</td><td>149499904</td><td>223373</td></tr>\n",
       "<tr><td>236700490010</td><td>1</td><td>pointing</td><td>public</td><td>Y</td><td>320.89084</td><td>-9.21681</td><td>3326</td><td>3325</td><td>3295</td><td>3278</td><td>3280</td><td>3306</td><td>59354.5711729307</td><td>59354.6097609167</td><td>18200200001</td><td>General</td><td>Dr. Thomas Siegert</td><td>146460672</td><td>223469</td></tr>\n",
       "<tr><td>236600140010</td><td>1</td><td>pointing</td><td>public</td><td>Y</td><td>322.90009</td><td>-9.11872</td><td>3286</td><td>3225</td><td>3264</td><td>3250</td><td>3250</td><td>3286</td><td>59350.5661936611</td><td>59350.6047932214</td><td>18200200001</td><td>General</td><td>Dr. Thomas Siegert</td><td>153751552</td><td>223690</td></tr>\n",
       "<tr><td>236600250010</td><td>1</td><td>pointing</td><td>public</td><td>Y</td><td>317.97775</td><td>-9.11411</td><td>3306</td><td>3304</td><td>3278</td><td>3304</td><td>3304</td><td>3299</td><td>59351.0061823468</td><td>59351.0447703323</td><td>18200200001</td><td>General</td><td>Dr. Thomas Siegert</td><td>150855680</td><td>223701</td></tr>\n",
       "<tr><td>236800490010</td><td>1</td><td>pointing</td><td>public</td><td>Y</td><td>321.83905</td><td>-9.06994</td><td>3281</td><td>3280</td><td>3254</td><td>3281</td><td>3281</td><td>3281</td><td>59357.1797161209</td><td>59357.2182809582</td><td>18200200001</td><td>General</td><td>Dr. Thomas Siegert</td><td>147673088</td><td>223808</td></tr>\n",
       "<tr><td>237000430010</td><td>1</td><td>pointing</td><td>public</td><td>Y</td><td>320.21875</td><td>-8.94211</td><td>3280</td><td>3278</td><td>3257</td><td>3280</td><td>3280</td><td>3280</td><td>59362.4122426467</td><td>59362.4508306344</td><td>18200200001</td><td>General</td><td>Dr. Thomas Siegert</td><td>148480000</td><td>224141</td></tr>\n",
       "<tr><td>250800760010</td><td>1</td><td>pointing</td><td>public</td><td>Y</td><td>356.04712</td><td>-6.19831</td><td>1924</td><td>1865</td><td>1937</td><td>1937</td><td>1937</td><td>0</td><td>59729.8406859648</td><td>59729.8638572752</td><td>88604130003</td><td>Calibration</td><td>Public</td><td>70987776</td><td>231749</td></tr>\n",
       "<tr><td>250800660010</td><td>1</td><td>pointing</td><td>public</td><td>Y</td><td>356.04837</td><td>-6.19628</td><td>3562</td><td>3559</td><td>0</td><td>3252</td><td>3322</td><td>0</td><td>59729.700986806</td><td>59729.7427923869</td><td>88604130001</td><td>Calibration</td><td>Public</td><td>129437696</td><td>231755</td></tr>\n",
       "<tr><td>243600900010</td><td>1</td><td>pointing</td><td>public</td><td>Y</td><td>334.85583</td><td>-4.989</td><td>8618</td><td>1343</td><td>0</td><td>0</td><td>0</td><td>0</td><td>59538.6647132926</td><td>59538.769227277</td><td>88804840006</td><td>Engineering</td><td>Public</td><td>53411840</td><td>235160</td></tr>\n",
       "</table></div>"
      ],
      "text/plain": [
       "<Table length=319>\n",
       "   scw_id    scw_ver scw_type status ...       pi_name       data_size __row \n",
       "   int64      int64    str8    str7  ...        str93          int64   int64 \n",
       "------------ ------- -------- ------ ... ------------------- --------- ------\n",
       "214500490010       1 pointing public ... Dr. Sergei Grebenev  90554368 141240\n",
       "215300220010       1 pointing public ...   Prof. Joern Wilms  90542080 141406\n",
       "215300190010       1 pointing public ...   Prof. Joern Wilms  91574272 143684\n",
       "214400770010       1 pointing public ...   Prof. Joern Wilms  50688000 147557\n",
       " 66300520010       1 pointing public ...       Key Programme 147229696 148875\n",
       "214500560010       1 pointing public ... Dr. Sergei Grebenev  92680192 149420\n",
       "215200220010       1 pointing public ...   Prof. Joern Wilms  91422720 151461\n",
       "215200190010       1 pointing public ...   Prof. Joern Wilms  90025984 155243\n",
       "220800140010       1 pointing public ...   Prof. Joern Wilms  52928512 156684\n",
       "212900520010       1 pointing public ... Dr. Sergei Grebenev 162377728 158750\n",
       "         ...     ...      ...    ... ...                 ...       ...    ...\n",
       "237100070010       1 pointing public ...  Dr. Thomas Siegert 155226112 223320\n",
       "236900520010       1 pointing public ...  Dr. Thomas Siegert 149499904 223373\n",
       "236700490010       1 pointing public ...  Dr. Thomas Siegert 146460672 223469\n",
       "236600140010       1 pointing public ...  Dr. Thomas Siegert 153751552 223690\n",
       "236600250010       1 pointing public ...  Dr. Thomas Siegert 150855680 223701\n",
       "236800490010       1 pointing public ...  Dr. Thomas Siegert 147673088 223808\n",
       "237000430010       1 pointing public ...  Dr. Thomas Siegert 148480000 224141\n",
       "250800760010       1 pointing public ...              Public  70987776 231749\n",
       "250800660010       1 pointing public ...              Public 129437696 231755\n",
       "243600900010       1 pointing public ...              Public  53411840 235160"
      ]
     },
     "execution_count": 6,
     "metadata": {},
     "output_type": "execute_result"
    }
   ],
   "source": [
    "radius = 8\n",
    "\n",
    "temp_table = good_isgri_table.copy()\n",
    "table_coords = SkyCoord(ra=temp_table['ra'], dec=temp_table['dec'], unit='deg')\n",
    "\n",
    "mask = np.zeros(len(temp_table), dtype=bool)\n",
    "\n",
    "for ra, dec, month in zip(ra_values, dec_values, monthly_intervals):\n",
    "    jupiter_coords = SkyCoord(ra=ra, dec=dec, unit='deg')\n",
    "    sep = table_coords.separation(jupiter_coords).deg\n",
    "    mask |= (sep <= 8) & (month[0] <= temp_table['start_date']) & (temp_table['start_date'] <= month[1])\n",
    "\n",
    "jupiter_table = temp_table[mask]\n",
    "jupiter_table"
   ]
  },
  {
   "cell_type": "markdown",
   "id": "1be05954",
   "metadata": {},
   "source": [
    "Sort table"
   ]
  },
  {
   "cell_type": "code",
   "execution_count": 7,
   "id": "b514720e",
   "metadata": {},
   "outputs": [
    {
     "data": {
      "text/html": [
       "<div><i>Table length=319</i>\n",
       "<table id=\"table139859932430832\" class=\"table-striped table-bordered table-condensed\">\n",
       "<thead><tr><th>scw_id</th><th>scw_ver</th><th>scw_type</th><th>status</th><th>data_in_heasarc</th><th>ra</th><th>dec</th><th>good_spi</th><th>good_isgri</th><th>good_picsit</th><th>good_jemx1</th><th>good_jemx2</th><th>good_omc</th><th>start_date</th><th>end_date</th><th>obs_id</th><th>obs_type</th><th>pi_name</th><th>data_size</th><th>__row</th></tr></thead>\n",
       "<thead><tr><th>int64</th><th>int64</th><th>str8</th><th>str7</th><th>str1</th><th>float64</th><th>float64</th><th>int64</th><th>int64</th><th>int64</th><th>int64</th><th>int64</th><th>int64</th><th>float64</th><th>float64</th><th>str62</th><th>str13</th><th>str93</th><th>int64</th><th>int64</th></tr></thead>\n",
       "<tr><td>66100480010</td><td>1</td><td>pointing</td><td>public</td><td>Y</td><td>270.67905</td><td>-27.46044</td><td>3196</td><td>3187</td><td>3183</td><td>3053</td><td>0</td><td>3196</td><td>54539.2077828315</td><td>54539.2451671126</td><td>05300000002</td><td>Key Programme</td><td>Key Programme</td><td>149592064</td><td>166613</td></tr>\n",
       "<tr><td>66100490010</td><td>1</td><td>pointing</td><td>public</td><td>Y</td><td>270.12726</td><td>-25.34595</td><td>3174</td><td>3171</td><td>3154</td><td>3047</td><td>0</td><td>3174</td><td>54539.246509706</td><td>54539.2838939872</td><td>05300000002</td><td>Key Programme</td><td>Key Programme</td><td>151291904</td><td>177308</td></tr>\n",
       "<tr><td>66100510010</td><td>1</td><td>pointing</td><td>public</td><td>Y</td><td>270.16653</td><td>-23.16842</td><td>3224</td><td>3221</td><td>3191</td><td>2813</td><td>0</td><td>3198</td><td>54539.3236625289</td><td>54539.36104681</td><td>05300000002</td><td>Key Programme</td><td>Key Programme</td><td>149195776</td><td>184678</td></tr>\n",
       "<tr><td>66100520010</td><td>1</td><td>pointing</td><td>public</td><td>Y</td><td>270.74258</td><td>-25.27389</td><td>3226</td><td>3223</td><td>3191</td><td>3140</td><td>0</td><td>3200</td><td>54539.3625630146</td><td>54539.3999588697</td><td>05300000002</td><td>Key Programme</td><td>Key Programme</td><td>150768640</td><td>177579</td></tr>\n",
       "<tr><td>66100530010</td><td>1</td><td>pointing</td><td>public</td><td>Y</td><td>271.35147</td><td>-27.37131</td><td>3220</td><td>3219</td><td>3203</td><td>3072</td><td>0</td><td>3202</td><td>54539.401289889</td><td>54539.4386857441</td><td>05300000002</td><td>Key Programme</td><td>Key Programme</td><td>149855232</td><td>167084</td></tr>\n",
       "<tr><td>66300470010</td><td>1</td><td>pointing</td><td>public</td><td>Y</td><td>270.08972</td><td>-26.18747</td><td>3170</td><td>3168</td><td>3148</td><td>3052</td><td>0</td><td>3170</td><td>54545.1241289485</td><td>54545.1615132305</td><td>05300000002</td><td>Key Programme</td><td>Key Programme</td><td>149064704</td><td>174014</td></tr>\n",
       "<tr><td>66300490010</td><td>1</td><td>pointing</td><td>public</td><td>Y</td><td>271.3656</td><td>-23.20119</td><td>3038</td><td>3038</td><td>3038</td><td>3038</td><td>0</td><td>3038</td><td>54545.203700756</td><td>54545.2411081861</td><td>05300000002</td><td>Key Programme</td><td>Key Programme</td><td>148412416</td><td>184607</td></tr>\n",
       "<tr><td>66300500010</td><td>1</td><td>pointing</td><td>public</td><td>Y</td><td>271.72787</td><td>-25.34639</td><td>3230</td><td>3227</td><td>3191</td><td>3143</td><td>0</td><td>3197</td><td>54545.2426243907</td><td>54545.2800202466</td><td>05300000002</td><td>Key Programme</td><td>Key Programme</td><td>148937728</td><td>177305</td></tr>\n",
       "<tr><td>66300510010</td><td>1</td><td>pointing</td><td>public</td><td>Y</td><td>272.10693</td><td>-27.48767</td><td>3203</td><td>3201</td><td>3180</td><td>2968</td><td>0</td><td>3199</td><td>54545.2813512659</td><td>54545.3187471218</td><td>05300000002</td><td>Key Programme</td><td>Key Programme</td><td>148806656</td><td>166437</td></tr>\n",
       "<tr><td>66300520010</td><td>1</td><td>pointing</td><td>public</td><td>Y</td><td>272.51428</td><td>-29.62525</td><td>3172</td><td>3170</td><td>3148</td><td>3172</td><td>0</td><td>3172</td><td>54545.3200781411</td><td>54545.3574624228</td><td>05300000002</td><td>Key Programme</td><td>Key Programme</td><td>147229696</td><td>148875</td></tr>\n",
       "<tr><td>...</td><td>...</td><td>...</td><td>...</td><td>...</td><td>...</td><td>...</td><td>...</td><td>...</td><td>...</td><td>...</td><td>...</td><td>...</td><td>...</td><td>...</td><td>...</td><td>...</td><td>...</td><td>...</td><td>...</td></tr>\n",
       "<tr><td>237200390010</td><td>1</td><td>pointing</td><td>public</td><td>Y</td><td>327.16101</td><td>-14.39486</td><td>2876</td><td>2874</td><td>0</td><td>2838</td><td>2838</td><td>2876</td><td>59367.5566445626</td><td>59367.5904987522</td><td>18200040013</td><td>General</td><td>Dr. Thomas Siegert</td><td>131190784</td><td>207764</td></tr>\n",
       "<tr><td>237200400010</td><td>1</td><td>pointing</td><td>public</td><td>Y</td><td>328.19629</td><td>-16.307</td><td>2878</td><td>2876</td><td>2850</td><td>2878</td><td>2878</td><td>2878</td><td>59367.5918297717</td><td>59367.6257071098</td><td>18200040013</td><td>General</td><td>Dr. Thomas Siegert</td><td>131809280</td><td>202394</td></tr>\n",
       "<tr><td>237200410010</td><td>1</td><td>pointing</td><td>public</td><td>Y</td><td>329.25458</td><td>-18.23075</td><td>2874</td><td>2872</td><td>2850</td><td>2874</td><td>2874</td><td>2874</td><td>59367.6270381292</td><td>59367.6609386159</td><td>18200040013</td><td>General</td><td>Dr. Thomas Siegert</td><td>132288512</td><td>197136</td></tr>\n",
       "<tr><td>237200490010</td><td>1</td><td>pointing</td><td>public</td><td>Y</td><td>328.96359</td><td>-11.59919</td><td>2875</td><td>2873</td><td>2849</td><td>2875</td><td>2875</td><td>2875</td><td>59367.8874434086</td><td>59367.9213323222</td><td>18200040013</td><td>General</td><td>Dr. Thomas Siegert</td><td>131203072</td><td>215859</td></tr>\n",
       "<tr><td>237200500010</td><td>1</td><td>pointing</td><td>public</td><td>Y</td><td>330.1041</td><td>-13.47597</td><td>2869</td><td>2867</td><td>2841</td><td>2869</td><td>2869</td><td>2869</td><td>59367.9226633417</td><td>59367.9565406812</td><td>18200040013</td><td>General</td><td>Dr. Thomas Siegert</td><td>131407872</td><td>210313</td></tr>\n",
       "<tr><td>237200530010</td><td>1</td><td>pointing</td><td>public</td><td>Y</td><td>330.11121</td><td>-12.55942</td><td>2875</td><td>2873</td><td>2848</td><td>2875</td><td>2875</td><td>2875</td><td>59368.0284273084</td><td>59368.0622699262</td><td>18200040013</td><td>General</td><td>Dr. Thomas Siegert</td><td>131121152</td><td>212869</td></tr>\n",
       "<tr><td>237200540010</td><td>1</td><td>pointing</td><td>public</td><td>Y</td><td>328.96796</td><td>-10.69914</td><td>2904</td><td>2902</td><td>2882</td><td>2904</td><td>2896</td><td>2893</td><td>59368.0636125198</td><td>59368.09748986</td><td>18200040013</td><td>General</td><td>Dr. Thomas Siegert</td><td>131805184</td><td>218519</td></tr>\n",
       "<tr><td>243600900010</td><td>1</td><td>pointing</td><td>public</td><td>Y</td><td>334.85583</td><td>-4.989</td><td>8618</td><td>1343</td><td>0</td><td>0</td><td>0</td><td>0</td><td>59538.6647132926</td><td>59538.769227277</td><td>88804840006</td><td>Engineering</td><td>Public</td><td>53411840</td><td>235160</td></tr>\n",
       "<tr><td>250800660010</td><td>1</td><td>pointing</td><td>public</td><td>Y</td><td>356.04837</td><td>-6.19628</td><td>3562</td><td>3559</td><td>0</td><td>3252</td><td>3322</td><td>0</td><td>59729.700986806</td><td>59729.7427923869</td><td>88604130001</td><td>Calibration</td><td>Public</td><td>129437696</td><td>231755</td></tr>\n",
       "<tr><td>250800760010</td><td>1</td><td>pointing</td><td>public</td><td>Y</td><td>356.04712</td><td>-6.19831</td><td>1924</td><td>1865</td><td>1937</td><td>1937</td><td>1937</td><td>0</td><td>59729.8406859648</td><td>59729.8638572752</td><td>88604130003</td><td>Calibration</td><td>Public</td><td>70987776</td><td>231749</td></tr>\n",
       "</table></div>"
      ],
      "text/plain": [
       "<Table length=319>\n",
       "   scw_id    scw_ver scw_type status ...      pi_name       data_size __row \n",
       "   int64      int64    str8    str7  ...       str93          int64   int64 \n",
       "------------ ------- -------- ------ ... ------------------ --------- ------\n",
       " 66100480010       1 pointing public ...      Key Programme 149592064 166613\n",
       " 66100490010       1 pointing public ...      Key Programme 151291904 177308\n",
       " 66100510010       1 pointing public ...      Key Programme 149195776 184678\n",
       " 66100520010       1 pointing public ...      Key Programme 150768640 177579\n",
       " 66100530010       1 pointing public ...      Key Programme 149855232 167084\n",
       " 66300470010       1 pointing public ...      Key Programme 149064704 174014\n",
       " 66300490010       1 pointing public ...      Key Programme 148412416 184607\n",
       " 66300500010       1 pointing public ...      Key Programme 148937728 177305\n",
       " 66300510010       1 pointing public ...      Key Programme 148806656 166437\n",
       " 66300520010       1 pointing public ...      Key Programme 147229696 148875\n",
       "         ...     ...      ...    ... ...                ...       ...    ...\n",
       "237200390010       1 pointing public ... Dr. Thomas Siegert 131190784 207764\n",
       "237200400010       1 pointing public ... Dr. Thomas Siegert 131809280 202394\n",
       "237200410010       1 pointing public ... Dr. Thomas Siegert 132288512 197136\n",
       "237200490010       1 pointing public ... Dr. Thomas Siegert 131203072 215859\n",
       "237200500010       1 pointing public ... Dr. Thomas Siegert 131407872 210313\n",
       "237200530010       1 pointing public ... Dr. Thomas Siegert 131121152 212869\n",
       "237200540010       1 pointing public ... Dr. Thomas Siegert 131805184 218519\n",
       "243600900010       1 pointing public ...             Public  53411840 235160\n",
       "250800660010       1 pointing public ...             Public 129437696 231755\n",
       "250800760010       1 pointing public ...             Public  70987776 231749"
      ]
     },
     "execution_count": 7,
     "metadata": {},
     "output_type": "execute_result"
    }
   ],
   "source": [
    "jupiter_table.sort('start_date')\n",
    "jupiter_table"
   ]
  },
  {
   "cell_type": "markdown",
   "id": "b14d212f",
   "metadata": {},
   "source": [
    "Save to file"
   ]
  },
  {
   "cell_type": "code",
   "execution_count": 8,
   "id": "c9d20fc3",
   "metadata": {},
   "outputs": [],
   "source": [
    "ascii.write(jupiter_table, '../data/jupiter_table.dat', overwrite=True)\n",
    "# jupiter_table = ascii.read('../data/jupiter_table.dat')"
   ]
  },
  {
   "cell_type": "markdown",
   "id": "425cbadb",
   "metadata": {},
   "source": [
    "Crab table"
   ]
  },
  {
   "cell_type": "code",
   "execution_count": 9,
   "id": "ef6ed875",
   "metadata": {},
   "outputs": [
    {
     "data": {
      "text/html": [
       "<div><i>Table length=0</i>\n",
       "<table id=\"table139860700589936\" class=\"table-striped table-bordered table-condensed\">\n",
       "<thead><tr><th>scw_id</th><th>scw_ver</th><th>scw_type</th><th>status</th><th>data_in_heasarc</th><th>ra</th><th>dec</th><th>good_spi</th><th>good_isgri</th><th>good_picsit</th><th>good_jemx1</th><th>good_jemx2</th><th>good_omc</th><th>start_date</th><th>end_date</th><th>obs_id</th><th>obs_type</th><th>pi_name</th><th>data_size</th><th>__row</th></tr></thead>\n",
       "<thead><tr><th>int64</th><th>int64</th><th>str8</th><th>str7</th><th>str1</th><th>float64</th><th>float64</th><th>int64</th><th>int64</th><th>int64</th><th>int64</th><th>int64</th><th>int64</th><th>float64</th><th>float64</th><th>str62</th><th>str13</th><th>str93</th><th>int64</th><th>int64</th></tr></thead>\n",
       "</table></div>"
      ],
      "text/plain": [
       "<Table length=0>\n",
       "scw_id scw_ver scw_type status ... obs_type pi_name data_size __row\n",
       "int64   int64    str8    str7  ...  str13    str93    int64   int64\n",
       "------ ------- -------- ------ ... -------- ------- --------- -----"
      ]
     },
     "execution_count": 9,
     "metadata": {},
     "output_type": "execute_result"
    }
   ],
   "source": [
    "radius = 8.\n",
    "\n",
    "crab_coords = SkyCoord.from_name('Crab')\n",
    "crab_mask = (crab_coords.separation(table_coords).deg <= radius)\n",
    "\n",
    "crab_table = temp_table[crab_mask]\n",
    "crab_table"
   ]
  },
  {
   "cell_type": "markdown",
   "id": "0b2c9bc0",
   "metadata": {},
   "source": [
    "Sort"
   ]
  },
  {
   "cell_type": "code",
   "execution_count": 10,
   "id": "4fdddda0",
   "metadata": {},
   "outputs": [],
   "source": [
    "crab_table.sort('start_date')"
   ]
  },
  {
   "cell_type": "markdown",
   "id": "e32c6c90",
   "metadata": {},
   "source": [
    "Save to file"
   ]
  },
  {
   "cell_type": "code",
   "execution_count": 11,
   "id": "d6a4683b",
   "metadata": {},
   "outputs": [],
   "source": [
    "ascii.write(crab_table, '../data/crab_table.dat', overwrite=True)\n",
    "# crab_table = ascii.read('../data/crab_table.dat')"
   ]
  }
 ],
 "metadata": {
  "jupytext": {
   "cell_metadata_filter": "-all",
   "main_language": "python",
   "notebook_metadata_filter": "-all"
  },
  "kernelspec": {
   "display_name": "jupiter_xray",
   "language": "python",
   "name": "python3"
  },
  "language_info": {
   "codemirror_mode": {
    "name": "ipython",
    "version": 3
   },
   "file_extension": ".py",
   "mimetype": "text/x-python",
   "name": "python",
   "nbconvert_exporter": "python",
   "pygments_lexer": "ipython3",
   "version": "3.9.21"
  }
 },
 "nbformat": 4,
 "nbformat_minor": 5
}
