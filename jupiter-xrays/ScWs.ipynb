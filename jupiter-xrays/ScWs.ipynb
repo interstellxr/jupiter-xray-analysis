{
 "cells": [
  {
   "cell_type": "code",
   "execution_count": 1,
   "id": "3313429d",
   "metadata": {},
   "outputs": [],
   "source": [
    "import time\n",
    "import astroquery.heasarc\n",
    "from astropy.coordinates import SkyCoord\n",
    "import astropy.units as u\n",
    "from astroquery.jplhorizons import Horizons\n",
    "import numpy as np\n",
    "import pandas as pd\n",
    "from collections import defaultdict\n",
    "from astropy.time import Time"
   ]
  },
  {
   "cell_type": "markdown",
   "id": "baec8afe",
   "metadata": {},
   "source": [
    "Idea of how this code works\n",
    "\n",
    "1. We obtain Jupiter's position in the sky (ephemerides). We will be using a search radius of 8 degrees (due to FOV of INTEGRAL, fully coded). I found that Jupiter's position does not significantly change (more than 8 degrees) within less than 2 months. For safety, we will obtain Jupiter's mean monthly position.\n",
    "2. Using the mean monthly position of Jupiter over a certain time period (1 year, 2 years, ...), we will search for all the ScWs within 8 degrees of this position. No time filtering yet. We will group by mean monthly position of Jupiter.\n",
    "Though we already filter for pointing ScWs only.\n",
    "3. Then, we have N groups of ScWs, each corresponding to a certain RA and DEC (within 8 degrees). These only contain Jupiter if it is in the FOV at that precise time, i.e. that month. So filtering will be done by taking ScWs only within corresponding month (aka the month corresponding to the mean position as found in step 1).\n",
    "4. Finally, we will have N groups of ScWs, each containg Jupiter, for each month in the given interval. Some may be empty."
   ]
  },
  {
   "cell_type": "markdown",
   "id": "771fe389",
   "metadata": {},
   "source": [
    "STEP 1 - obtaining Jupiter's position"
   ]
  },
  {
   "cell_type": "code",
   "execution_count": null,
   "id": "8055dc69",
   "metadata": {},
   "outputs": [
    {
     "name": "stdout",
     "output_type": "stream",
     "text": [
      "Jupiter's monthly position between 2003-01-01 and 2025-01-01: \n",
      "\n",
      "   datetime_str       RA      DEC   \n",
      "       ---           deg      deg   \n",
      "----------------- --------- --------\n",
      "2003-Jan-01 00:00 133.13461 18.23402\n",
      "2003-Feb-01 00:00 135.64353 17.59249\n",
      "2003-Mar-04 00:00  138.1248 16.92216\n",
      "2003-Apr-04 00:00 140.57899 16.22478\n",
      "2003-May-05 00:00 143.00678 15.50206\n",
      "2003-Jun-05 00:00 145.40891  14.7557\n",
      "2003-Jul-06 00:00 147.78632 13.98736\n",
      "2003-Aug-06 00:00    150.14 13.19866\n",
      "2003-Sep-06 00:00 152.47101 12.39117\n",
      "              ...       ...      ...\n",
      "2024-Mar-21 00:00  50.60927 17.52697\n",
      "2024-Apr-21 00:00  53.43087 18.24997\n",
      "2024-May-22 00:00  56.26678 18.92932\n",
      "2024-Jun-22 00:00    59.116 19.56331\n",
      "2024-Jul-23 00:00  61.97734 20.15039\n",
      "2024-Aug-23 00:00  64.84944 20.68914\n",
      "2024-Sep-23 00:00  67.73074 21.17832\n",
      "2024-Oct-24 00:00  70.61942 21.61685\n",
      "2024-Nov-24 00:00  73.51359 22.00384\n",
      "2024-Dec-25 00:00  76.41117 22.33857\n",
      "Length = 260 rows\n",
      "Monthly intervals based on Jupiter's positions:\n",
      " [(52640.0, 52671.0), (52671.0, 52702.0), (52702.0, 52733.0), (52733.0, 52764.0), (52764.0, 52795.0), (52795.0, 52826.0), (52826.0, 52857.0), (52857.0, 52888.0), (52888.0, 52919.0), (52919.0, 52950.0), (52950.0, 52981.0), (52981.0, 53012.0), (53012.0, 53043.0), (53043.0, 53074.0), (53074.0, 53105.0), (53105.0, 53136.0), (53136.0, 53167.0), (53167.0, 53198.0), (53198.0, 53229.0), (53229.0, 53260.0), (53260.0, 53291.0), (53291.0, 53322.0), (53322.0, 53353.0), (53353.0, 53384.0), (53384.0, 53415.0), (53415.0, 53446.0), (53446.0, 53477.0), (53477.0, 53508.0), (53508.0, 53539.0), (53539.0, 53570.0), (53570.0, 53601.0), (53601.0, 53632.0), (53632.0, 53663.0), (53663.0, 53694.0), (53694.0, 53725.0), (53725.0, 53756.0), (53756.0, 53787.0), (53787.0, 53818.0), (53818.0, 53849.0), (53849.0, 53880.0), (53880.0, 53911.0), (53911.0, 53942.0), (53942.0, 53973.0), (53973.0, 54004.0), (54004.0, 54035.0), (54035.0, 54066.0), (54066.0, 54097.0), (54097.0, 54128.0), (54128.0, 54159.0), (54159.0, 54190.0), (54190.0, 54221.0), (54221.0, 54252.0), (54252.0, 54283.0), (54283.0, 54314.0), (54314.0, 54345.0), (54345.0, 54376.0), (54376.0, 54407.0), (54407.0, 54438.0), (54438.0, 54469.0), (54469.0, 54500.0), (54500.0, 54531.0), (54531.0, 54562.0), (54562.0, 54593.0), (54593.0, 54624.0), (54624.0, 54655.0), (54655.0, 54686.0), (54686.0, 54717.0), (54717.0, 54748.0), (54748.0, 54779.0), (54779.0, 54810.0), (54810.0, 54841.0), (54841.0, 54872.0), (54872.0, 54903.0), (54903.0, 54934.0), (54934.0, 54965.0), (54965.0, 54996.0), (54996.0, 55027.0), (55027.0, 55058.0), (55058.0, 55089.0), (55089.0, 55120.0), (55120.0, 55151.0), (55151.0, 55182.0), (55182.0, 55213.0), (55213.0, 55244.0), (55244.0, 55275.0), (55275.0, 55306.0), (55306.0, 55337.0), (55337.0, 55368.0), (55368.0, 55399.0), (55399.0, 55430.0), (55430.0, 55461.0), (55461.0, 55492.0), (55492.0, 55523.0), (55523.0, 55554.0), (55554.0, 55585.0), (55585.0, 55616.0), (55616.0, 55647.0), (55647.0, 55678.0), (55678.0, 55709.0), (55709.0, 55740.0), (55740.0, 55771.0), (55771.0, 55802.0), (55802.0, 55833.0), (55833.0, 55864.0), (55864.0, 55895.0), (55895.0, 55926.0), (55926.0, 55957.0), (55957.0, 55988.0), (55988.0, 56019.0), (56019.0, 56050.0), (56050.0, 56081.0), (56081.0, 56112.0), (56112.0, 56143.0), (56143.0, 56174.0), (56174.0, 56205.0), (56205.0, 56236.0), (56236.0, 56267.0), (56267.0, 56298.0), (56298.0, 56329.0), (56329.0, 56360.0), (56360.0, 56391.0), (56391.0, 56422.0), (56422.0, 56453.0), (56453.0, 56484.0), (56484.0, 56515.0), (56515.0, 56546.0), (56546.0, 56577.0), (56577.0, 56608.0), (56608.0, 56639.0), (56639.0, 56670.0), (56670.0, 56701.0), (56701.0, 56732.0), (56732.0, 56763.0), (56763.0, 56794.0), (56794.0, 56825.0), (56825.0, 56856.0), (56856.0, 56887.0), (56887.0, 56918.0), (56918.0, 56949.0), (56949.0, 56980.0), (56980.0, 57011.0), (57011.0, 57042.0), (57042.0, 57073.0), (57073.0, 57104.0), (57104.0, 57135.0), (57135.0, 57166.0), (57166.0, 57197.0), (57197.0, 57228.0), (57228.0, 57259.0), (57259.0, 57290.0), (57290.0, 57321.0), (57321.0, 57352.0), (57352.0, 57383.0), (57383.0, 57414.0), (57414.0, 57445.0), (57445.0, 57476.0), (57476.0, 57507.0), (57507.0, 57538.0), (57538.0, 57569.0), (57569.0, 57600.0), (57600.0, 57631.0), (57631.0, 57662.0), (57662.0, 57693.0), (57693.0, 57724.0), (57724.0, 57755.0), (57755.0, 57786.0), (57786.0, 57817.0), (57817.0, 57848.0), (57848.0, 57879.0), (57879.0, 57910.0), (57910.0, 57941.0), (57941.0, 57972.0), (57972.0, 58003.0), (58003.0, 58034.0), (58034.0, 58065.0), (58065.0, 58096.0), (58096.0, 58127.0), (58127.0, 58158.0), (58158.0, 58189.0), (58189.0, 58220.0), (58220.0, 58251.0), (58251.0, 58282.0), (58282.0, 58313.0), (58313.0, 58344.0), (58344.0, 58375.0), (58375.0, 58406.0), (58406.0, 58437.0), (58437.0, 58468.0), (58468.0, 58499.0), (58499.0, 58530.0), (58530.0, 58561.0), (58561.0, 58592.0), (58592.0, 58623.0), (58623.0, 58654.0), (58654.0, 58685.0), (58685.0, 58716.0), (58716.0, 58747.0), (58747.0, 58778.0), (58778.0, 58809.0), (58809.0, 58840.0), (58840.0, 58871.0), (58871.0, 58902.0), (58902.0, 58933.0), (58933.0, 58964.0), (58964.0, 58995.0), (58995.0, 59026.0), (59026.0, 59057.0), (59057.0, 59088.0), (59088.0, 59119.0), (59119.0, 59150.0), (59150.0, 59181.0), (59181.0, 59212.0), (59212.0, 59243.0), (59243.0, 59274.0), (59274.0, 59305.0), (59305.0, 59336.0), (59336.0, 59367.0), (59367.0, 59398.0), (59398.0, 59429.0), (59429.0, 59460.0), (59460.0, 59491.0), (59491.0, 59522.0), (59522.0, 59553.0), (59553.0, 59584.0), (59584.0, 59615.0), (59615.0, 59646.0), (59646.0, 59677.0), (59677.0, 59708.0), (59708.0, 59739.0), (59739.0, 59770.0), (59770.0, 59801.0), (59801.0, 59832.0), (59832.0, 59863.0), (59863.0, 59894.0), (59894.0, 59925.0), (59925.0, 59956.0), (59956.0, 59987.0), (59987.0, 60018.0), (60018.0, 60049.0), (60049.0, 60080.0), (60080.0, 60111.0), (60111.0, 60142.0), (60142.0, 60173.0), (60173.0, 60204.0), (60204.0, 60235.0), (60235.0, 60266.0), (60266.0, 60297.0), (60297.0, 60328.0), (60328.0, 60359.0), (60359.0, 60390.0), (60390.0, 60421.0), (60421.0, 60452.0), (60452.0, 60483.0), (60483.0, 60514.0), (60514.0, 60545.0), (60545.0, 60576.0), (60576.0, 60607.0), (60607.0, 60638.0), (60638.0, 60669.0)]\n"
     ]
    }
   ],
   "source": [
    "# First, define the time interval we are interested in (> 1 month)\n",
    "epochs = {'start':'2003-01-01', 'stop':'2025-01-01', 'step':'31d'}\n",
    "\n",
    "# Get Jupiter's monthly position in the given time interval (not using mean as step of 31 days)\n",
    "jupiter = Horizons(id='599', location='@0',epochs=epochs) \n",
    "eph = jupiter.ephemerides()\n",
    "\n",
    "ra_values = eph['RA']\n",
    "dec_values = eph['DEC']\n",
    "datetime_values = eph['datetime_jd']\n",
    "print(f\"Jupiter's monthly position between {epochs['start']} and {epochs['stop']}: \\n\")\n",
    "print(eph[['datetime_str', 'RA', 'DEC']])\n",
    "\n",
    "monthly_intervals = []\n",
    "for i in range(len(datetime_values) - 1):  # Get the intervals between successive months\n",
    "    start_time = Time(datetime_values[i], format='jd').mjd\n",
    "    end_time = Time(datetime_values[i + 1], format='jd').mjd\n",
    "    monthly_intervals.append((start_time, end_time))\n",
    "print(f\"Monthly intervals based on Jupiter's positions:\\n {monthly_intervals}\")\n",
    "\n",
    "# If we want to use mean:\n",
    "# df = eph.to_pandas()\n",
    "# df['datetime_str'] = pd.to_datetime(df['datetime_str'])\n",
    "# monthly_means = df.groupby(df['datetime_str'].dt.strftime('%Y-%m'))[['RA', 'DEC']].mean()\n",
    "# for month, row in monthly_means.iterrows():\n",
    "    # print(f\"Month: {month}, Mean RA: {row['RA']:.2f} deg, Mean DEC: {row['DEC']:.2f} deg\")"
   ]
  },
  {
   "cell_type": "markdown",
   "id": "0448b554",
   "metadata": {},
   "source": [
    "STEP 2 - obtaining ScWs"
   ]
  },
  {
   "cell_type": "code",
   "execution_count": 4,
   "id": "051fe1ee",
   "metadata": {},
   "outputs": [],
   "source": [
    "Heasarc = astroquery.heasarc.Heasarc()\n",
    "\n",
    "def get_scw_list(ra_obj, dec_obj, radius):\n",
    "    R = Heasarc.query_region(\n",
    "            position = SkyCoord(ra_obj, dec_obj, unit='deg'),\n",
    "            radius = f\"{radius} deg\",\n",
    "            catalog = 'intscw',\n",
    "            good_isgri = \">1000\",\n",
    "        )\n",
    "    R.sort('scw_id') \n",
    "    return R['scw_id'], R['scw_ver'], R['start_date'], R['end_date']\n",
    "\n",
    "assert astroquery.__version__ >= '0.4.2.dev6611'\n",
    "assert 'isdc' in astroquery.heasarc.Conf.server.cfgtype"
   ]
  },
  {
   "cell_type": "code",
   "execution_count": 5,
   "id": "f68a0d88",
   "metadata": {},
   "outputs": [
    {
     "ename": "KeyboardInterrupt",
     "evalue": "",
     "output_type": "error",
     "traceback": [
      "\u001b[0;31m---------------------------------------------------------------------------\u001b[0m",
      "\u001b[0;31mKeyboardInterrupt\u001b[0m                         Traceback (most recent call last)",
      "Cell \u001b[0;32mIn[5], line 10\u001b[0m\n\u001b[1;32m      8\u001b[0m dec \u001b[38;5;241m=\u001b[39m \u001b[38;5;28mfloat\u001b[39m(row[\u001b[38;5;124m'\u001b[39m\u001b[38;5;124mDEC\u001b[39m\u001b[38;5;124m'\u001b[39m])\n\u001b[1;32m      9\u001b[0m radius \u001b[38;5;241m=\u001b[39m \u001b[38;5;241m8.\u001b[39m\n\u001b[0;32m---> 10\u001b[0m scw_id, scw_ver, scw_start, scw_end \u001b[38;5;241m=\u001b[39m \u001b[43mget_scw_list\u001b[49m\u001b[43m(\u001b[49m\u001b[43mra\u001b[49m\u001b[43m,\u001b[49m\u001b[43m \u001b[49m\u001b[43mdec\u001b[49m\u001b[43m,\u001b[49m\u001b[43m \u001b[49m\u001b[43mradius\u001b[49m\u001b[43m)\u001b[49m\n\u001b[1;32m     11\u001b[0m scw_ids\u001b[38;5;241m.\u001b[39mappend(scw_id) \u001b[38;5;66;03m# Using append means we get a list of lists, grouped by Jupiter's monthly position\u001b[39;00m\n\u001b[1;32m     12\u001b[0m scw_versions\u001b[38;5;241m.\u001b[39mappend(scw_ver)\n",
      "Cell \u001b[0;32mIn[4], line 4\u001b[0m, in \u001b[0;36mget_scw_list\u001b[0;34m(ra_obj, dec_obj, radius)\u001b[0m\n\u001b[1;32m      3\u001b[0m \u001b[38;5;28;01mdef\u001b[39;00m \u001b[38;5;21mget_scw_list\u001b[39m(ra_obj, dec_obj, radius):\n\u001b[0;32m----> 4\u001b[0m     R \u001b[38;5;241m=\u001b[39m \u001b[43mHeasarc\u001b[49m\u001b[38;5;241;43m.\u001b[39;49m\u001b[43mquery_region\u001b[49m\u001b[43m(\u001b[49m\n\u001b[1;32m      5\u001b[0m \u001b[43m            \u001b[49m\u001b[43mposition\u001b[49m\u001b[43m \u001b[49m\u001b[38;5;241;43m=\u001b[39;49m\u001b[43m \u001b[49m\u001b[43mSkyCoord\u001b[49m\u001b[43m(\u001b[49m\u001b[43mra_obj\u001b[49m\u001b[43m,\u001b[49m\u001b[43m \u001b[49m\u001b[43mdec_obj\u001b[49m\u001b[43m,\u001b[49m\u001b[43m \u001b[49m\u001b[43munit\u001b[49m\u001b[38;5;241;43m=\u001b[39;49m\u001b[38;5;124;43m'\u001b[39;49m\u001b[38;5;124;43mdeg\u001b[39;49m\u001b[38;5;124;43m'\u001b[39;49m\u001b[43m)\u001b[49m\u001b[43m,\u001b[49m\n\u001b[1;32m      6\u001b[0m \u001b[43m            \u001b[49m\u001b[43mradius\u001b[49m\u001b[43m \u001b[49m\u001b[38;5;241;43m=\u001b[39;49m\u001b[43m \u001b[49m\u001b[38;5;124;43mf\u001b[39;49m\u001b[38;5;124;43m\"\u001b[39;49m\u001b[38;5;132;43;01m{\u001b[39;49;00m\u001b[43mradius\u001b[49m\u001b[38;5;132;43;01m}\u001b[39;49;00m\u001b[38;5;124;43m deg\u001b[39;49m\u001b[38;5;124;43m\"\u001b[39;49m\u001b[43m,\u001b[49m\n\u001b[1;32m      7\u001b[0m \u001b[43m            \u001b[49m\u001b[43mcatalog\u001b[49m\u001b[43m \u001b[49m\u001b[38;5;241;43m=\u001b[39;49m\u001b[43m \u001b[49m\u001b[38;5;124;43m'\u001b[39;49m\u001b[38;5;124;43mintscw\u001b[39;49m\u001b[38;5;124;43m'\u001b[39;49m\u001b[43m,\u001b[49m\n\u001b[1;32m      8\u001b[0m \u001b[43m            \u001b[49m\u001b[43mgood_isgri\u001b[49m\u001b[43m \u001b[49m\u001b[38;5;241;43m=\u001b[39;49m\u001b[43m \u001b[49m\u001b[38;5;124;43m\"\u001b[39;49m\u001b[38;5;124;43m>1000\u001b[39;49m\u001b[38;5;124;43m\"\u001b[39;49m\u001b[43m,\u001b[49m\n\u001b[1;32m      9\u001b[0m \u001b[43m        \u001b[49m\u001b[43m)\u001b[49m\n\u001b[1;32m     10\u001b[0m     R\u001b[38;5;241m.\u001b[39msort(\u001b[38;5;124m'\u001b[39m\u001b[38;5;124mscw_id\u001b[39m\u001b[38;5;124m'\u001b[39m) \n\u001b[1;32m     11\u001b[0m     \u001b[38;5;28;01mreturn\u001b[39;00m R[\u001b[38;5;124m'\u001b[39m\u001b[38;5;124mscw_id\u001b[39m\u001b[38;5;124m'\u001b[39m], R[\u001b[38;5;124m'\u001b[39m\u001b[38;5;124mscw_ver\u001b[39m\u001b[38;5;124m'\u001b[39m], R[\u001b[38;5;124m'\u001b[39m\u001b[38;5;124mstart_date\u001b[39m\u001b[38;5;124m'\u001b[39m], R[\u001b[38;5;124m'\u001b[39m\u001b[38;5;124mend_date\u001b[39m\u001b[38;5;124m'\u001b[39m]\n",
      "File \u001b[0;32m~/.local/lib/python3.10/site-packages/astropy/utils/decorators.py:603\u001b[0m, in \u001b[0;36mdeprecated_renamed_argument.<locals>.decorator.<locals>.wrapper\u001b[0;34m(*args, **kwargs)\u001b[0m\n\u001b[1;32m    600\u001b[0m             msg \u001b[38;5;241m+\u001b[39m\u001b[38;5;241m=\u001b[39m \u001b[38;5;124mf\u001b[39m\u001b[38;5;124m\"\u001b[39m\u001b[38;5;130;01m\\n\u001b[39;00m\u001b[38;5;124m        Use \u001b[39m\u001b[38;5;132;01m{\u001b[39;00malternative\u001b[38;5;132;01m}\u001b[39;00m\u001b[38;5;124m instead.\u001b[39m\u001b[38;5;124m\"\u001b[39m\n\u001b[1;32m    601\u001b[0m         warnings\u001b[38;5;241m.\u001b[39mwarn(msg, warning_type, stacklevel\u001b[38;5;241m=\u001b[39m\u001b[38;5;241m2\u001b[39m)\n\u001b[0;32m--> 603\u001b[0m \u001b[38;5;28;01mreturn\u001b[39;00m \u001b[43mfunction\u001b[49m\u001b[43m(\u001b[49m\u001b[38;5;241;43m*\u001b[39;49m\u001b[43margs\u001b[49m\u001b[43m,\u001b[49m\u001b[43m \u001b[49m\u001b[38;5;241;43m*\u001b[39;49m\u001b[38;5;241;43m*\u001b[39;49m\u001b[43mkwargs\u001b[49m\u001b[43m)\u001b[49m\n",
      "File \u001b[0;32m~/.local/lib/python3.10/site-packages/astroquery/heasarc/core.py:424\u001b[0m, in \u001b[0;36mHeasarcClass.query_region\u001b[0;34m(self, position, catalog, radius, spatial, width, polygon, add_offset, get_query_payload, columns, cache, verbose, maxrec, **kwargs)\u001b[0m\n\u001b[1;32m    422\u001b[0m \u001b[38;5;28;01mif\u001b[39;00m get_query_payload:\n\u001b[1;32m    423\u001b[0m     \u001b[38;5;28;01mreturn\u001b[39;00m adql\n\u001b[0;32m--> 424\u001b[0m response \u001b[38;5;241m=\u001b[39m \u001b[38;5;28;43mself\u001b[39;49m\u001b[38;5;241;43m.\u001b[39;49m\u001b[43mquery_tap\u001b[49m\u001b[43m(\u001b[49m\u001b[43mquery\u001b[49m\u001b[38;5;241;43m=\u001b[39;49m\u001b[43madql\u001b[49m\u001b[43m,\u001b[49m\u001b[43m \u001b[49m\u001b[43mmaxrec\u001b[49m\u001b[38;5;241;43m=\u001b[39;49m\u001b[43mmaxrec\u001b[49m\u001b[43m)\u001b[49m\n\u001b[1;32m    426\u001b[0m \u001b[38;5;66;03m# save the response in case we want to use it later\u001b[39;00m\n\u001b[1;32m    427\u001b[0m \u001b[38;5;28mself\u001b[39m\u001b[38;5;241m.\u001b[39m_last_result \u001b[38;5;241m=\u001b[39m response\n",
      "File \u001b[0;32m~/.local/lib/python3.10/site-packages/astroquery/heasarc/core.py:289\u001b[0m, in \u001b[0;36mHeasarcClass.query_tap\u001b[0;34m(self, query, maxrec)\u001b[0m\n\u001b[1;32m    287\u001b[0m log\u001b[38;5;241m.\u001b[39mdebug(\u001b[38;5;124mf\u001b[39m\u001b[38;5;124m'\u001b[39m\u001b[38;5;124mTAP query: \u001b[39m\u001b[38;5;132;01m{\u001b[39;00mquery\u001b[38;5;132;01m}\u001b[39;00m\u001b[38;5;124m'\u001b[39m)\n\u001b[1;32m    288\u001b[0m \u001b[38;5;28mself\u001b[39m\u001b[38;5;241m.\u001b[39m_saved_query \u001b[38;5;241m=\u001b[39m query\n\u001b[0;32m--> 289\u001b[0m \u001b[38;5;28;01mreturn\u001b[39;00m \u001b[38;5;28;43mself\u001b[39;49m\u001b[38;5;241;43m.\u001b[39;49m\u001b[43mtap\u001b[49m\u001b[38;5;241;43m.\u001b[39;49m\u001b[43msearch\u001b[49m\u001b[43m(\u001b[49m\u001b[43mquery\u001b[49m\u001b[43m,\u001b[49m\u001b[43m \u001b[49m\u001b[43mlanguage\u001b[49m\u001b[38;5;241;43m=\u001b[39;49m\u001b[38;5;124;43m'\u001b[39;49m\u001b[38;5;124;43mADQL\u001b[39;49m\u001b[38;5;124;43m'\u001b[39;49m\u001b[43m,\u001b[49m\u001b[43m \u001b[49m\u001b[43mmaxrec\u001b[49m\u001b[38;5;241;43m=\u001b[39;49m\u001b[43mmaxrec\u001b[49m\u001b[43m)\u001b[49m\n",
      "File \u001b[0;32m~/.local/lib/python3.10/site-packages/pyvo/dal/tap.py:282\u001b[0m, in \u001b[0;36mTAPService.run_sync\u001b[0;34m(self, query, language, maxrec, uploads, **keywords)\u001b[0m\n\u001b[1;32m    253\u001b[0m \u001b[38;5;28;01mdef\u001b[39;00m \u001b[38;5;21mrun_sync\u001b[39m(\n\u001b[1;32m    254\u001b[0m         \u001b[38;5;28mself\u001b[39m, query, \u001b[38;5;241m*\u001b[39m, language\u001b[38;5;241m=\u001b[39m\u001b[38;5;124m\"\u001b[39m\u001b[38;5;124mADQL\u001b[39m\u001b[38;5;124m\"\u001b[39m, maxrec\u001b[38;5;241m=\u001b[39m\u001b[38;5;28;01mNone\u001b[39;00m, uploads\u001b[38;5;241m=\u001b[39m\u001b[38;5;28;01mNone\u001b[39;00m,\n\u001b[1;32m    255\u001b[0m         \u001b[38;5;241m*\u001b[39m\u001b[38;5;241m*\u001b[39mkeywords):\n\u001b[1;32m    256\u001b[0m \u001b[38;5;250m    \u001b[39m\u001b[38;5;124;03m\"\"\"\u001b[39;00m\n\u001b[1;32m    257\u001b[0m \u001b[38;5;124;03m    runs sync query and returns its result\u001b[39;00m\n\u001b[1;32m    258\u001b[0m \n\u001b[0;32m   (...)\u001b[0m\n\u001b[1;32m    278\u001b[0m \u001b[38;5;124;03m    TAPResults\u001b[39;00m\n\u001b[1;32m    279\u001b[0m \u001b[38;5;124;03m    \"\"\"\u001b[39;00m\n\u001b[1;32m    280\u001b[0m     \u001b[38;5;28;01mreturn\u001b[39;00m \u001b[38;5;28;43mself\u001b[39;49m\u001b[38;5;241;43m.\u001b[39;49m\u001b[43mcreate_query\u001b[49m\u001b[43m(\u001b[49m\n\u001b[1;32m    281\u001b[0m \u001b[43m        \u001b[49m\u001b[43mquery\u001b[49m\u001b[43m,\u001b[49m\u001b[43m \u001b[49m\u001b[43mlanguage\u001b[49m\u001b[38;5;241;43m=\u001b[39;49m\u001b[43mlanguage\u001b[49m\u001b[43m,\u001b[49m\u001b[43m \u001b[49m\u001b[43mmaxrec\u001b[49m\u001b[38;5;241;43m=\u001b[39;49m\u001b[43mmaxrec\u001b[49m\u001b[43m,\u001b[49m\u001b[43m \u001b[49m\u001b[43muploads\u001b[49m\u001b[38;5;241;43m=\u001b[39;49m\u001b[43muploads\u001b[49m\u001b[43m,\u001b[49m\n\u001b[0;32m--> 282\u001b[0m \u001b[43m        \u001b[49m\u001b[38;5;241;43m*\u001b[39;49m\u001b[38;5;241;43m*\u001b[39;49m\u001b[43mkeywords\u001b[49m\u001b[43m)\u001b[49m\u001b[38;5;241;43m.\u001b[39;49m\u001b[43mexecute\u001b[49m\u001b[43m(\u001b[49m\u001b[43m)\u001b[49m\n",
      "File \u001b[0;32m~/.local/lib/python3.10/site-packages/pyvo/dal/tap.py:1121\u001b[0m, in \u001b[0;36mTAPQuery.execute\u001b[0;34m(self)\u001b[0m\n\u001b[1;32m   1107\u001b[0m \u001b[38;5;28;01mdef\u001b[39;00m \u001b[38;5;21mexecute\u001b[39m(\u001b[38;5;28mself\u001b[39m):\n\u001b[1;32m   1108\u001b[0m \u001b[38;5;250m    \u001b[39m\u001b[38;5;124;03m\"\"\"\u001b[39;00m\n\u001b[1;32m   1109\u001b[0m \u001b[38;5;124;03m    submit the query and return the results as a TAPResults instance\u001b[39;00m\n\u001b[1;32m   1110\u001b[0m \n\u001b[0;32m   (...)\u001b[0m\n\u001b[1;32m   1119\u001b[0m \u001b[38;5;124;03m       for errors parsing the VOTable response\u001b[39;00m\n\u001b[1;32m   1120\u001b[0m \u001b[38;5;124;03m    \"\"\"\u001b[39;00m\n\u001b[0;32m-> 1121\u001b[0m     \u001b[38;5;28;01mreturn\u001b[39;00m TAPResults(\u001b[38;5;28;43mself\u001b[39;49m\u001b[38;5;241;43m.\u001b[39;49m\u001b[43mexecute_votable\u001b[49m\u001b[43m(\u001b[49m\u001b[43m)\u001b[49m, url\u001b[38;5;241m=\u001b[39m\u001b[38;5;28mself\u001b[39m\u001b[38;5;241m.\u001b[39mqueryurl, session\u001b[38;5;241m=\u001b[39m\u001b[38;5;28mself\u001b[39m\u001b[38;5;241m.\u001b[39m_session)\n",
      "File \u001b[0;32m~/.local/lib/python3.10/site-packages/pyvo/dal/query.py:260\u001b[0m, in \u001b[0;36mDALQuery.execute_votable\u001b[0;34m(self, post)\u001b[0m\n\u001b[1;32m    235\u001b[0m \u001b[38;5;250m\u001b[39m\u001b[38;5;124;03m\"\"\"\u001b[39;00m\n\u001b[1;32m    236\u001b[0m \u001b[38;5;124;03mSubmit the query and return the results as an AstroPy votable instance.\u001b[39;00m\n\u001b[1;32m    237\u001b[0m \u001b[38;5;124;03mAs this is the level where qualified error messages are available,\u001b[39;00m\n\u001b[0;32m   (...)\u001b[0m\n\u001b[1;32m    257\u001b[0m \u001b[38;5;124;03mDALQueryError\u001b[39;00m\n\u001b[1;32m    258\u001b[0m \u001b[38;5;124;03m\"\"\"\u001b[39;00m\n\u001b[1;32m    259\u001b[0m \u001b[38;5;28;01mtry\u001b[39;00m:\n\u001b[0;32m--> 260\u001b[0m     \u001b[38;5;28;01mreturn\u001b[39;00m \u001b[43mvotableparse\u001b[49m\u001b[43m(\u001b[49m\u001b[38;5;28;43mself\u001b[39;49m\u001b[38;5;241;43m.\u001b[39;49m\u001b[43mexecute_stream\u001b[49m\u001b[43m(\u001b[49m\u001b[43mpost\u001b[49m\u001b[38;5;241;43m=\u001b[39;49m\u001b[43mpost\u001b[49m\u001b[43m)\u001b[49m\u001b[38;5;241;43m.\u001b[39;49m\u001b[43mread\u001b[49m\u001b[43m)\u001b[49m\n\u001b[1;32m    261\u001b[0m \u001b[38;5;28;01mexcept\u001b[39;00m \u001b[38;5;167;01mException\u001b[39;00m \u001b[38;5;28;01mas\u001b[39;00m e:\n\u001b[1;32m    262\u001b[0m     \u001b[38;5;28mself\u001b[39m\u001b[38;5;241m.\u001b[39mraise_if_error()\n",
      "File \u001b[0;32m~/.local/lib/python3.10/site-packages/astropy/io/votable/table.py:164\u001b[0m, in \u001b[0;36mparse\u001b[0;34m(source, columns, invalid, verify, chunk_size, table_number, table_id, filename, unit_format, datatype_mapping, _debug_python_based_parser)\u001b[0m\n\u001b[1;32m    159\u001b[0m     config[\u001b[38;5;124m\"\u001b[39m\u001b[38;5;124mfilename\u001b[39m\u001b[38;5;124m\"\u001b[39m] \u001b[38;5;241m=\u001b[39m source\n\u001b[1;32m    161\u001b[0m \u001b[38;5;28;01mwith\u001b[39;00m iterparser\u001b[38;5;241m.\u001b[39mget_xml_iterator(\n\u001b[1;32m    162\u001b[0m     source, _debug_python_based_parser\u001b[38;5;241m=\u001b[39m_debug_python_based_parser\n\u001b[1;32m    163\u001b[0m ) \u001b[38;5;28;01mas\u001b[39;00m iterator:\n\u001b[0;32m--> 164\u001b[0m     \u001b[38;5;28;01mreturn\u001b[39;00m \u001b[43mtree\u001b[49m\u001b[38;5;241;43m.\u001b[39;49m\u001b[43mVOTableFile\u001b[49m\u001b[43m(\u001b[49m\u001b[43mconfig\u001b[49m\u001b[38;5;241;43m=\u001b[39;49m\u001b[43mconfig\u001b[49m\u001b[43m,\u001b[49m\u001b[43m \u001b[49m\u001b[43mpos\u001b[49m\u001b[38;5;241;43m=\u001b[39;49m\u001b[43m(\u001b[49m\u001b[38;5;241;43m1\u001b[39;49m\u001b[43m,\u001b[49m\u001b[43m \u001b[49m\u001b[38;5;241;43m1\u001b[39;49m\u001b[43m)\u001b[49m\u001b[43m)\u001b[49m\u001b[38;5;241;43m.\u001b[39;49m\u001b[43mparse\u001b[49m\u001b[43m(\u001b[49m\u001b[43miterator\u001b[49m\u001b[43m,\u001b[49m\u001b[43m \u001b[49m\u001b[43mconfig\u001b[49m\u001b[43m)\u001b[49m\n",
      "File \u001b[0;32m~/.local/lib/python3.10/site-packages/astropy/io/votable/tree.py:4190\u001b[0m, in \u001b[0;36mVOTableFile.parse\u001b[0;34m(self, iterator, config)\u001b[0m\n\u001b[1;32m   4188\u001b[0m \u001b[38;5;28;01mfor\u001b[39;00m start, tag, data, pos \u001b[38;5;129;01min\u001b[39;00m iterator:\n\u001b[1;32m   4189\u001b[0m     \u001b[38;5;28;01mif\u001b[39;00m start:\n\u001b[0;32m-> 4190\u001b[0m         \u001b[43mtag_mapping\u001b[49m\u001b[38;5;241;43m.\u001b[39;49m\u001b[43mget\u001b[49m\u001b[43m(\u001b[49m\u001b[43mtag\u001b[49m\u001b[43m,\u001b[49m\u001b[43m \u001b[49m\u001b[38;5;28;43mself\u001b[39;49m\u001b[38;5;241;43m.\u001b[39;49m\u001b[43m_add_unknown_tag\u001b[49m\u001b[43m)\u001b[49m\u001b[43m(\u001b[49m\n\u001b[1;32m   4191\u001b[0m \u001b[43m            \u001b[49m\u001b[43miterator\u001b[49m\u001b[43m,\u001b[49m\u001b[43m \u001b[49m\u001b[43mtag\u001b[49m\u001b[43m,\u001b[49m\u001b[43m \u001b[49m\u001b[43mdata\u001b[49m\u001b[43m,\u001b[49m\u001b[43m \u001b[49m\u001b[43mconfig\u001b[49m\u001b[43m,\u001b[49m\u001b[43m \u001b[49m\u001b[43mpos\u001b[49m\n\u001b[1;32m   4192\u001b[0m \u001b[43m        \u001b[49m\u001b[43m)\u001b[49m\n\u001b[1;32m   4193\u001b[0m     \u001b[38;5;28;01melif\u001b[39;00m tag \u001b[38;5;241m==\u001b[39m \u001b[38;5;124m\"\u001b[39m\u001b[38;5;124mDESCRIPTION\u001b[39m\u001b[38;5;124m\"\u001b[39m:\n\u001b[1;32m   4194\u001b[0m         \u001b[38;5;28;01mif\u001b[39;00m \u001b[38;5;28mself\u001b[39m\u001b[38;5;241m.\u001b[39mdescription \u001b[38;5;129;01mis\u001b[39;00m \u001b[38;5;129;01mnot\u001b[39;00m \u001b[38;5;28;01mNone\u001b[39;00m:\n",
      "File \u001b[0;32m~/.local/lib/python3.10/site-packages/astropy/io/votable/tree.py:4070\u001b[0m, in \u001b[0;36mVOTableFile._add_resource\u001b[0;34m(self, iterator, tag, data, config, pos)\u001b[0m\n\u001b[1;32m   4068\u001b[0m resource \u001b[38;5;241m=\u001b[39m Resource(config\u001b[38;5;241m=\u001b[39mconfig, pos\u001b[38;5;241m=\u001b[39mpos, \u001b[38;5;241m*\u001b[39m\u001b[38;5;241m*\u001b[39mdata)\n\u001b[1;32m   4069\u001b[0m \u001b[38;5;28mself\u001b[39m\u001b[38;5;241m.\u001b[39mresources\u001b[38;5;241m.\u001b[39mappend(resource)\n\u001b[0;32m-> 4070\u001b[0m \u001b[43mresource\u001b[49m\u001b[38;5;241;43m.\u001b[39;49m\u001b[43mparse\u001b[49m\u001b[43m(\u001b[49m\u001b[38;5;28;43mself\u001b[39;49m\u001b[43m,\u001b[49m\u001b[43m \u001b[49m\u001b[43miterator\u001b[49m\u001b[43m,\u001b[49m\u001b[43m \u001b[49m\u001b[43mconfig\u001b[49m\u001b[43m)\u001b[49m\n",
      "File \u001b[0;32m~/.local/lib/python3.10/site-packages/astropy/io/votable/tree.py:3862\u001b[0m, in \u001b[0;36mResource.parse\u001b[0;34m(self, votable, iterator, config)\u001b[0m\n\u001b[1;32m   3860\u001b[0m     \u001b[38;5;28mself\u001b[39m\u001b[38;5;241m.\u001b[39m_mivot_block\u001b[38;5;241m.\u001b[39mparse(votable, iterator, config)\n\u001b[1;32m   3861\u001b[0m \u001b[38;5;28;01melif\u001b[39;00m start:\n\u001b[0;32m-> 3862\u001b[0m     \u001b[43mtag_mapping\u001b[49m\u001b[38;5;241;43m.\u001b[39;49m\u001b[43mget\u001b[49m\u001b[43m(\u001b[49m\u001b[43mtag\u001b[49m\u001b[43m,\u001b[49m\u001b[43m \u001b[49m\u001b[38;5;28;43mself\u001b[39;49m\u001b[38;5;241;43m.\u001b[39;49m\u001b[43m_add_unknown_tag\u001b[49m\u001b[43m)\u001b[49m\u001b[43m(\u001b[49m\n\u001b[1;32m   3863\u001b[0m \u001b[43m        \u001b[49m\u001b[43miterator\u001b[49m\u001b[43m,\u001b[49m\u001b[43m \u001b[49m\u001b[43mtag\u001b[49m\u001b[43m,\u001b[49m\u001b[43m \u001b[49m\u001b[43mdata\u001b[49m\u001b[43m,\u001b[49m\u001b[43m \u001b[49m\u001b[43mconfig\u001b[49m\u001b[43m,\u001b[49m\u001b[43m \u001b[49m\u001b[43mpos\u001b[49m\n\u001b[1;32m   3864\u001b[0m \u001b[43m    \u001b[49m\u001b[43m)\u001b[49m\n\u001b[1;32m   3865\u001b[0m \u001b[38;5;28;01melif\u001b[39;00m tag \u001b[38;5;241m==\u001b[39m \u001b[38;5;124m\"\u001b[39m\u001b[38;5;124mDESCRIPTION\u001b[39m\u001b[38;5;124m\"\u001b[39m:\n\u001b[1;32m   3866\u001b[0m     \u001b[38;5;28;01mif\u001b[39;00m \u001b[38;5;28mself\u001b[39m\u001b[38;5;241m.\u001b[39mdescription \u001b[38;5;129;01mis\u001b[39;00m \u001b[38;5;129;01mnot\u001b[39;00m \u001b[38;5;28;01mNone\u001b[39;00m:\n",
      "File \u001b[0;32m~/.local/lib/python3.10/site-packages/astropy/io/votable/tree.py:3804\u001b[0m, in \u001b[0;36mResource._add_table\u001b[0;34m(self, iterator, tag, data, config, pos)\u001b[0m\n\u001b[1;32m   3802\u001b[0m table \u001b[38;5;241m=\u001b[39m TableElement(\u001b[38;5;28mself\u001b[39m\u001b[38;5;241m.\u001b[39m_votable, config\u001b[38;5;241m=\u001b[39mconfig, pos\u001b[38;5;241m=\u001b[39mpos, \u001b[38;5;241m*\u001b[39m\u001b[38;5;241m*\u001b[39mdata)\n\u001b[1;32m   3803\u001b[0m \u001b[38;5;28mself\u001b[39m\u001b[38;5;241m.\u001b[39mtables\u001b[38;5;241m.\u001b[39mappend(table)\n\u001b[0;32m-> 3804\u001b[0m \u001b[43mtable\u001b[49m\u001b[38;5;241;43m.\u001b[39;49m\u001b[43mparse\u001b[49m\u001b[43m(\u001b[49m\u001b[43miterator\u001b[49m\u001b[43m,\u001b[49m\u001b[43m \u001b[49m\u001b[43mconfig\u001b[49m\u001b[43m)\u001b[49m\n",
      "File \u001b[0;32m~/.local/lib/python3.10/site-packages/astropy/io/votable/tree.py:2764\u001b[0m, in \u001b[0;36mTableElement.parse\u001b[0;34m(self, iterator, config)\u001b[0m\n\u001b[1;32m   2762\u001b[0m \u001b[38;5;28;01melif\u001b[39;00m tag \u001b[38;5;241m==\u001b[39m \u001b[38;5;124m\"\u001b[39m\u001b[38;5;124mBINARY\u001b[39m\u001b[38;5;124m\"\u001b[39m:\n\u001b[1;32m   2763\u001b[0m     warn_unknown_attrs(\u001b[38;5;124m\"\u001b[39m\u001b[38;5;124mBINARY\u001b[39m\u001b[38;5;124m\"\u001b[39m, data\u001b[38;5;241m.\u001b[39mkeys(), config, pos)\n\u001b[0;32m-> 2764\u001b[0m     \u001b[38;5;28mself\u001b[39m\u001b[38;5;241m.\u001b[39marray \u001b[38;5;241m=\u001b[39m \u001b[38;5;28;43mself\u001b[39;49m\u001b[38;5;241;43m.\u001b[39;49m\u001b[43m_parse_binary\u001b[49m\u001b[43m(\u001b[49m\n\u001b[1;32m   2765\u001b[0m \u001b[43m        \u001b[49m\u001b[38;5;241;43m1\u001b[39;49m\u001b[43m,\u001b[49m\u001b[43m \u001b[49m\u001b[43miterator\u001b[49m\u001b[43m,\u001b[49m\u001b[43m \u001b[49m\u001b[43mcolnumbers\u001b[49m\u001b[43m,\u001b[49m\u001b[43m \u001b[49m\u001b[43mfields\u001b[49m\u001b[43m,\u001b[49m\u001b[43m \u001b[49m\u001b[43mconfig\u001b[49m\u001b[43m,\u001b[49m\u001b[43m \u001b[49m\u001b[43mpos\u001b[49m\n\u001b[1;32m   2766\u001b[0m \u001b[43m    \u001b[49m\u001b[43m)\u001b[49m\n\u001b[1;32m   2767\u001b[0m \u001b[38;5;28;01melif\u001b[39;00m tag \u001b[38;5;241m==\u001b[39m \u001b[38;5;124m\"\u001b[39m\u001b[38;5;124mBINARY2\u001b[39m\u001b[38;5;124m\"\u001b[39m:\n\u001b[1;32m   2768\u001b[0m     \u001b[38;5;28;01mif\u001b[39;00m \u001b[38;5;129;01mnot\u001b[39;00m config[\u001b[38;5;124m\"\u001b[39m\u001b[38;5;124mversion_1_3_or_later\u001b[39m\u001b[38;5;124m\"\u001b[39m]:\n",
      "File \u001b[0;32m~/.local/lib/python3.10/site-packages/astropy/io/votable/tree.py:2996\u001b[0m, in \u001b[0;36mTableElement._parse_binary\u001b[0;34m(self, mode, iterator, colnumbers, fields, config, pos)\u001b[0m\n\u001b[1;32m   2993\u001b[0m \u001b[38;5;28;01mdef\u001b[39;00m \u001b[38;5;21m_parse_binary\u001b[39m(\u001b[38;5;28mself\u001b[39m, mode, iterator, colnumbers, fields, config, pos):\n\u001b[1;32m   2994\u001b[0m     fields \u001b[38;5;241m=\u001b[39m \u001b[38;5;28mself\u001b[39m\u001b[38;5;241m.\u001b[39mfields\n\u001b[0;32m-> 2996\u001b[0m     careful_read \u001b[38;5;241m=\u001b[39m \u001b[38;5;28;43mself\u001b[39;49m\u001b[38;5;241;43m.\u001b[39;49m\u001b[43m_get_binary_data_stream\u001b[49m\u001b[43m(\u001b[49m\u001b[43miterator\u001b[49m\u001b[43m,\u001b[49m\u001b[43m \u001b[49m\u001b[43mconfig\u001b[49m\u001b[43m)\u001b[49m\n\u001b[1;32m   2998\u001b[0m     \u001b[38;5;66;03m# Need to have only one reference so that we can resize the\u001b[39;00m\n\u001b[1;32m   2999\u001b[0m     \u001b[38;5;66;03m# array\u001b[39;00m\n\u001b[1;32m   3000\u001b[0m     array \u001b[38;5;241m=\u001b[39m \u001b[38;5;28mself\u001b[39m\u001b[38;5;241m.\u001b[39marray\n",
      "File \u001b[0;32m~/.local/lib/python3.10/site-packages/astropy/io/votable/tree.py:2932\u001b[0m, in \u001b[0;36mTableElement._get_binary_data_stream\u001b[0;34m(self, iterator, config)\u001b[0m\n\u001b[1;32m   2930\u001b[0m \u001b[38;5;28;01mdef\u001b[39;00m \u001b[38;5;21m_get_binary_data_stream\u001b[39m(\u001b[38;5;28mself\u001b[39m, iterator, config):\n\u001b[1;32m   2931\u001b[0m     have_local_stream \u001b[38;5;241m=\u001b[39m \u001b[38;5;28;01mFalse\u001b[39;00m\n\u001b[0;32m-> 2932\u001b[0m     \u001b[38;5;28;01mfor\u001b[39;00m start, tag, data, pos \u001b[38;5;129;01min\u001b[39;00m iterator:\n\u001b[1;32m   2933\u001b[0m         \u001b[38;5;28;01mif\u001b[39;00m tag \u001b[38;5;241m==\u001b[39m \u001b[38;5;124m\"\u001b[39m\u001b[38;5;124mSTREAM\u001b[39m\u001b[38;5;124m\"\u001b[39m:\n\u001b[1;32m   2934\u001b[0m             \u001b[38;5;28;01mif\u001b[39;00m start:\n",
      "File \u001b[0;32m~/.local/lib/python3.10/site-packages/urllib3/response.py:949\u001b[0m, in \u001b[0;36mHTTPResponse.read\u001b[0;34m(self, amt, decode_content, cache_content)\u001b[0m\n\u001b[1;32m    946\u001b[0m     \u001b[38;5;28;01mif\u001b[39;00m \u001b[38;5;28mlen\u001b[39m(\u001b[38;5;28mself\u001b[39m\u001b[38;5;241m.\u001b[39m_decoded_buffer) \u001b[38;5;241m>\u001b[39m\u001b[38;5;241m=\u001b[39m amt:\n\u001b[1;32m    947\u001b[0m         \u001b[38;5;28;01mreturn\u001b[39;00m \u001b[38;5;28mself\u001b[39m\u001b[38;5;241m.\u001b[39m_decoded_buffer\u001b[38;5;241m.\u001b[39mget(amt)\n\u001b[0;32m--> 949\u001b[0m data \u001b[38;5;241m=\u001b[39m \u001b[38;5;28;43mself\u001b[39;49m\u001b[38;5;241;43m.\u001b[39;49m\u001b[43m_raw_read\u001b[49m\u001b[43m(\u001b[49m\u001b[43mamt\u001b[49m\u001b[43m)\u001b[49m\n\u001b[1;32m    951\u001b[0m flush_decoder \u001b[38;5;241m=\u001b[39m amt \u001b[38;5;129;01mis\u001b[39;00m \u001b[38;5;28;01mNone\u001b[39;00m \u001b[38;5;129;01mor\u001b[39;00m (amt \u001b[38;5;241m!=\u001b[39m \u001b[38;5;241m0\u001b[39m \u001b[38;5;129;01mand\u001b[39;00m \u001b[38;5;129;01mnot\u001b[39;00m data)\n\u001b[1;32m    953\u001b[0m \u001b[38;5;28;01mif\u001b[39;00m \u001b[38;5;129;01mnot\u001b[39;00m data \u001b[38;5;129;01mand\u001b[39;00m \u001b[38;5;28mlen\u001b[39m(\u001b[38;5;28mself\u001b[39m\u001b[38;5;241m.\u001b[39m_decoded_buffer) \u001b[38;5;241m==\u001b[39m \u001b[38;5;241m0\u001b[39m:\n",
      "File \u001b[0;32m~/.local/lib/python3.10/site-packages/urllib3/response.py:873\u001b[0m, in \u001b[0;36mHTTPResponse._raw_read\u001b[0;34m(self, amt, read1)\u001b[0m\n\u001b[1;32m    870\u001b[0m fp_closed \u001b[38;5;241m=\u001b[39m \u001b[38;5;28mgetattr\u001b[39m(\u001b[38;5;28mself\u001b[39m\u001b[38;5;241m.\u001b[39m_fp, \u001b[38;5;124m\"\u001b[39m\u001b[38;5;124mclosed\u001b[39m\u001b[38;5;124m\"\u001b[39m, \u001b[38;5;28;01mFalse\u001b[39;00m)\n\u001b[1;32m    872\u001b[0m \u001b[38;5;28;01mwith\u001b[39;00m \u001b[38;5;28mself\u001b[39m\u001b[38;5;241m.\u001b[39m_error_catcher():\n\u001b[0;32m--> 873\u001b[0m     data \u001b[38;5;241m=\u001b[39m \u001b[38;5;28;43mself\u001b[39;49m\u001b[38;5;241;43m.\u001b[39;49m\u001b[43m_fp_read\u001b[49m\u001b[43m(\u001b[49m\u001b[43mamt\u001b[49m\u001b[43m,\u001b[49m\u001b[43m \u001b[49m\u001b[43mread1\u001b[49m\u001b[38;5;241;43m=\u001b[39;49m\u001b[43mread1\u001b[49m\u001b[43m)\u001b[49m \u001b[38;5;28;01mif\u001b[39;00m \u001b[38;5;129;01mnot\u001b[39;00m fp_closed \u001b[38;5;28;01melse\u001b[39;00m \u001b[38;5;124mb\u001b[39m\u001b[38;5;124m\"\u001b[39m\u001b[38;5;124m\"\u001b[39m\n\u001b[1;32m    874\u001b[0m     \u001b[38;5;28;01mif\u001b[39;00m amt \u001b[38;5;129;01mis\u001b[39;00m \u001b[38;5;129;01mnot\u001b[39;00m \u001b[38;5;28;01mNone\u001b[39;00m \u001b[38;5;129;01mand\u001b[39;00m amt \u001b[38;5;241m!=\u001b[39m \u001b[38;5;241m0\u001b[39m \u001b[38;5;129;01mand\u001b[39;00m \u001b[38;5;129;01mnot\u001b[39;00m data:\n\u001b[1;32m    875\u001b[0m         \u001b[38;5;66;03m# Platform-specific: Buggy versions of Python.\u001b[39;00m\n\u001b[1;32m    876\u001b[0m         \u001b[38;5;66;03m# Close the connection when no data is returned\u001b[39;00m\n\u001b[0;32m   (...)\u001b[0m\n\u001b[1;32m    881\u001b[0m         \u001b[38;5;66;03m# not properly close the connection in all cases. There is\u001b[39;00m\n\u001b[1;32m    882\u001b[0m         \u001b[38;5;66;03m# no harm in redundantly calling close.\u001b[39;00m\n\u001b[1;32m    883\u001b[0m         \u001b[38;5;28mself\u001b[39m\u001b[38;5;241m.\u001b[39m_fp\u001b[38;5;241m.\u001b[39mclose()\n",
      "File \u001b[0;32m~/.local/lib/python3.10/site-packages/urllib3/response.py:856\u001b[0m, in \u001b[0;36mHTTPResponse._fp_read\u001b[0;34m(self, amt, read1)\u001b[0m\n\u001b[1;32m    853\u001b[0m     \u001b[38;5;28;01mreturn\u001b[39;00m \u001b[38;5;28mself\u001b[39m\u001b[38;5;241m.\u001b[39m_fp\u001b[38;5;241m.\u001b[39mread1(amt) \u001b[38;5;28;01mif\u001b[39;00m amt \u001b[38;5;129;01mis\u001b[39;00m \u001b[38;5;129;01mnot\u001b[39;00m \u001b[38;5;28;01mNone\u001b[39;00m \u001b[38;5;28;01melse\u001b[39;00m \u001b[38;5;28mself\u001b[39m\u001b[38;5;241m.\u001b[39m_fp\u001b[38;5;241m.\u001b[39mread1()\n\u001b[1;32m    854\u001b[0m \u001b[38;5;28;01melse\u001b[39;00m:\n\u001b[1;32m    855\u001b[0m     \u001b[38;5;66;03m# StringIO doesn't like amt=None\u001b[39;00m\n\u001b[0;32m--> 856\u001b[0m     \u001b[38;5;28;01mreturn\u001b[39;00m \u001b[38;5;28;43mself\u001b[39;49m\u001b[38;5;241;43m.\u001b[39;49m\u001b[43m_fp\u001b[49m\u001b[38;5;241;43m.\u001b[39;49m\u001b[43mread\u001b[49m\u001b[43m(\u001b[49m\u001b[43mamt\u001b[49m\u001b[43m)\u001b[49m \u001b[38;5;28;01mif\u001b[39;00m amt \u001b[38;5;129;01mis\u001b[39;00m \u001b[38;5;129;01mnot\u001b[39;00m \u001b[38;5;28;01mNone\u001b[39;00m \u001b[38;5;28;01melse\u001b[39;00m \u001b[38;5;28mself\u001b[39m\u001b[38;5;241m.\u001b[39m_fp\u001b[38;5;241m.\u001b[39mread()\n",
      "File \u001b[0;32m/usr/lib/python3.10/http/client.py:460\u001b[0m, in \u001b[0;36mHTTPResponse.read\u001b[0;34m(self, amt)\u001b[0m\n\u001b[1;32m    457\u001b[0m     \u001b[38;5;28;01mreturn\u001b[39;00m \u001b[38;5;124mb\u001b[39m\u001b[38;5;124m\"\u001b[39m\u001b[38;5;124m\"\u001b[39m\n\u001b[1;32m    459\u001b[0m \u001b[38;5;28;01mif\u001b[39;00m \u001b[38;5;28mself\u001b[39m\u001b[38;5;241m.\u001b[39mchunked:\n\u001b[0;32m--> 460\u001b[0m     \u001b[38;5;28;01mreturn\u001b[39;00m \u001b[38;5;28;43mself\u001b[39;49m\u001b[38;5;241;43m.\u001b[39;49m\u001b[43m_read_chunked\u001b[49m\u001b[43m(\u001b[49m\u001b[43mamt\u001b[49m\u001b[43m)\u001b[49m\n\u001b[1;32m    462\u001b[0m \u001b[38;5;28;01mif\u001b[39;00m amt \u001b[38;5;129;01mis\u001b[39;00m \u001b[38;5;129;01mnot\u001b[39;00m \u001b[38;5;28;01mNone\u001b[39;00m:\n\u001b[1;32m    463\u001b[0m     \u001b[38;5;28;01mif\u001b[39;00m \u001b[38;5;28mself\u001b[39m\u001b[38;5;241m.\u001b[39mlength \u001b[38;5;129;01mis\u001b[39;00m \u001b[38;5;129;01mnot\u001b[39;00m \u001b[38;5;28;01mNone\u001b[39;00m \u001b[38;5;129;01mand\u001b[39;00m amt \u001b[38;5;241m>\u001b[39m \u001b[38;5;28mself\u001b[39m\u001b[38;5;241m.\u001b[39mlength:\n\u001b[1;32m    464\u001b[0m         \u001b[38;5;66;03m# clip the read to the \"end of response\"\u001b[39;00m\n",
      "File \u001b[0;32m/usr/lib/python3.10/http/client.py:588\u001b[0m, in \u001b[0;36mHTTPResponse._read_chunked\u001b[0;34m(self, amt)\u001b[0m\n\u001b[1;32m    585\u001b[0m     \u001b[38;5;28;01mbreak\u001b[39;00m\n\u001b[1;32m    587\u001b[0m \u001b[38;5;28;01mif\u001b[39;00m amt \u001b[38;5;129;01mis\u001b[39;00m \u001b[38;5;129;01mnot\u001b[39;00m \u001b[38;5;28;01mNone\u001b[39;00m \u001b[38;5;129;01mand\u001b[39;00m amt \u001b[38;5;241m<\u001b[39m\u001b[38;5;241m=\u001b[39m chunk_left:\n\u001b[0;32m--> 588\u001b[0m     value\u001b[38;5;241m.\u001b[39mappend(\u001b[38;5;28;43mself\u001b[39;49m\u001b[38;5;241;43m.\u001b[39;49m\u001b[43m_safe_read\u001b[49m\u001b[43m(\u001b[49m\u001b[43mamt\u001b[49m\u001b[43m)\u001b[49m)\n\u001b[1;32m    589\u001b[0m     \u001b[38;5;28mself\u001b[39m\u001b[38;5;241m.\u001b[39mchunk_left \u001b[38;5;241m=\u001b[39m chunk_left \u001b[38;5;241m-\u001b[39m amt\n\u001b[1;32m    590\u001b[0m     \u001b[38;5;28;01mbreak\u001b[39;00m\n",
      "File \u001b[0;32m/usr/lib/python3.10/http/client.py:631\u001b[0m, in \u001b[0;36mHTTPResponse._safe_read\u001b[0;34m(self, amt)\u001b[0m\n\u001b[1;32m    624\u001b[0m \u001b[38;5;28;01mdef\u001b[39;00m \u001b[38;5;21m_safe_read\u001b[39m(\u001b[38;5;28mself\u001b[39m, amt):\n\u001b[1;32m    625\u001b[0m \u001b[38;5;250m    \u001b[39m\u001b[38;5;124;03m\"\"\"Read the number of bytes requested.\u001b[39;00m\n\u001b[1;32m    626\u001b[0m \n\u001b[1;32m    627\u001b[0m \u001b[38;5;124;03m    This function should be used when <amt> bytes \"should\" be present for\u001b[39;00m\n\u001b[1;32m    628\u001b[0m \u001b[38;5;124;03m    reading. If the bytes are truly not available (due to EOF), then the\u001b[39;00m\n\u001b[1;32m    629\u001b[0m \u001b[38;5;124;03m    IncompleteRead exception can be used to detect the problem.\u001b[39;00m\n\u001b[1;32m    630\u001b[0m \u001b[38;5;124;03m    \"\"\"\u001b[39;00m\n\u001b[0;32m--> 631\u001b[0m     data \u001b[38;5;241m=\u001b[39m \u001b[38;5;28;43mself\u001b[39;49m\u001b[38;5;241;43m.\u001b[39;49m\u001b[43mfp\u001b[49m\u001b[38;5;241;43m.\u001b[39;49m\u001b[43mread\u001b[49m\u001b[43m(\u001b[49m\u001b[43mamt\u001b[49m\u001b[43m)\u001b[49m\n\u001b[1;32m    632\u001b[0m     \u001b[38;5;28;01mif\u001b[39;00m \u001b[38;5;28mlen\u001b[39m(data) \u001b[38;5;241m<\u001b[39m amt:\n\u001b[1;32m    633\u001b[0m         \u001b[38;5;28;01mraise\u001b[39;00m IncompleteRead(data, amt\u001b[38;5;241m-\u001b[39m\u001b[38;5;28mlen\u001b[39m(data))\n",
      "File \u001b[0;32m/usr/lib/python3.10/socket.py:705\u001b[0m, in \u001b[0;36mSocketIO.readinto\u001b[0;34m(self, b)\u001b[0m\n\u001b[1;32m    703\u001b[0m \u001b[38;5;28;01mwhile\u001b[39;00m \u001b[38;5;28;01mTrue\u001b[39;00m:\n\u001b[1;32m    704\u001b[0m     \u001b[38;5;28;01mtry\u001b[39;00m:\n\u001b[0;32m--> 705\u001b[0m         \u001b[38;5;28;01mreturn\u001b[39;00m \u001b[38;5;28;43mself\u001b[39;49m\u001b[38;5;241;43m.\u001b[39;49m\u001b[43m_sock\u001b[49m\u001b[38;5;241;43m.\u001b[39;49m\u001b[43mrecv_into\u001b[49m\u001b[43m(\u001b[49m\u001b[43mb\u001b[49m\u001b[43m)\u001b[49m\n\u001b[1;32m    706\u001b[0m     \u001b[38;5;28;01mexcept\u001b[39;00m timeout:\n\u001b[1;32m    707\u001b[0m         \u001b[38;5;28mself\u001b[39m\u001b[38;5;241m.\u001b[39m_timeout_occurred \u001b[38;5;241m=\u001b[39m \u001b[38;5;28;01mTrue\u001b[39;00m\n",
      "File \u001b[0;32m/usr/lib/python3.10/ssl.py:1303\u001b[0m, in \u001b[0;36mSSLSocket.recv_into\u001b[0;34m(self, buffer, nbytes, flags)\u001b[0m\n\u001b[1;32m   1299\u001b[0m     \u001b[38;5;28;01mif\u001b[39;00m flags \u001b[38;5;241m!=\u001b[39m \u001b[38;5;241m0\u001b[39m:\n\u001b[1;32m   1300\u001b[0m         \u001b[38;5;28;01mraise\u001b[39;00m \u001b[38;5;167;01mValueError\u001b[39;00m(\n\u001b[1;32m   1301\u001b[0m           \u001b[38;5;124m\"\u001b[39m\u001b[38;5;124mnon-zero flags not allowed in calls to recv_into() on \u001b[39m\u001b[38;5;132;01m%s\u001b[39;00m\u001b[38;5;124m\"\u001b[39m \u001b[38;5;241m%\u001b[39m\n\u001b[1;32m   1302\u001b[0m           \u001b[38;5;28mself\u001b[39m\u001b[38;5;241m.\u001b[39m\u001b[38;5;18m__class__\u001b[39m)\n\u001b[0;32m-> 1303\u001b[0m     \u001b[38;5;28;01mreturn\u001b[39;00m \u001b[38;5;28;43mself\u001b[39;49m\u001b[38;5;241;43m.\u001b[39;49m\u001b[43mread\u001b[49m\u001b[43m(\u001b[49m\u001b[43mnbytes\u001b[49m\u001b[43m,\u001b[49m\u001b[43m \u001b[49m\u001b[43mbuffer\u001b[49m\u001b[43m)\u001b[49m\n\u001b[1;32m   1304\u001b[0m \u001b[38;5;28;01melse\u001b[39;00m:\n\u001b[1;32m   1305\u001b[0m     \u001b[38;5;28;01mreturn\u001b[39;00m \u001b[38;5;28msuper\u001b[39m()\u001b[38;5;241m.\u001b[39mrecv_into(buffer, nbytes, flags)\n",
      "File \u001b[0;32m/usr/lib/python3.10/ssl.py:1159\u001b[0m, in \u001b[0;36mSSLSocket.read\u001b[0;34m(self, len, buffer)\u001b[0m\n\u001b[1;32m   1157\u001b[0m \u001b[38;5;28;01mtry\u001b[39;00m:\n\u001b[1;32m   1158\u001b[0m     \u001b[38;5;28;01mif\u001b[39;00m buffer \u001b[38;5;129;01mis\u001b[39;00m \u001b[38;5;129;01mnot\u001b[39;00m \u001b[38;5;28;01mNone\u001b[39;00m:\n\u001b[0;32m-> 1159\u001b[0m         \u001b[38;5;28;01mreturn\u001b[39;00m \u001b[38;5;28;43mself\u001b[39;49m\u001b[38;5;241;43m.\u001b[39;49m\u001b[43m_sslobj\u001b[49m\u001b[38;5;241;43m.\u001b[39;49m\u001b[43mread\u001b[49m\u001b[43m(\u001b[49m\u001b[38;5;28;43mlen\u001b[39;49m\u001b[43m,\u001b[49m\u001b[43m \u001b[49m\u001b[43mbuffer\u001b[49m\u001b[43m)\u001b[49m\n\u001b[1;32m   1160\u001b[0m     \u001b[38;5;28;01melse\u001b[39;00m:\n\u001b[1;32m   1161\u001b[0m         \u001b[38;5;28;01mreturn\u001b[39;00m \u001b[38;5;28mself\u001b[39m\u001b[38;5;241m.\u001b[39m_sslobj\u001b[38;5;241m.\u001b[39mread(\u001b[38;5;28mlen\u001b[39m)\n",
      "\u001b[0;31mKeyboardInterrupt\u001b[0m: "
     ]
    }
   ],
   "source": [
    "scw_ids = []\n",
    "scw_versions = []\n",
    "scw_start_times = []\n",
    "scw_end_times = []\n",
    "\n",
    "for row in eph:\n",
    "    ra = float(row['RA'])\n",
    "    dec = float(row['DEC'])\n",
    "    radius = 8.\n",
    "    scw_id, scw_ver, scw_start, scw_end = get_scw_list(ra, dec, radius)\n",
    "    scw_ids.append(scw_id) # Using append means we get a list of lists, grouped by Jupiter's monthly position\n",
    "    scw_versions.append(scw_ver)\n",
    "    scw_start_times.append(scw_start)\n",
    "    scw_end_times.append(scw_end)\n",
    "\n",
    "# Filter by type (pointing type)\n",
    "scw_ids_filtered = []\n",
    "scw_versions_filtered = []\n",
    "scw_start_times_filtered = []\n",
    "scw_end_times_filtered = []\n",
    "\n",
    "for scw_sublist, ver_sublist, start_sublist, end_sublist in zip(scw_ids, scw_versions, scw_start_times, scw_end_times):\n",
    "    \n",
    "    mask = [int(scw) % 10 == 0 for scw in scw_sublist] # divisible by 10 (ends with a 0 <=> pointing type)\n",
    "    \n",
    "    filtered_scws = [scw_sublist[i] for i in range(len(scw_sublist)) if mask[i]]\n",
    "    filtered_versions = [ver_sublist[i] for i in range(len(ver_sublist)) if mask[i]]\n",
    "    filtered_start_times = [start_sublist[i] for i in range(len(start_sublist)) if mask[i]]\n",
    "    filtered_end_times = [end_sublist[i] for i in range(len(end_sublist)) if mask[i]]\n",
    "    \n",
    "    scw_ids_filtered.append(filtered_scws)\n",
    "    scw_versions_filtered.append(filtered_versions)\n",
    "    scw_start_times_filtered.append(filtered_start_times)\n",
    "    scw_end_times_filtered.append(filtered_end_times)\n",
    "\n",
    "scw_ids = scw_ids_filtered\n",
    "scw_versions = scw_versions_filtered\n",
    "scw_start_times = scw_start_times_filtered\n",
    "scw_end_times = scw_end_times_filtered\n",
    "\n",
    "print(\"Found a total of\", np.sum([len(scw_id) for scw_id in scw_ids]), \" pointing ScWs.\")\n",
    "print(\"Number of ScWs found per month: \\n\")\n",
    "for i, scw_sublist in enumerate(scw_ids):\n",
    "    print(f\"Month {i+1} - # of ScWs found: {len(scw_sublist)}\")"
   ]
  },
  {
   "cell_type": "markdown",
   "id": "946960b9",
   "metadata": {},
   "source": [
    "STEP 3 - filtering by time"
   ]
  },
  {
   "cell_type": "code",
   "execution_count": 11,
   "id": "560b42a3",
   "metadata": {},
   "outputs": [
    {
     "name": "stdout",
     "output_type": "stream",
     "text": [
      "Found a total of 0 matching ScWs.\n",
      "Number of matching ScWs found per month: \n",
      "\n"
     ]
    }
   ],
   "source": [
    "scw_ids_filtered = []\n",
    "scw_versions_filtered = []\n",
    "scw_start_times_filtered = []\n",
    "scw_end_times_filtered = []\n",
    "\n",
    "for month_index, (scw_sublist, ver_sublist, start_sublist, end_sublist) in enumerate(zip(scw_ids, scw_versions, scw_start_times, scw_end_times)):\n",
    "    filtered_scws_month = []\n",
    "    filtered_versions_month = []\n",
    "    filtered_start_times_month = []\n",
    "    filtered_end_times_month = []\n",
    "\n",
    "    if month_index < len(monthly_intervals):\n",
    "        month_start, month_end = monthly_intervals[month_index]\n",
    "    else:\n",
    "        month_start, month_end = monthly_intervals[-1] \n",
    "\n",
    "    for scw_id, start_time, end_time in zip(scw_sublist, start_sublist, end_sublist):\n",
    "            if month_start <= start_time <= month_end: \n",
    "                filtered_scws_month.append(scw_sublist)\n",
    "                filtered_versions_month.append(ver_sublist[scw_sublist.index(scw_id)])\n",
    "                filtered_start_times_month.append(start_sublist)\n",
    "                filtered_end_times_month.append(end_sublist) \n",
    "    \n",
    "    scw_ids_filtered.append(filtered_scws_month)\n",
    "    scw_versions_filtered.append(filtered_versions_month)\n",
    "    scw_start_times_filtered.append(filtered_start_times_month)\n",
    "    scw_end_times_filtered.append(filtered_end_times_month)\n",
    "\n",
    "print(\"Found a total of\", np.sum([len(scw_id) for scw_id in scw_ids_filtered]), \"matching ScWs.\")\n",
    "print(\"Number of matching ScWs found per month: \\n\")\n",
    "for i, scw_sublist in enumerate(scw_ids_filtered):\n",
    "    if len(scw_sublist)!=0:\n",
    "        print(f\"Month {i+1} - # of ScWs found: {len(scw_sublist)}\")"
   ]
  },
  {
   "cell_type": "markdown",
   "id": "194ca2ce",
   "metadata": {},
   "source": [
    "We can save these ScWs to a file, with Jupiter's expected position."
   ]
  },
  {
   "cell_type": "code",
   "execution_count": null,
   "id": "86d9f926",
   "metadata": {},
   "outputs": [],
   "source": [
    "# with open(f\"{epochs['start']}_{epochs['stop']}.txt\", \"w+\") as f:\n",
    "    # for (ids, vers, starts, ends) in zip(scw_ids, scw_versions, scw_start_times, scw_end_times):\n",
    "        # f.write(\"{0}, {1}, {2}, {3}\\n\".format(ids, vers, starts, ends))\n",
    "\n",
    "# Flatten the lists\n",
    "flat_ids = [item for sublist in scw_ids_filtered for item in sublist]\n",
    "flat_versions = [item for sublist in scw_versions_filtered for item in sublist]\n",
    "flat_start_times = [item for sublist in scw_start_times_filtered for item in sublist]\n",
    "flat_end_times = [item for sublist in scw_end_times_filtered for item in sublist]\n",
    "\n",
    "with open(f\"../data/{epochs['start']}_{epochs['stop']}.txt\", \"w\") as f:\n",
    "    f.write(\"ID, Version, Start Time, End Time, Jupiter RA, Jupiter DEC\\n\")\n",
    "    for id, version, start, end, ra, dec in zip(flat_ids, flat_versions, flat_start_times, flat_end_times, ra_values, dec_values):\n",
    "        f.write(f\"{id}, {version}, {start}, {end}, {ra}, {dec}\\n\")"
   ]
  },
  {
   "cell_type": "markdown",
   "id": "840787e4",
   "metadata": {},
   "source": [
    "## CRAB"
   ]
  },
  {
   "cell_type": "code",
   "execution_count": null,
   "id": "927da66f",
   "metadata": {},
   "outputs": [],
   "source": [
    "source_name = 'Crab'\n",
    "\n",
    "Heasarc = astroquery.heasarc.Heasarc()\n",
    "\n",
    "def get_scw_list(ra_obj, dec_obj, radius):\n",
    "    R = Heasarc.query_region(\n",
    "            position = SkyCoord(ra_obj, dec_obj, unit='deg'),\n",
    "            radius = f\"{radius} deg\",\n",
    "            catalog = 'intscw',\n",
    "            good_isgri = \">1000\",\n",
    "        )\n",
    "    R.sort('scw_id') \n",
    "    # R['ra', 'dec'].pprint()\n",
    "    return R['scw_id'], R['scw_ver'], R['start_date'], R['end_date']\n",
    "\n",
    "assert astroquery.__version__ >= '0.4.2.dev6611'\n",
    "assert 'isdc' in astroquery.heasarc.Conf.server.cfgtype\n",
    "\n",
    "result_table = Simbad.query_object(source_name)\n",
    "print(result_table)\n",
    "source_coord = coord.SkyCoord(result_table['ra'][0], result_table['dec'][0], unit=(\"deg\", \"deg\"))\n",
    "ra=source_coord.ra.deg\n",
    "dec=source_coord.dec.deg\n",
    "radius=8.\n",
    "\n",
    "scwlist,version,start_all,end_all = get_scw_list(ra,dec,radius)"
   ]
  },
  {
   "cell_type": "markdown",
   "id": "4a53a3bc",
   "metadata": {},
   "source": [
    "Filter for pointing ScWs."
   ]
  },
  {
   "cell_type": "code",
   "execution_count": null,
   "id": "b59e95fb",
   "metadata": {},
   "outputs": [],
   "source": [
    "scw = [(s+\".\"+v).strip() for s,v in zip(scwlist,version) if s.endswith('0')]\n",
    "start = [t for s, t in zip(scwlist, start_all) if s.endswith('0')]\n",
    "end = [t for s, t in zip(scwlist, end_all) if s.endswith('0')]\n",
    "durations = [e-s for e,s in zip(end, start)]\n",
    "print(f\"Found {len(scw)} Crab ScWs of type pointing.\")"
   ]
  },
  {
   "cell_type": "markdown",
   "id": "9d0123d8",
   "metadata": {},
   "source": [
    "Save to file."
   ]
  },
  {
   "cell_type": "code",
   "execution_count": null,
   "id": "e6ad6592",
   "metadata": {},
   "outputs": [],
   "source": [
    "with open(f\"../data/Crab-ScWs.txt\", \"w\") as f:\n",
    "    f.write(\"SCW, Start Time, End Time\\n\")\n",
    "    for s, start, end in zip(scw, start, end):\n",
    "        f.write(f\"{s}, {start}, {end}\\n\")"
   ]
  }
 ],
 "metadata": {
  "jupytext": {
   "cell_metadata_filter": "-all",
   "main_language": "python",
   "notebook_metadata_filter": "-all"
  },
  "kernelspec": {
   "display_name": "Python 3",
   "language": "python",
   "name": "python3"
  },
  "language_info": {
   "codemirror_mode": {
    "name": "ipython",
    "version": 3
   },
   "file_extension": ".py",
   "mimetype": "text/x-python",
   "name": "python",
   "nbconvert_exporter": "python",
   "pygments_lexer": "ipython3",
   "version": "3.10.12"
  }
 },
 "nbformat": 4,
 "nbformat_minor": 5
}
