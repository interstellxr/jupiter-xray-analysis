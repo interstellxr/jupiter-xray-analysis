{
 "cells": [
  {
   "cell_type": "markdown",
   "id": "13a97c14",
   "metadata": {},
   "source": [
    "In the first cell, we define our query function. This is to be copied and pasted each time we want to query science windows. "
   ]
  },
  {
   "cell_type": "code",
   "execution_count": 29,
   "id": "051fe1ee",
   "metadata": {},
   "outputs": [],
   "source": [
    "import time\n",
    "\n",
    "import astroquery.heasarc\n",
    "from astropy.coordinates import SkyCoord\n",
    "from astropy import units as u\n",
    "\n",
    "Heasarc = astroquery.heasarc.Heasarc()\n",
    "\n",
    "def get_scw_list(ra_obj, dec_obj,radius,start_date,end_date ):\n",
    "    R = Heasarc.query_region(\n",
    "            position = SkyCoord(ra_obj, dec_obj, unit='deg'),\n",
    "            radius = f\"{radius} deg\",\n",
    "            catalog = 'intscw', # 'mission' has been deprecated\n",
    "            time = start_date + \" .. \" + end_date,\n",
    "            good_isgri = \">1000\",\n",
    "        )\n",
    "    # print(R)\n",
    "    R.sort('scw_id') # changed SCW_ID to scw_id\n",
    "\n",
    "    return R['scw_id'], R['scw_ver']  # changed SCW_VER to scw_ver\n",
    "\n",
    "\n",
    "assert astroquery.__version__ >= '0.4.2.dev6611'\n",
    "assert 'isdc' in astroquery.heasarc.Conf.server.cfgtype"
   ]
  },
  {
   "cell_type": "markdown",
   "id": "8d252b81",
   "metadata": {},
   "source": [
    "In this second cell, define our source and region to query."
   ]
  },
  {
   "cell_type": "code",
   "execution_count": 30,
   "id": "36ae7f01",
   "metadata": {},
   "outputs": [],
   "source": [
    "from astroquery.simbad import Simbad\n",
    "from astropy import coordinates as coord\n",
    "\n",
    "import json\n",
    "\n",
    "import os\n",
    "import shutil\n",
    "import random\n",
    "\n",
    "from astropy.io import fits\n",
    "\n",
    "from scipy import stats\n",
    "\n",
    "source_name = 'Crab'\n",
    "\n",
    "result_table = Simbad.query_object(source_name)\n",
    "source_coord = coord.SkyCoord(result_table['ra'][0], result_table['dec'][0], unit=(\"hourangle\", \"deg\")) # changed RA and DEC to ra and dec respectively\n",
    "ra=source_coord.ra.deg\n",
    "dec=source_coord.dec.deg\n",
    "radius=8."
   ]
  },
  {
   "cell_type": "markdown",
   "id": "2630f4f6",
   "metadata": {},
   "source": [
    "Finally, define the time interval within which we wish to retrieve our object."
   ]
  },
  {
   "cell_type": "code",
   "execution_count": 31,
   "id": "60d4e551",
   "metadata": {},
   "outputs": [],
   "source": [
    "scwlist,version = get_scw_list(ra,dec, 10, '2020-01-01T00:00:00', '2020-06-01T00:00:00')"
   ]
  },
  {
   "cell_type": "markdown",
   "id": "80bb54ba",
   "metadata": {},
   "source": [
    "We then pick 10 science windows at random. "
   ]
  },
  {
   "cell_type": "code",
   "execution_count": 32,
   "id": "5a265619",
   "metadata": {},
   "outputs": [
    {
     "name": "stdout",
     "output_type": "stream",
     "text": [
      "['021200630021.001', '074900350021.001', '110900000021.001', '154400530021.001', '155000270020.001', '155100280090.001', '155300030072.001', '176400540010.001', '182100530031.001', '231400550021.001']\n"
     ]
    }
   ],
   "source": [
    "nscw = 10\n",
    "if len(scwlist) == 0:\n",
    "    raise Exception('No science windows')\n",
    "\n",
    "scw_pick = [(s+\".\"+v).strip() for s,v in zip(scwlist,version)]\n",
    "\n",
    "if nscw >0 and len(scw_pick)>=nscw:\n",
    "    random.seed(0)\n",
    "    scw_pick = random.sample(scw_pick, nscw)\n",
    "scw_pick = sorted(scw_pick)\n",
    "\n",
    "print(scw_pick)"
   ]
  },
  {
   "cell_type": "markdown",
   "id": "126b6a71",
   "metadata": {},
   "source": [
    "Before moving on to using this query for our ODA, we need to input our token. "
   ]
  },
  {
   "cell_type": "code",
   "execution_count": 33,
   "id": "f5de3f27",
   "metadata": {},
   "outputs": [],
   "source": [
    "token = ''\n",
    "\n",
    "import getpass\n",
    "token = getpass.getpass('Insert the token')"
   ]
  },
  {
   "cell_type": "code",
   "execution_count": 34,
   "id": "4d7c7eb5",
   "metadata": {},
   "outputs": [],
   "source": [
    "import oda_api.token\n",
    "token = oda_api.token.discover_token()"
   ]
  },
  {
   "cell_type": "code",
   "execution_count": 35,
   "id": "c78ccafb",
   "metadata": {},
   "outputs": [
    {
     "data": {
      "text/plain": [
       "{'sub': 'hucklethums@icloud.com',\n",
       " 'email': 'hucklethums@icloud.com',\n",
       " 'name': 'interstellxr',\n",
       " 'roles': 'authenticated user, public-pool-hpc',\n",
       " 'exp': 1741191208}"
      ]
     },
     "execution_count": 35,
     "metadata": {},
     "output_type": "execute_result"
    }
   ],
   "source": [
    "oda_api.token.decode_oda_token(token)"
   ]
  },
  {
   "cell_type": "markdown",
   "id": "07a0b383",
   "metadata": {},
   "source": [
    "Now let us look at an example."
   ]
  },
  {
   "cell_type": "code",
   "execution_count": 38,
   "id": "562e416d",
   "metadata": {},
   "outputs": [
    {
     "name": "stderr",
     "output_type": "stream",
     "text": [
      "please beware that by default, in a typical setup, oda_api will not output much. To learn how to increase the verbosity, please refer to the documentation: https://oda-api.readthedocs.io/en/latest/user_guide/ScienceWindowList.html?highlight=logging#Let's-get-some-logging . \n",
      "To disable this message you can pass `.get_product(..., silent=True)`\n"
     ]
    },
    {
     "name": "stdout",
     "output_type": "stream",
     "text": [
      "ID=0 prod_name=mosaic_image_0_mosaic  meta_data: {'product': 'mosaic', 'instrument': 'isgri', 'src_name': '', 'query_parameters': None}\n",
      "\n",
      "ID=1 prod_name=dispatcher_catalog_1  meta_data: \n",
      "\n",
      "------------------------------\n",
      "name: mosaic_image\n",
      "meta_data dict_keys(['product', 'instrument', 'src_name', 'query_parameters'])\n",
      "number of data units 6\n",
      "------------------------------\n",
      "data uniti 0 ,name: PRIMARY\n",
      "data uniti 1 ,name: GROUPING\n",
      "data uniti 2 ,name: ISGR-MOSA-IMA\n",
      "data uniti 3 ,name: ISGR-MOSA-IMA\n",
      "data uniti 4 ,name: ISGR-MOSA-IMA\n",
      "data uniti 5 ,name: ISGR-MOSA-IMA\n",
      "------------------------------\n",
      "product : mosaic\n",
      "instrument : isgri\n",
      "src_name : \n",
      "query_parameters : None\n",
      "------------------------------\n",
      "None\n"
     ]
    }
   ],
   "source": [
    "from oda_api.api import DispatcherAPI\n",
    "\n",
    "disp = DispatcherAPI(url=\"https://www.astro.unige.ch/mmoda/dispatch-data\")\n",
    "\n",
    "par_dict = {\n",
    "\"E1_keV\": \"28\",\n",
    "\"E2_keV\": \"40\",\n",
    "\"detection_threshold\": \"7\",\n",
    "\"instrument\": \"isgri\",\n",
    "\"osa_version\": \"OSA11.2\",\n",
    "\"product\": \"isgri_image\",\n",
    "\"product_type\": \"Real\",\n",
    "\"scw_list\": scw_pick,\n",
    "'token': token\n",
    "}\n",
    "# \"integral_data_rights\": \"all-private\" had to be removed as didn't have the rights\n",
    "\n",
    "data_collection = disp.get_product(**par_dict)\n",
    "data_collection.show()\n",
    "data_collection.mosaic_image_0_mosaic.show()\n",
    "print(data_collection.mosaic_image_0_mosaic.show_meta())\n"
   ]
  },
  {
   "cell_type": "code",
   "execution_count": 44,
   "id": "524d9ac3",
   "metadata": {},
   "outputs": [
    {
     "name": "stderr",
     "output_type": "stream",
     "text": [
      "No instrument in data collection\n"
     ]
    },
    {
     "ename": "Exception",
     "evalue": "No mosaic extension in data product",
     "output_type": "error",
     "traceback": [
      "\u001b[0;31m---------------------------------------------------------------------------\u001b[0m",
      "\u001b[0;31mException\u001b[0m                                 Traceback (most recent call last)",
      "Cell \u001b[0;32mIn[44], line 6\u001b[0m\n\u001b[1;32m      3\u001b[0m \u001b[38;5;28;01mfrom\u001b[39;00m\u001b[38;5;250m \u001b[39m\u001b[38;5;21;01moda_api\u001b[39;00m\u001b[38;5;21;01m.\u001b[39;00m\u001b[38;5;21;01mplot_tools\u001b[39;00m\u001b[38;5;250m \u001b[39m\u001b[38;5;28;01mimport\u001b[39;00m OdaImage\n\u001b[1;32m      5\u001b[0m im\u001b[38;5;241m=\u001b[39mOdaImage(data_collection\u001b[38;5;241m.\u001b[39mmosaic_image_0_mosaic)\n\u001b[0;32m----> 6\u001b[0m \u001b[43mim\u001b[49m\u001b[38;5;241;43m.\u001b[39;49m\u001b[43mshow\u001b[49m\u001b[43m(\u001b[49m\u001b[43munit_ID\u001b[49m\u001b[38;5;241;43m=\u001b[39;49m\u001b[38;5;241;43m1\u001b[39;49m\u001b[43m)\u001b[49m\n",
      "File \u001b[0;32m~/micromamba/envs/jupiter_xray/lib/python3.9/site-packages/oda_api/plot_tools.py:96\u001b[0m, in \u001b[0;36mOdaImage.show\u001b[0;34m(self, ext_sig, meta, header, sources, levels, cmap, unit_ID, det_sigma, sliders)\u001b[0m\n\u001b[1;32m     79\u001b[0m \u001b[38;5;28;01mdef\u001b[39;00m\u001b[38;5;250m \u001b[39m\u001b[38;5;21mshow\u001b[39m(\u001b[38;5;28mself\u001b[39m, ext_sig\u001b[38;5;241m=\u001b[39m\u001b[38;5;28;01mNone\u001b[39;00m, meta\u001b[38;5;241m=\u001b[39m\u001b[38;5;28;01mNone\u001b[39;00m, header\u001b[38;5;241m=\u001b[39m\u001b[38;5;28;01mNone\u001b[39;00m, sources\u001b[38;5;241m=\u001b[39m\u001b[38;5;28;01mNone\u001b[39;00m,\n\u001b[1;32m     80\u001b[0m          levels\u001b[38;5;241m=\u001b[39m\u001b[38;5;28;01mNone\u001b[39;00m, cmap\u001b[38;5;241m=\u001b[39mcm\u001b[38;5;241m.\u001b[39mgist_earth, unit_ID\u001b[38;5;241m=\u001b[39m\u001b[38;5;241m4\u001b[39m, det_sigma\u001b[38;5;241m=\u001b[39m\u001b[38;5;241m3\u001b[39m, sliders\u001b[38;5;241m=\u001b[39m\u001b[38;5;28;01mTrue\u001b[39;00m):\n\u001b[1;32m     82\u001b[0m \u001b[38;5;250m    \u001b[39m\u001b[38;5;124;03m\"\"\"\u001b[39;00m\n\u001b[1;32m     83\u001b[0m \u001b[38;5;124;03m    OdaImage.show\u001b[39;00m\n\u001b[1;32m     84\u001b[0m \u001b[38;5;124;03m    :param ext_sig: ODA data products extension, takes from class initialisation by default\u001b[39;00m\n\u001b[0;32m   (...)\u001b[0m\n\u001b[1;32m     93\u001b[0m \u001b[38;5;124;03m    :return: matplotlib figure instance\u001b[39;00m\n\u001b[1;32m     94\u001b[0m \u001b[38;5;124;03m    \"\"\"\u001b[39;00m\n\u001b[0;32m---> 96\u001b[0m     plt \u001b[38;5;241m=\u001b[39m \u001b[38;5;28;43mself\u001b[39;49m\u001b[38;5;241;43m.\u001b[39;49m\u001b[43mbuild_fig\u001b[49m\u001b[43m(\u001b[49m\u001b[43mext_sig\u001b[49m\u001b[38;5;241;43m=\u001b[39;49m\u001b[43mext_sig\u001b[49m\u001b[43m,\u001b[49m\u001b[43m \u001b[49m\u001b[43mmeta\u001b[49m\u001b[38;5;241;43m=\u001b[39;49m\u001b[43mmeta\u001b[49m\u001b[43m,\u001b[49m\u001b[43m \u001b[49m\u001b[43mheader\u001b[49m\u001b[38;5;241;43m=\u001b[39;49m\u001b[43mheader\u001b[49m\u001b[43m,\u001b[49m\n\u001b[1;32m     97\u001b[0m \u001b[43m                         \u001b[49m\u001b[43msources\u001b[49m\u001b[38;5;241;43m=\u001b[39;49m\u001b[43msources\u001b[49m\u001b[43m,\u001b[49m\n\u001b[1;32m     98\u001b[0m \u001b[43m                         \u001b[49m\u001b[43mlevels\u001b[49m\u001b[38;5;241;43m=\u001b[39;49m\u001b[43mlevels\u001b[49m\u001b[43m,\u001b[49m\u001b[43m \u001b[49m\u001b[43mcmap\u001b[49m\u001b[38;5;241;43m=\u001b[39;49m\u001b[43mcmap\u001b[49m\u001b[43m,\u001b[49m\u001b[43m \u001b[49m\u001b[43munit_ID\u001b[49m\u001b[38;5;241;43m=\u001b[39;49m\u001b[43munit_ID\u001b[49m\u001b[43m,\u001b[49m\u001b[43m \u001b[49m\n\u001b[1;32m     99\u001b[0m \u001b[43m                         \u001b[49m\u001b[43mdet_sigma\u001b[49m\u001b[38;5;241;43m=\u001b[39;49m\u001b[43mdet_sigma\u001b[49m\u001b[43m,\u001b[49m\u001b[43m \u001b[49m\u001b[43msliders\u001b[49m\u001b[38;5;241;43m=\u001b[39;49m\u001b[43msliders\u001b[49m\u001b[43m)\u001b[49m\n\u001b[1;32m    101\u001b[0m     plt\u001b[38;5;241m.\u001b[39mshow()\n",
      "File \u001b[0;32m~/micromamba/envs/jupiter_xray/lib/python3.9/site-packages/oda_api/plot_tools.py:117\u001b[0m, in \u001b[0;36mOdaImage.build_fig\u001b[0;34m(self, ext_sig, meta, header, sources, levels, cmap, unit_ID, det_sigma, sliders)\u001b[0m\n\u001b[1;32m    115\u001b[0m     my_mosaic \u001b[38;5;241m=\u001b[39m \u001b[38;5;28mself\u001b[39m\u001b[38;5;241m.\u001b[39mdata\u001b[38;5;241m.\u001b[39mmosaic_image_0\n\u001b[1;32m    116\u001b[0m \u001b[38;5;28;01melse\u001b[39;00m:\n\u001b[0;32m--> 117\u001b[0m     \u001b[38;5;28;01mraise\u001b[39;00m \u001b[38;5;167;01mException\u001b[39;00m(\u001b[38;5;124m'\u001b[39m\u001b[38;5;124mNo mosaic extension in data product\u001b[39m\u001b[38;5;124m'\u001b[39m)\n\u001b[1;32m    119\u001b[0m \u001b[38;5;28;01mif\u001b[39;00m ext_sig \u001b[38;5;129;01mis\u001b[39;00m \u001b[38;5;28;01mNone\u001b[39;00m:\n\u001b[1;32m    120\u001b[0m     ext_sig \u001b[38;5;241m=\u001b[39m my_mosaic\u001b[38;5;241m.\u001b[39mdata_unit[unit_ID]\n",
      "\u001b[0;31mException\u001b[0m: No mosaic extension in data product"
     ]
    }
   ],
   "source": [
    "import matplotlib.pyplot as plt\n",
    "\n",
    "from oda_api.plot_tools import OdaImage\n",
    "\n",
    "im=OdaImage(data_collection.mosaic_image_0_mosaic)\n",
    "im.show(unit_ID=1)\n"
   ]
  }
 ],
 "metadata": {
  "jupytext": {
   "cell_metadata_filter": "-all",
   "main_language": "python",
   "notebook_metadata_filter": "-all"
  },
  "kernelspec": {
   "display_name": "jupiter_xray",
   "language": "python",
   "name": "python3"
  },
  "language_info": {
   "codemirror_mode": {
    "name": "ipython",
    "version": 3
   },
   "file_extension": ".py",
   "mimetype": "text/x-python",
   "name": "python",
   "nbconvert_exporter": "python",
   "pygments_lexer": "ipython3",
   "version": "3.9.21"
  }
 },
 "nbformat": 4,
 "nbformat_minor": 5
}
