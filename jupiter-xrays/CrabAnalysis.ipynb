{
 "cells": [
  {
   "cell_type": "code",
   "execution_count": 13,
   "metadata": {},
   "outputs": [],
   "source": [
    "import oda_api.token \n",
    "import logging\n",
    "import numpy as np\n",
    "from oda_api.api import DispatcherAPI\n",
    "from oda_api.plot_tools import OdaImage, OdaLightCurve, OdaSpectrum\n",
    "import matplotlib.pyplot as plt\n",
    "import astroquery.heasarc\n",
    "from astropy.wcs import WCS\n",
    "from astropy.io import fits\n",
    "from astroquery.simbad import Simbad\n",
    "from astropy import coordinates as coord\n",
    "from astropy.coordinates import SkyCoord\n",
    "from astropy.time import Time\n",
    "from matplotlib.patches import Circle\n",
    "from astroquery.jplhorizons import Horizons\n",
    "import pandas as pd\n",
    "import astropy.units as u\n",
    "import json"
   ]
  },
  {
   "cell_type": "code",
   "execution_count": 14,
   "metadata": {},
   "outputs": [],
   "source": [
    "logging.getLogger().setLevel(logging.WARNING)\n",
    "logging.getLogger('oda_api').addHandler(logging.StreamHandler())"
   ]
  },
  {
   "cell_type": "markdown",
   "metadata": {},
   "source": [
    "Load the ScWs."
   ]
  },
  {
   "cell_type": "code",
   "execution_count": 15,
   "metadata": {},
   "outputs": [],
   "source": [
    "scw = []\n",
    "start = []\n",
    "end = []\n",
    "\n",
    "with open(\"../data/Crab-ScWs.txt\", \"r\") as f:\n",
    "    next(f)\n",
    "    for line in f:\n",
    "        parts = line.strip().split(\", \")\n",
    "        scw.append(parts[0])\n",
    "        start.append(float(parts[1]))  \n",
    "        end.append(float(parts[2]))  \n",
    "\n",
    "unique_sorted_data = {}\n",
    "for scw, start, end in sorted(zip(scw, start, end), key=lambda x: x[0]):\n",
    "    if scw not in unique_sorted_data:  \n",
    "        unique_sorted_data[scw] = (scw, start, end)\n",
    "\n",
    "scw, start, end = map(list, zip(*unique_sorted_data.values()))\n",
    "durations = [e-s for e,s in zip(end, start)]"
   ]
  },
  {
   "cell_type": "code",
   "execution_count": 19,
   "metadata": {},
   "outputs": [],
   "source": [
    "crab = SkyCoord.from_name(\"Crab\")\n",
    "ra = crab.ra.deg\n",
    "dec = crab.dec.deg"
   ]
  },
  {
   "cell_type": "markdown",
   "metadata": {},
   "source": [
    "## QUERYING "
   ]
  },
  {
   "cell_type": "markdown",
   "metadata": {},
   "source": [
    "As we can see, Crab observations only happen twice per year in 3-month groups (Feb->Apr and Aug->Oct).\n",
    "The idea now will be to get some longterm lightcurves over the years and see how the countrate evolves. Depending on the variability of the countrate, we will use it for flux conversion."
   ]
  },
  {
   "cell_type": "code",
   "execution_count": 20,
   "metadata": {},
   "outputs": [],
   "source": [
    "api_cat={\n",
    "    \"cat_frame\": \"fk5\",\n",
    "    \"cat_coord_units\": \"deg\",\n",
    "    \"cat_column_list\": [\n",
    "        [0],\n",
    "        [\"Crab\"],\n",
    "        [125.4826889038086],\n",
    "        [ra],\n",
    "        [dec],\n",
    "        [-32768],\n",
    "        [2],\n",
    "        [0],\n",
    "        [0.0002800000074785203]],\n",
    "    \"cat_column_names\": [\n",
    "        \"meta_ID\",\n",
    "        \"src_names\",\n",
    "        \"significance\",\n",
    "        \"ra\",\n",
    "        \"dec\",\n",
    "        \"NEW_SOURCE\",\n",
    "        \"ISGRI_FLAG\",\n",
    "        \"FLAG\",\n",
    "        \"ERR_RAD\"\n",
    "    ],\n",
    "    \"cat_column_descr\":\n",
    "        [\n",
    "            [\"meta_ID\", \"<i8\"],\n",
    "            [\"src_names\", \"<U11\"],\n",
    "            [\"significance\", \"<f8\"],\n",
    "            [\"ra\", \"<f8\"],\n",
    "            [\"dec\", \"<f8\"],\n",
    "            [\"NEW_SOURCE\", \"<i8\"],\n",
    "            [\"ISGRI_FLAG\", \"<i8\"],\n",
    "            [\"FLAG\", \"<i8\"],\n",
    "            [\"ERR_RAD\", \"<f8\"]\n",
    "        ],\n",
    "    \"cat_lat_name\": \"dec\",\n",
    "    \"cat_lon_name\": \"ra\"\n",
    "}"
   ]
  },
  {
   "cell_type": "markdown",
   "metadata": {},
   "source": [
    "## IMAGES"
   ]
  },
  {
   "cell_type": "markdown",
   "metadata": {},
   "source": [
    "We use asynchronous querying. We aim to get one result per month, every year. Since the ScWs only happen in two 3-month intervals per year, this will mean 6 results every year for 22 years so 120 results total. \n",
    "\n",
    "To choose the ScW every month, we will take the shortest one for time reasons."
   ]
  },
  {
   "cell_type": "code",
   "execution_count": 21,
   "metadata": {},
   "outputs": [],
   "source": [
    "isot_start_times = Time(start, format='mjd').isot\n",
    "isot_end_times = Time(end, format='mjd').isot\n",
    "duration_seconds = [duration * 86400 for duration in durations]\n",
    "year_months = [st[:7] for st in isot_start_times]"
   ]
  },
  {
   "cell_type": "code",
   "execution_count": 28,
   "metadata": {},
   "outputs": [
    {
     "name": "stderr",
     "output_type": "stream",
     "text": [
      "please beware that by default, in a typical setup, oda_api will not output much. To learn how to increase the verbosity, please refer to the documentation: https://oda-api.readthedocs.io/en/latest/user_guide/ScienceWindowList.html?highlight=logging#Let's-get-some-logging . \n",
      "To disable this message you can pass `.get_product(..., silent=True)`\n",
      "please beware that by default, in a typical setup, oda_api will not output much. To learn how to increase the verbosity, please refer to the documentation: https://oda-api.readthedocs.io/en/latest/user_guide/ScienceWindowList.html?highlight=logging#Let's-get-some-logging . \n",
      "To disable this message you can pass `.get_product(..., silent=True)`\n"
     ]
    },
    {
     "name": "stdout",
     "output_type": "stream",
     "text": [
      "('054100010010.001', '2007-03-19T12:40:27.152', '2007-03-19T12:50:20.152', 593.0003435583785)\n"
     ]
    },
    {
     "name": "stderr",
     "output_type": "stream",
     "text": [
      "query failed!\n",
      "query failed!\n",
      "Remote server message:-> Error when getting query products\n",
      "Remote server message:-> Error when getting query products\n",
      "Remote server error_message-> Instrument: isgri, product: isgri_image\n",
      "\n",
      "The support team has been notified, and we are investigating to resolve the issue as soon as possible\n",
      "\n",
      "If you are willing to help us, please use the \"Write a feedback\" button below. We will make sure to respond to any feedback provided\n",
      "Remote server error_message-> Instrument: isgri, product: isgri_image\n",
      "\n",
      "The support team has been notified, and we are investigating to resolve the issue as soon as possible\n",
      "\n",
      "If you are willing to help us, please use the \"Write a feedback\" button below. We will make sure to respond to any feedback provided\n",
      "Remote server debug_message-> DDAException('AnalysisException:ProduceDisabledException(\"not allowed to produce but has to! at [mosaic_ii_skyimage.v2.2.4(completescw:None);Virtual;Complete139725110581328]; hashe: (\\'analysis\\', (\\'list\\', (\\'analysis\\', None, \\'ImageBins.onebin_15.0_30.0.one_bin_15_30\\'), (\\'analysis\\', (\\'analysis\\', None, \\'ICRoot.v1.default-isdc\\'), \\'IBIS_ICRoot.v0\\'), (\\'analysis\\', (\\'list\\', \\'processing_definition:345fcbb8\\', (\\'analysis\\', None, \\'IDScWList.v0_one_054100010010.001\\')), \\'ImageGroups.v1.2\\'), (\\'analysis\\', \\'500s2x88\\', \\'MosaicImagingConfig.v0\\'), (\\'analysis\\', (\\'list\\', (\\'analysis\\', None, \\'ImageBins.onebin_15.0_30.0.one_bin_15_30\\'), (\\'analysis\\', (\\'analysis\\', None, \\'ICRoot.v1.default-isdc\\'), \\'IBIS_ICRoot.v0\\')), \\'BinMapsImage.v2\\')), \\'mosaic_ii_skyimage.v2.2.4\\')\")')\n",
      "Remote server debug_message-> DDAException('AnalysisException:ProduceDisabledException(\"not allowed to produce but has to! at [mosaic_ii_skyimage.v2.2.4(completescw:None);Virtual;Complete139725110581328]; hashe: (\\'analysis\\', (\\'list\\', (\\'analysis\\', None, \\'ImageBins.onebin_15.0_30.0.one_bin_15_30\\'), (\\'analysis\\', (\\'analysis\\', None, \\'ICRoot.v1.default-isdc\\'), \\'IBIS_ICRoot.v0\\'), (\\'analysis\\', (\\'list\\', \\'processing_definition:345fcbb8\\', (\\'analysis\\', None, \\'IDScWList.v0_one_054100010010.001\\')), \\'ImageGroups.v1.2\\'), (\\'analysis\\', \\'500s2x88\\', \\'MosaicImagingConfig.v0\\'), (\\'analysis\\', (\\'list\\', (\\'analysis\\', None, \\'ImageBins.onebin_15.0_30.0.one_bin_15_30\\'), (\\'analysis\\', (\\'analysis\\', None, \\'ICRoot.v1.default-isdc\\'), \\'IBIS_ICRoot.v0\\')), \\'BinMapsImage.v2\\')), \\'mosaic_ii_skyimage.v2.2.4\\')\")')\n",
      "exception, message: \"Error when getting query products\"\n",
      "exception, message: \"Error when getting query products\"\n",
      "have exception message: keys \"dict_keys(['failed: get dataserver products '])\"\n",
      "have exception message: keys \"dict_keys(['failed: get dataserver products '])\"\n"
     ]
    },
    {
     "ename": "RemoteException",
     "evalue": "RemoteException (line 99): Error when getting query products",
     "output_type": "error",
     "traceback": [
      "\u001b[0;31m---------------------------------------------------------------------------\u001b[0m",
      "\u001b[0;31mRemoteException\u001b[0m                           Traceback (most recent call last)",
      "Cell \u001b[0;32mIn[28], line 49\u001b[0m\n\u001b[1;32m     47\u001b[0m \u001b[38;5;28;01mif\u001b[39;00m data \u001b[38;5;129;01mis\u001b[39;00m \u001b[38;5;28;01mNone\u001b[39;00m \u001b[38;5;129;01mand\u001b[39;00m \u001b[38;5;129;01mnot\u001b[39;00m _disp\u001b[38;5;241m.\u001b[39mis_failed:\n\u001b[1;32m     48\u001b[0m     \u001b[38;5;28;01mif\u001b[39;00m \u001b[38;5;129;01mnot\u001b[39;00m _disp\u001b[38;5;241m.\u001b[39mis_submitted:\n\u001b[0;32m---> 49\u001b[0m         data \u001b[38;5;241m=\u001b[39m \u001b[43m_disp\u001b[49m\u001b[38;5;241;43m.\u001b[39;49m\u001b[43mget_product\u001b[49m\u001b[43m(\u001b[49m\u001b[38;5;241;43m*\u001b[39;49m\u001b[38;5;241;43m*\u001b[39;49m\u001b[43mpar_dict\u001b[49m\u001b[43m)\u001b[49m\n\u001b[1;32m     50\u001b[0m     \u001b[38;5;28;01melse\u001b[39;00m:\n\u001b[1;32m     51\u001b[0m         _disp\u001b[38;5;241m.\u001b[39mpoll()\n",
      "File \u001b[0;32m~/micromamba/envs/jupiter_xray/lib/python3.9/site-packages/oda_api/api.py:1081\u001b[0m, in \u001b[0;36mDispatcherAPI.get_product\u001b[0;34m(self, product, instrument, verbose, product_type, silent, **kwargs)\u001b[0m\n\u001b[1;32m   1078\u001b[0m \u001b[38;5;28mself\u001b[39m\u001b[38;5;241m.\u001b[39mrequest(kwargs)\n\u001b[1;32m   1080\u001b[0m \u001b[38;5;28;01mif\u001b[39;00m \u001b[38;5;28mself\u001b[39m\u001b[38;5;241m.\u001b[39mis_failed:\n\u001b[0;32m-> 1081\u001b[0m     \u001b[38;5;28;01mreturn\u001b[39;00m \u001b[38;5;28;43mself\u001b[39;49m\u001b[38;5;241;43m.\u001b[39;49m\u001b[43mprocess_failure\u001b[49m\u001b[43m(\u001b[49m\u001b[43m)\u001b[49m\n\u001b[1;32m   1082\u001b[0m \u001b[38;5;28;01melif\u001b[39;00m \u001b[38;5;28mself\u001b[39m\u001b[38;5;241m.\u001b[39mis_done:\n\u001b[1;32m   1083\u001b[0m     res_json \u001b[38;5;241m=\u001b[39m \u001b[38;5;28mself\u001b[39m\u001b[38;5;241m.\u001b[39mresponse_json\n",
      "File \u001b[0;32m~/micromamba/envs/jupiter_xray/lib/python3.9/site-packages/oda_api/api.py:852\u001b[0m, in \u001b[0;36mDispatcherAPI.process_failure\u001b[0;34m(self)\u001b[0m\n\u001b[1;32m    848\u001b[0m logger\u001b[38;5;241m.\u001b[39merror(\u001b[38;5;124m\"\u001b[39m\u001b[38;5;124mexception, message: \u001b[39m\u001b[38;5;130;01m\\\"\u001b[39;00m\u001b[38;5;132;01m%s\u001b[39;00m\u001b[38;5;130;01m\\\"\u001b[39;00m\u001b[38;5;124m\"\u001b[39m,\n\u001b[1;32m    849\u001b[0m              \u001b[38;5;28mself\u001b[39m\u001b[38;5;241m.\u001b[39mresponse_json[\u001b[38;5;124m'\u001b[39m\u001b[38;5;124mexit_status\u001b[39m\u001b[38;5;124m'\u001b[39m][\u001b[38;5;124m'\u001b[39m\u001b[38;5;124mmessage\u001b[39m\u001b[38;5;124m'\u001b[39m])\n\u001b[1;32m    850\u001b[0m logger\u001b[38;5;241m.\u001b[39merror(\u001b[38;5;124m\"\u001b[39m\u001b[38;5;124mhave exception message: keys \u001b[39m\u001b[38;5;130;01m\\\"\u001b[39;00m\u001b[38;5;132;01m%s\u001b[39;00m\u001b[38;5;130;01m\\\"\u001b[39;00m\u001b[38;5;124m\"\u001b[39m,\n\u001b[1;32m    851\u001b[0m              exception_by_message\u001b[38;5;241m.\u001b[39mkeys())\n\u001b[0;32m--> 852\u001b[0m \u001b[38;5;28;01mraise\u001b[39;00m exception_by_message\u001b[38;5;241m.\u001b[39mget(\u001b[38;5;28mself\u001b[39m\u001b[38;5;241m.\u001b[39mresponse_json[\u001b[38;5;124m'\u001b[39m\u001b[38;5;124mexit_status\u001b[39m\u001b[38;5;124m'\u001b[39m][\u001b[38;5;124m'\u001b[39m\u001b[38;5;124mmessage\u001b[39m\u001b[38;5;124m'\u001b[39m], RemoteException)(\n\u001b[1;32m    853\u001b[0m     message\u001b[38;5;241m=\u001b[39m\u001b[38;5;28mself\u001b[39m\u001b[38;5;241m.\u001b[39mresponse_json[\u001b[38;5;124m'\u001b[39m\u001b[38;5;124mexit_status\u001b[39m\u001b[38;5;124m'\u001b[39m][\u001b[38;5;124m'\u001b[39m\u001b[38;5;124mmessage\u001b[39m\u001b[38;5;124m'\u001b[39m],\n\u001b[1;32m    854\u001b[0m     debug_message\u001b[38;5;241m=\u001b[39m\u001b[38;5;28mself\u001b[39m\u001b[38;5;241m.\u001b[39mresponse_json[\u001b[38;5;124m'\u001b[39m\u001b[38;5;124mexit_status\u001b[39m\u001b[38;5;124m'\u001b[39m][\u001b[38;5;124m'\u001b[39m\u001b[38;5;124merror_message\u001b[39m\u001b[38;5;124m'\u001b[39m]\n\u001b[1;32m    855\u001b[0m )\n",
      "\u001b[0;31mRemoteException\u001b[0m: RemoteException (line 99): Error when getting query products"
     ]
    }
   ],
   "source": [
    "disp_by_date = {}\n",
    "data_by_date = {}\n",
    "\n",
    "while True:\n",
    "    image_results = []\n",
    "\n",
    "    for year_month in set(year_months):\n",
    "\n",
    "        filtered_scws = []\n",
    "        for i, year_month_in_list in enumerate(year_months):\n",
    "            if year_month_in_list == year_month:\n",
    "                filtered_scws.append((scw[i], isot_start_times[i], isot_end_times[i], duration_seconds[i]))\n",
    "\n",
    "        if not filtered_scws:\n",
    "            print(f\"No SCWs found for {year_month}\")\n",
    "            continue\n",
    "        \n",
    "        min_duration_scw = min(filtered_scws, key=lambda x: x[3]) # minimum duration\n",
    "        scw_id, start_time, end_time, duration = min_duration_scw\n",
    "        print(min_duration_scw)\n",
    "\n",
    "        par_dict = {\n",
    "            \"RA\": ra,\n",
    "            \"DEC\": dec,\n",
    "            \"E1_keV\": \"15\",\n",
    "            \"E2_keV\": \"30\",\n",
    "            \"T_format\": \"isot\",\n",
    "            'T1': start_time,\n",
    "            'T2': end_time,\n",
    "            \"detection_threshold\": \"5\",\n",
    "            \"instrument\": \"isgri\",\n",
    "            \"osa_version\": \"OSA11.2\",\n",
    "            \"product\": \"isgri_image\",\n",
    "            \"product_type\": \"Real\",\n",
    "            \"scw_list\": [scw_id],\n",
    "            'token': oda_api.token.discover_token(),\n",
    "            #'selected_catalog': json.dumps(api_cat)\n",
    "        }\n",
    "        \n",
    "        if scw_id not in disp_by_date:\n",
    "            disp_by_date[scw_id] = DispatcherAPI(url=\"https://www.astro.unige.ch/mmoda/dispatch-data\", instrument=\"mock\", wait=False)\n",
    "        \n",
    "        _disp = disp_by_date[scw_id]\n",
    "        \n",
    "        data = data_by_date.get(scw_id, None)\n",
    "\n",
    "        if data is None and not _disp.is_failed:\n",
    "            if not _disp.is_submitted:\n",
    "                data = _disp.get_product(**par_dict)\n",
    "            else:\n",
    "                _disp.poll()\n",
    "\n",
    "            print(\"Is complete \", _disp.is_complete)\n",
    "            if not _disp.is_complete:\n",
    "                continue\n",
    "            else:\n",
    "                data = _disp.get_product(**par_dict)\n",
    "                data_by_date[scw_id] = data\n",
    "\n",
    "        image_results.append(data)\n",
    "\n",
    "    n_complete = len([ year for year, _disp in disp_by_date.items() if _disp.is_complete ])\n",
    "    print(f\"complete {n_complete} / {len(disp_by_date)}\")\n",
    "    if n_complete == len(disp_by_date):\n",
    "        print(\"done!\")\n",
    "        break\n",
    "    print(\"not done\")"
   ]
  },
  {
   "cell_type": "code",
   "execution_count": 27,
   "metadata": {},
   "outputs": [
    {
     "name": "stderr",
     "output_type": "stream",
     "text": [
      "please beware that by default, in a typical setup, oda_api will not output much. To learn how to increase the verbosity, please refer to the documentation: https://oda-api.readthedocs.io/en/latest/user_guide/ScienceWindowList.html?highlight=logging#Let's-get-some-logging . \n",
      "To disable this message you can pass `.get_product(..., silent=True)`\n",
      "please beware that by default, in a typical setup, oda_api will not output much. To learn how to increase the verbosity, please refer to the documentation: https://oda-api.readthedocs.io/en/latest/user_guide/ScienceWindowList.html?highlight=logging#Let's-get-some-logging . \n",
      "To disable this message you can pass `.get_product(..., silent=True)`\n"
     ]
    },
    {
     "name": "stdout",
     "output_type": "stream",
     "text": [
      "Trying SCW 054100010010.001 with duration 593.0003435583785\n"
     ]
    },
    {
     "name": "stderr",
     "output_type": "stream",
     "text": [
      "query failed!\n",
      "query failed!\n",
      "Remote server message:-> Error when getting query products\n",
      "Remote server message:-> Error when getting query products\n",
      "Remote server error_message-> Instrument: isgri, product: isgri_image\n",
      "\n",
      "The support team has been notified, and we are investigating to resolve the issue as soon as possible\n",
      "\n",
      "If you are willing to help us, please use the \"Write a feedback\" button below. We will make sure to respond to any feedback provided\n",
      "Remote server error_message-> Instrument: isgri, product: isgri_image\n",
      "\n",
      "The support team has been notified, and we are investigating to resolve the issue as soon as possible\n",
      "\n",
      "If you are willing to help us, please use the \"Write a feedback\" button below. We will make sure to respond to any feedback provided\n",
      "Remote server debug_message-> DDAException('AnalysisException:ProduceDisabledException(\"not allowed to produce but has to! at [mosaic_ii_skyimage.v2.2.4(completescw:None);Virtual;Complete140637971073728]; hashe: (\\'analysis\\', (\\'list\\', (\\'analysis\\', None, \\'ImageBins.onebin_15.0_30.0.one_bin_15_30\\'), (\\'analysis\\', (\\'analysis\\', None, \\'ICRoot.v1.default-isdc\\'), \\'IBIS_ICRoot.v0\\'), (\\'analysis\\', (\\'list\\', \\'processing_definition:0d00ac89\\', (\\'analysis\\', None, \\'IDScWList.v0_one_054100010010.001\\')), \\'ImageGroups.v1.2\\'), (\\'analysis\\', \\'500s2x88\\', \\'MosaicImagingConfig.v0\\'), (\\'analysis\\', (\\'list\\', (\\'analysis\\', None, \\'ImageBins.onebin_15.0_30.0.one_bin_15_30\\'), (\\'analysis\\', (\\'analysis\\', None, \\'ICRoot.v1.default-isdc\\'), \\'IBIS_ICRoot.v0\\')), \\'BinMapsImage.v2\\')), \\'mosaic_ii_skyimage.v2.2.4\\')\")')\n",
      "Remote server debug_message-> DDAException('AnalysisException:ProduceDisabledException(\"not allowed to produce but has to! at [mosaic_ii_skyimage.v2.2.4(completescw:None);Virtual;Complete140637971073728]; hashe: (\\'analysis\\', (\\'list\\', (\\'analysis\\', None, \\'ImageBins.onebin_15.0_30.0.one_bin_15_30\\'), (\\'analysis\\', (\\'analysis\\', None, \\'ICRoot.v1.default-isdc\\'), \\'IBIS_ICRoot.v0\\'), (\\'analysis\\', (\\'list\\', \\'processing_definition:0d00ac89\\', (\\'analysis\\', None, \\'IDScWList.v0_one_054100010010.001\\')), \\'ImageGroups.v1.2\\'), (\\'analysis\\', \\'500s2x88\\', \\'MosaicImagingConfig.v0\\'), (\\'analysis\\', (\\'list\\', (\\'analysis\\', None, \\'ImageBins.onebin_15.0_30.0.one_bin_15_30\\'), (\\'analysis\\', (\\'analysis\\', None, \\'ICRoot.v1.default-isdc\\'), \\'IBIS_ICRoot.v0\\')), \\'BinMapsImage.v2\\')), \\'mosaic_ii_skyimage.v2.2.4\\')\")')\n",
      "exception, message: \"Error when getting query products\"\n",
      "exception, message: \"Error when getting query products\"\n",
      "have exception message: keys \"dict_keys(['failed: get dataserver products '])\"\n",
      "have exception message: keys \"dict_keys(['failed: get dataserver products '])\"\n",
      "please beware that by default, in a typical setup, oda_api will not output much. To learn how to increase the verbosity, please refer to the documentation: https://oda-api.readthedocs.io/en/latest/user_guide/ScienceWindowList.html?highlight=logging#Let's-get-some-logging . \n",
      "To disable this message you can pass `.get_product(..., silent=True)`\n",
      "please beware that by default, in a typical setup, oda_api will not output much. To learn how to increase the verbosity, please refer to the documentation: https://oda-api.readthedocs.io/en/latest/user_guide/ScienceWindowList.html?highlight=logging#Let's-get-some-logging . \n",
      "To disable this message you can pass `.get_product(..., silent=True)`\n"
     ]
    },
    {
     "name": "stdout",
     "output_type": "stream",
     "text": [
      "Query failed for SCW 054100010010.001: RemoteException (line 99): Error when getting query products\n",
      "Trying SCW 054100520010.001 with duration 681.0003848746419\n"
     ]
    },
    {
     "name": "stderr",
     "output_type": "stream",
     "text": [
      "please beware that by default, in a typical setup, oda_api will not output much. To learn how to increase the verbosity, please refer to the documentation: https://oda-api.readthedocs.io/en/latest/user_guide/ScienceWindowList.html?highlight=logging#Let's-get-some-logging . \n",
      "To disable this message you can pass `.get_product(..., silent=True)`\n",
      "please beware that by default, in a typical setup, oda_api will not output much. To learn how to increase the verbosity, please refer to the documentation: https://oda-api.readthedocs.io/en/latest/user_guide/ScienceWindowList.html?highlight=logging#Let's-get-some-logging . \n",
      "To disable this message you can pass `.get_product(..., silent=True)`\n"
     ]
    },
    {
     "name": "stdout",
     "output_type": "stream",
     "text": [
      "Query failed for SCW 054100520010.001: Query incomplete\n",
      "Trying SCW 054100190010.001 with duration 1800.0010336982086\n"
     ]
    },
    {
     "name": "stderr",
     "output_type": "stream",
     "text": [
      "please beware that by default, in a typical setup, oda_api will not output much. To learn how to increase the verbosity, please refer to the documentation: https://oda-api.readthedocs.io/en/latest/user_guide/ScienceWindowList.html?highlight=logging#Let's-get-some-logging . \n",
      "To disable this message you can pass `.get_product(..., silent=True)`\n",
      "please beware that by default, in a typical setup, oda_api will not output much. To learn how to increase the verbosity, please refer to the documentation: https://oda-api.readthedocs.io/en/latest/user_guide/ScienceWindowList.html?highlight=logging#Let's-get-some-logging . \n",
      "To disable this message you can pass `.get_product(..., silent=True)`\n"
     ]
    },
    {
     "name": "stdout",
     "output_type": "stream",
     "text": [
      "Query failed for SCW 054100190010.001: Query incomplete\n",
      "Trying SCW 054100210010.001 with duration 1800.0010336982086\n"
     ]
    },
    {
     "name": "stderr",
     "output_type": "stream",
     "text": [
      "please beware that by default, in a typical setup, oda_api will not output much. To learn how to increase the verbosity, please refer to the documentation: https://oda-api.readthedocs.io/en/latest/user_guide/ScienceWindowList.html?highlight=logging#Let's-get-some-logging . \n",
      "To disable this message you can pass `.get_product(..., silent=True)`\n",
      "please beware that by default, in a typical setup, oda_api will not output much. To learn how to increase the verbosity, please refer to the documentation: https://oda-api.readthedocs.io/en/latest/user_guide/ScienceWindowList.html?highlight=logging#Let's-get-some-logging . \n",
      "To disable this message you can pass `.get_product(..., silent=True)`\n",
      "please beware that by default, in a typical setup, oda_api will not output much. To learn how to increase the verbosity, please refer to the documentation: https://oda-api.readthedocs.io/en/latest/user_guide/ScienceWindowList.html?highlight=logging#Let's-get-some-logging . \n",
      "To disable this message you can pass `.get_product(..., silent=True)`\n",
      "please beware that by default, in a typical setup, oda_api will not output much. To learn how to increase the verbosity, please refer to the documentation: https://oda-api.readthedocs.io/en/latest/user_guide/ScienceWindowList.html?highlight=logging#Let's-get-some-logging . \n",
      "To disable this message you can pass `.get_product(..., silent=True)`\n"
     ]
    },
    {
     "name": "stdout",
     "output_type": "stream",
     "text": [
      "Trying SCW 194300180010.001 with duration 593.0004384834319\n"
     ]
    },
    {
     "name": "stderr",
     "output_type": "stream",
     "text": [
      "please beware that by default, in a typical setup, oda_api will not output much. To learn how to increase the verbosity, please refer to the documentation: https://oda-api.readthedocs.io/en/latest/user_guide/ScienceWindowList.html?highlight=logging#Let's-get-some-logging . \n",
      "To disable this message you can pass `.get_product(..., silent=True)`\n",
      "please beware that by default, in a typical setup, oda_api will not output much. To learn how to increase the verbosity, please refer to the documentation: https://oda-api.readthedocs.io/en/latest/user_guide/ScienceWindowList.html?highlight=logging#Let's-get-some-logging . \n",
      "To disable this message you can pass `.get_product(..., silent=True)`\n",
      "please beware that by default, in a typical setup, oda_api will not output much. To learn how to increase the verbosity, please refer to the documentation: https://oda-api.readthedocs.io/en/latest/user_guide/ScienceWindowList.html?highlight=logging#Let's-get-some-logging . \n",
      "To disable this message you can pass `.get_product(..., silent=True)`\n",
      "please beware that by default, in a typical setup, oda_api will not output much. To learn how to increase the verbosity, please refer to the documentation: https://oda-api.readthedocs.io/en/latest/user_guide/ScienceWindowList.html?highlight=logging#Let's-get-some-logging . \n",
      "To disable this message you can pass `.get_product(..., silent=True)`\n"
     ]
    },
    {
     "name": "stdout",
     "output_type": "stream",
     "text": [
      "Trying SCW 187700050010.001 with duration 593.0003781337291\n"
     ]
    },
    {
     "name": "stderr",
     "output_type": "stream",
     "text": [
      "please beware that by default, in a typical setup, oda_api will not output much. To learn how to increase the verbosity, please refer to the documentation: https://oda-api.readthedocs.io/en/latest/user_guide/ScienceWindowList.html?highlight=logging#Let's-get-some-logging . \n",
      "To disable this message you can pass `.get_product(..., silent=True)`\n",
      "please beware that by default, in a typical setup, oda_api will not output much. To learn how to increase the verbosity, please refer to the documentation: https://oda-api.readthedocs.io/en/latest/user_guide/ScienceWindowList.html?highlight=logging#Let's-get-some-logging . \n",
      "To disable this message you can pass `.get_product(..., silent=True)`\n",
      "please beware that by default, in a typical setup, oda_api will not output much. To learn how to increase the verbosity, please refer to the documentation: https://oda-api.readthedocs.io/en/latest/user_guide/ScienceWindowList.html?highlight=logging#Let's-get-some-logging . \n",
      "To disable this message you can pass `.get_product(..., silent=True)`\n",
      "please beware that by default, in a typical setup, oda_api will not output much. To learn how to increase the verbosity, please refer to the documentation: https://oda-api.readthedocs.io/en/latest/user_guide/ScienceWindowList.html?highlight=logging#Let's-get-some-logging . \n",
      "To disable this message you can pass `.get_product(..., silent=True)`\n"
     ]
    },
    {
     "name": "stdout",
     "output_type": "stream",
     "text": [
      "Trying SCW 144700600010.001 with duration 587.0003471849486\n"
     ]
    },
    {
     "name": "stderr",
     "output_type": "stream",
     "text": [
      "please beware that by default, in a typical setup, oda_api will not output much. To learn how to increase the verbosity, please refer to the documentation: https://oda-api.readthedocs.io/en/latest/user_guide/ScienceWindowList.html?highlight=logging#Let's-get-some-logging . \n",
      "To disable this message you can pass `.get_product(..., silent=True)`\n",
      "please beware that by default, in a typical setup, oda_api will not output much. To learn how to increase the verbosity, please refer to the documentation: https://oda-api.readthedocs.io/en/latest/user_guide/ScienceWindowList.html?highlight=logging#Let's-get-some-logging . \n",
      "To disable this message you can pass `.get_product(..., silent=True)`\n"
     ]
    },
    {
     "ename": "KeyboardInterrupt",
     "evalue": "",
     "output_type": "error",
     "traceback": [
      "\u001b[0;31m---------------------------------------------------------------------------\u001b[0m",
      "\u001b[0;31mKeyboardInterrupt\u001b[0m                         Traceback (most recent call last)",
      "Cell \u001b[0;32mIn[27], line 61\u001b[0m\n\u001b[1;32m     58\u001b[0m     \u001b[38;5;28;01mraise\u001b[39;00m \u001b[38;5;167;01mValueError\u001b[39;00m(\u001b[38;5;124m\"\u001b[39m\u001b[38;5;124mQuery incomplete\u001b[39m\u001b[38;5;124m\"\u001b[39m)  \u001b[38;5;66;03m# Force skipping the month\u001b[39;00m\n\u001b[1;32m     60\u001b[0m \u001b[38;5;66;03m# Query successful, store the data\u001b[39;00m\n\u001b[0;32m---> 61\u001b[0m data \u001b[38;5;241m=\u001b[39m \u001b[43m_disp\u001b[49m\u001b[38;5;241;43m.\u001b[39;49m\u001b[43mget_product\u001b[49m\u001b[43m(\u001b[49m\u001b[38;5;241;43m*\u001b[39;49m\u001b[38;5;241;43m*\u001b[39;49m\u001b[43mpar_dict\u001b[49m\u001b[43m)\u001b[49m\n\u001b[1;32m     62\u001b[0m data_by_date[scw_id] \u001b[38;5;241m=\u001b[39m data\n\u001b[1;32m     63\u001b[0m image_results\u001b[38;5;241m.\u001b[39mappend(data)\n",
      "File \u001b[0;32m~/micromamba/envs/jupiter_xray/lib/python3.9/site-packages/oda_api/api.py:1078\u001b[0m, in \u001b[0;36mDispatcherAPI.get_product\u001b[0;34m(self, product, instrument, verbose, product_type, silent, **kwargs)\u001b[0m\n\u001b[1;32m   1075\u001b[0m         kwargs[\u001b[38;5;124m'\u001b[39m\u001b[38;5;124mtoken\u001b[39m\u001b[38;5;124m'\u001b[39m] \u001b[38;5;241m=\u001b[39m discovered_token\n\u001b[1;32m   1077\u001b[0m         \u001b[38;5;66;03m# >\u001b[39;00m\n\u001b[0;32m-> 1078\u001b[0m \u001b[38;5;28;43mself\u001b[39;49m\u001b[38;5;241;43m.\u001b[39;49m\u001b[43mrequest\u001b[49m\u001b[43m(\u001b[49m\u001b[43mkwargs\u001b[49m\u001b[43m)\u001b[49m\n\u001b[1;32m   1080\u001b[0m \u001b[38;5;28;01mif\u001b[39;00m \u001b[38;5;28mself\u001b[39m\u001b[38;5;241m.\u001b[39mis_failed:\n\u001b[1;32m   1081\u001b[0m     \u001b[38;5;28;01mreturn\u001b[39;00m \u001b[38;5;28mself\u001b[39m\u001b[38;5;241m.\u001b[39mprocess_failure()\n",
      "File \u001b[0;32m~/micromamba/envs/jupiter_xray/lib/python3.9/site-packages/oda_api/api.py:162\u001b[0m, in \u001b[0;36msafe_run.<locals>.func_wrapper\u001b[0;34m(*args, **kwargs)\u001b[0m\n\u001b[1;32m    160\u001b[0m \u001b[38;5;28;01mwhile\u001b[39;00m \u001b[38;5;28;01mTrue\u001b[39;00m:\n\u001b[1;32m    161\u001b[0m     \u001b[38;5;28;01mtry\u001b[39;00m:\n\u001b[0;32m--> 162\u001b[0m         \u001b[38;5;28;01mreturn\u001b[39;00m \u001b[43mfunc\u001b[49m\u001b[43m(\u001b[49m\u001b[38;5;241;43m*\u001b[39;49m\u001b[43margs\u001b[49m\u001b[43m,\u001b[49m\u001b[43m \u001b[49m\u001b[38;5;241;43m*\u001b[39;49m\u001b[38;5;241;43m*\u001b[39;49m\u001b[43mkwargs\u001b[49m\u001b[43m)\u001b[49m\n\u001b[1;32m    163\u001b[0m     \u001b[38;5;28;01mexcept\u001b[39;00m UserError \u001b[38;5;28;01mas\u001b[39;00m e:\n\u001b[1;32m    164\u001b[0m         logger\u001b[38;5;241m.\u001b[39mexception(\u001b[38;5;124m\"\u001b[39m\u001b[38;5;124mprobably an unfortunate user input: \u001b[39m\u001b[38;5;132;01m%s\u001b[39;00m\u001b[38;5;124m\"\u001b[39m, e)\n",
      "File \u001b[0;32m~/micromamba/envs/jupiter_xray/lib/python3.9/site-packages/oda_api/api.py:829\u001b[0m, in \u001b[0;36mDispatcherAPI.request\u001b[0;34m(self, parameters_dict, handle, url, wait, quiet)\u001b[0m\n\u001b[1;32m    826\u001b[0m \u001b[38;5;28mself\u001b[39m\u001b[38;5;241m.\u001b[39mt0 \u001b[38;5;241m=\u001b[39m time\u001b[38;5;241m.\u001b[39mtime()\n\u001b[1;32m    828\u001b[0m \u001b[38;5;28;01mwhile\u001b[39;00m \u001b[38;5;28;01mTrue\u001b[39;00m:\n\u001b[0;32m--> 829\u001b[0m     \u001b[38;5;28;43mself\u001b[39;49m\u001b[38;5;241;43m.\u001b[39;49m\u001b[43mpoll\u001b[49m\u001b[43m(\u001b[49m\u001b[43m)\u001b[49m\n\u001b[1;32m    831\u001b[0m     \u001b[38;5;28;01mif\u001b[39;00m \u001b[38;5;129;01mnot\u001b[39;00m \u001b[38;5;28mself\u001b[39m\u001b[38;5;241m.\u001b[39mwait:\n\u001b[1;32m    832\u001b[0m         \u001b[38;5;28mself\u001b[39m\u001b[38;5;241m.\u001b[39mlogger\u001b[38;5;241m.\u001b[39minfo(\u001b[38;5;124m\"\u001b[39m\u001b[38;5;124mnon-waiting dispatcher: terminating\u001b[39m\u001b[38;5;124m\"\u001b[39m)\n",
      "File \u001b[0;32m~/micromamba/envs/jupiter_xray/lib/python3.9/site-packages/oda_api/api.py:162\u001b[0m, in \u001b[0;36msafe_run.<locals>.func_wrapper\u001b[0;34m(*args, **kwargs)\u001b[0m\n\u001b[1;32m    160\u001b[0m \u001b[38;5;28;01mwhile\u001b[39;00m \u001b[38;5;28;01mTrue\u001b[39;00m:\n\u001b[1;32m    161\u001b[0m     \u001b[38;5;28;01mtry\u001b[39;00m:\n\u001b[0;32m--> 162\u001b[0m         \u001b[38;5;28;01mreturn\u001b[39;00m \u001b[43mfunc\u001b[49m\u001b[43m(\u001b[49m\u001b[38;5;241;43m*\u001b[39;49m\u001b[43margs\u001b[49m\u001b[43m,\u001b[49m\u001b[43m \u001b[49m\u001b[38;5;241;43m*\u001b[39;49m\u001b[38;5;241;43m*\u001b[39;49m\u001b[43mkwargs\u001b[49m\u001b[43m)\u001b[49m\n\u001b[1;32m    163\u001b[0m     \u001b[38;5;28;01mexcept\u001b[39;00m UserError \u001b[38;5;28;01mas\u001b[39;00m e:\n\u001b[1;32m    164\u001b[0m         logger\u001b[38;5;241m.\u001b[39mexception(\u001b[38;5;124m\"\u001b[39m\u001b[38;5;124mprobably an unfortunate user input: \u001b[39m\u001b[38;5;132;01m%s\u001b[39;00m\u001b[38;5;124m\"\u001b[39m, e)\n",
      "File \u001b[0;32m~/micromamba/envs/jupiter_xray/lib/python3.9/site-packages/oda_api/api.py:725\u001b[0m, in \u001b[0;36mDispatcherAPI.poll\u001b[0;34m(self, verbose, silent)\u001b[0m\n\u001b[1;32m    721\u001b[0m     \u001b[38;5;28;01mraise\u001b[39;00m UserError(\n\u001b[1;32m    722\u001b[0m         \u001b[38;5;124mf\u001b[39m\u001b[38;5;124m\"\u001b[39m\u001b[38;5;124mcan not poll query before parameters are set with \u001b[39m\u001b[38;5;132;01m{\u001b[39;00m\u001b[38;5;28mself\u001b[39m\u001b[38;5;132;01m}\u001b[39;00m\u001b[38;5;124m.request\u001b[39m\u001b[38;5;124m\"\u001b[39m)\n\u001b[1;32m    724\u001b[0m \u001b[38;5;66;03m# >\u001b[39;00m\n\u001b[0;32m--> 725\u001b[0m \u001b[38;5;28mself\u001b[39m\u001b[38;5;241m.\u001b[39mresponse_json \u001b[38;5;241m=\u001b[39m \u001b[38;5;28;43mself\u001b[39;49m\u001b[38;5;241;43m.\u001b[39;49m\u001b[43mrequest_to_json\u001b[49m\u001b[43m(\u001b[49m\u001b[43m)\u001b[49m\n\u001b[1;32m    726\u001b[0m \u001b[38;5;66;03m# <\u001b[39;00m\n\u001b[1;32m    728\u001b[0m logger\u001b[38;5;241m.\u001b[39minfo(\u001b[38;5;124m\"\u001b[39m\u001b[38;5;124msession: \u001b[39m\u001b[38;5;132;01m%s\u001b[39;00m\u001b[38;5;124m job: \u001b[39m\u001b[38;5;132;01m%s\u001b[39;00m\u001b[38;5;124m\"\u001b[39m, \u001b[38;5;28mself\u001b[39m\u001b[38;5;241m.\u001b[39mresponse_json[\u001b[38;5;124m'\u001b[39m\u001b[38;5;124mjob_monitor\u001b[39m\u001b[38;5;124m'\u001b[39m][\u001b[38;5;124m'\u001b[39m\u001b[38;5;124msession_id\u001b[39m\u001b[38;5;124m'\u001b[39m],\n\u001b[1;32m    729\u001b[0m             \u001b[38;5;28mself\u001b[39m\u001b[38;5;241m.\u001b[39mresponse_json[\u001b[38;5;124m'\u001b[39m\u001b[38;5;124mjob_monitor\u001b[39m\u001b[38;5;124m'\u001b[39m][\u001b[38;5;124m'\u001b[39m\u001b[38;5;124mjob_id\u001b[39m\u001b[38;5;124m'\u001b[39m])\n",
      "File \u001b[0;32m~/micromamba/envs/jupiter_xray/lib/python3.9/site-packages/oda_api/api.py:499\u001b[0m, in \u001b[0;36mDispatcherAPI.request_to_json\u001b[0;34m(self, verbose)\u001b[0m\n\u001b[1;32m    487\u001b[0m     response \u001b[38;5;241m=\u001b[39m requests\u001b[38;5;241m.\u001b[39mget(\n\u001b[1;32m    488\u001b[0m         url,\n\u001b[1;32m    489\u001b[0m         params\u001b[38;5;241m=\u001b[39m\u001b[38;5;28mself\u001b[39m\u001b[38;5;241m.\u001b[39mparameters_dict_payload,\n\u001b[0;32m   (...)\u001b[0m\n\u001b[1;32m    496\u001b[0m         allow_redirects\u001b[38;5;241m=\u001b[39m\u001b[38;5;28;01mFalse\u001b[39;00m\n\u001b[1;32m    497\u001b[0m     )\n\u001b[1;32m    498\u001b[0m \u001b[38;5;28;01melif\u001b[39;00m \u001b[38;5;28mself\u001b[39m\u001b[38;5;241m.\u001b[39mselected_request_method \u001b[38;5;241m==\u001b[39m \u001b[38;5;124m'\u001b[39m\u001b[38;5;124mPOST\u001b[39m\u001b[38;5;124m'\u001b[39m:\n\u001b[0;32m--> 499\u001b[0m     response \u001b[38;5;241m=\u001b[39m \u001b[43mrequests\u001b[49m\u001b[38;5;241;43m.\u001b[39;49m\u001b[43mpost\u001b[49m\u001b[43m(\u001b[49m\n\u001b[1;32m    500\u001b[0m \u001b[43m        \u001b[49m\u001b[43murl\u001b[49m\u001b[43m,\u001b[49m\n\u001b[1;32m    501\u001b[0m \u001b[43m        \u001b[49m\u001b[43mdata\u001b[49m\u001b[38;5;241;43m=\u001b[39;49m\u001b[38;5;28;43mself\u001b[39;49m\u001b[38;5;241;43m.\u001b[39;49m\u001b[43mparameters_dict_payload\u001b[49m\u001b[43m,\u001b[49m\n\u001b[1;32m    502\u001b[0m \u001b[43m        \u001b[49m\u001b[43mcookies\u001b[49m\u001b[38;5;241;43m=\u001b[39;49m\u001b[38;5;28;43mself\u001b[39;49m\u001b[38;5;241;43m.\u001b[39;49m\u001b[43mcookies\u001b[49m\u001b[43m,\u001b[49m\n\u001b[1;32m    503\u001b[0m \u001b[43m        \u001b[49m\u001b[43mheaders\u001b[49m\u001b[38;5;241;43m=\u001b[39;49m\u001b[43m{\u001b[49m\n\u001b[1;32m    504\u001b[0m \u001b[43m            \u001b[49m\u001b[38;5;124;43m'\u001b[39;49m\u001b[38;5;124;43mRequest-Timeout\u001b[39;49m\u001b[38;5;124;43m'\u001b[39;49m\u001b[43m:\u001b[49m\u001b[43m \u001b[49m\u001b[38;5;28;43mstr\u001b[39;49m\u001b[43m(\u001b[49m\u001b[43mtimeout\u001b[49m\u001b[43m)\u001b[49m\u001b[43m,\u001b[49m\n\u001b[1;32m    505\u001b[0m \u001b[43m            \u001b[49m\u001b[38;5;124;43m'\u001b[39;49m\u001b[38;5;124;43mConnection-Timeout\u001b[39;49m\u001b[38;5;124;43m'\u001b[39;49m\u001b[43m:\u001b[49m\u001b[43m \u001b[49m\u001b[38;5;28;43mstr\u001b[39;49m\u001b[43m(\u001b[49m\u001b[43mtimeout\u001b[49m\u001b[43m)\u001b[49m\u001b[43m,\u001b[49m\n\u001b[1;32m    506\u001b[0m \u001b[43m        \u001b[49m\u001b[43m}\u001b[49m\u001b[43m,\u001b[49m\n\u001b[1;32m    507\u001b[0m \u001b[43m        \u001b[49m\u001b[43mtimeout\u001b[49m\u001b[38;5;241;43m=\u001b[39;49m\u001b[43mtimeout\u001b[49m\u001b[43m,\u001b[49m\n\u001b[1;32m    508\u001b[0m \u001b[43m        \u001b[49m\u001b[43mallow_redirects\u001b[49m\u001b[38;5;241;43m=\u001b[39;49m\u001b[38;5;28;43;01mFalse\u001b[39;49;00m\n\u001b[1;32m    509\u001b[0m \u001b[43m    \u001b[49m\u001b[43m)\u001b[49m\n\u001b[1;32m    510\u001b[0m \u001b[38;5;28;01melse\u001b[39;00m:\n\u001b[1;32m    511\u001b[0m     \u001b[38;5;28;01mraise\u001b[39;00m \u001b[38;5;167;01mNotImplementedError\u001b[39;00m\n",
      "File \u001b[0;32m~/micromamba/envs/jupiter_xray/lib/python3.9/site-packages/requests/api.py:115\u001b[0m, in \u001b[0;36mpost\u001b[0;34m(url, data, json, **kwargs)\u001b[0m\n\u001b[1;32m    103\u001b[0m \u001b[38;5;28;01mdef\u001b[39;00m\u001b[38;5;250m \u001b[39m\u001b[38;5;21mpost\u001b[39m(url, data\u001b[38;5;241m=\u001b[39m\u001b[38;5;28;01mNone\u001b[39;00m, json\u001b[38;5;241m=\u001b[39m\u001b[38;5;28;01mNone\u001b[39;00m, \u001b[38;5;241m*\u001b[39m\u001b[38;5;241m*\u001b[39mkwargs):\n\u001b[1;32m    104\u001b[0m \u001b[38;5;250m    \u001b[39m\u001b[38;5;124mr\u001b[39m\u001b[38;5;124;03m\"\"\"Sends a POST request.\u001b[39;00m\n\u001b[1;32m    105\u001b[0m \n\u001b[1;32m    106\u001b[0m \u001b[38;5;124;03m    :param url: URL for the new :class:`Request` object.\u001b[39;00m\n\u001b[0;32m   (...)\u001b[0m\n\u001b[1;32m    112\u001b[0m \u001b[38;5;124;03m    :rtype: requests.Response\u001b[39;00m\n\u001b[1;32m    113\u001b[0m \u001b[38;5;124;03m    \"\"\"\u001b[39;00m\n\u001b[0;32m--> 115\u001b[0m     \u001b[38;5;28;01mreturn\u001b[39;00m \u001b[43mrequest\u001b[49m\u001b[43m(\u001b[49m\u001b[38;5;124;43m\"\u001b[39;49m\u001b[38;5;124;43mpost\u001b[39;49m\u001b[38;5;124;43m\"\u001b[39;49m\u001b[43m,\u001b[49m\u001b[43m \u001b[49m\u001b[43murl\u001b[49m\u001b[43m,\u001b[49m\u001b[43m \u001b[49m\u001b[43mdata\u001b[49m\u001b[38;5;241;43m=\u001b[39;49m\u001b[43mdata\u001b[49m\u001b[43m,\u001b[49m\u001b[43m \u001b[49m\u001b[43mjson\u001b[49m\u001b[38;5;241;43m=\u001b[39;49m\u001b[43mjson\u001b[49m\u001b[43m,\u001b[49m\u001b[43m \u001b[49m\u001b[38;5;241;43m*\u001b[39;49m\u001b[38;5;241;43m*\u001b[39;49m\u001b[43mkwargs\u001b[49m\u001b[43m)\u001b[49m\n",
      "File \u001b[0;32m~/micromamba/envs/jupiter_xray/lib/python3.9/site-packages/requests/api.py:59\u001b[0m, in \u001b[0;36mrequest\u001b[0;34m(method, url, **kwargs)\u001b[0m\n\u001b[1;32m     55\u001b[0m \u001b[38;5;66;03m# By using the 'with' statement we are sure the session is closed, thus we\u001b[39;00m\n\u001b[1;32m     56\u001b[0m \u001b[38;5;66;03m# avoid leaving sockets open which can trigger a ResourceWarning in some\u001b[39;00m\n\u001b[1;32m     57\u001b[0m \u001b[38;5;66;03m# cases, and look like a memory leak in others.\u001b[39;00m\n\u001b[1;32m     58\u001b[0m \u001b[38;5;28;01mwith\u001b[39;00m sessions\u001b[38;5;241m.\u001b[39mSession() \u001b[38;5;28;01mas\u001b[39;00m session:\n\u001b[0;32m---> 59\u001b[0m     \u001b[38;5;28;01mreturn\u001b[39;00m \u001b[43msession\u001b[49m\u001b[38;5;241;43m.\u001b[39;49m\u001b[43mrequest\u001b[49m\u001b[43m(\u001b[49m\u001b[43mmethod\u001b[49m\u001b[38;5;241;43m=\u001b[39;49m\u001b[43mmethod\u001b[49m\u001b[43m,\u001b[49m\u001b[43m \u001b[49m\u001b[43murl\u001b[49m\u001b[38;5;241;43m=\u001b[39;49m\u001b[43murl\u001b[49m\u001b[43m,\u001b[49m\u001b[43m \u001b[49m\u001b[38;5;241;43m*\u001b[39;49m\u001b[38;5;241;43m*\u001b[39;49m\u001b[43mkwargs\u001b[49m\u001b[43m)\u001b[49m\n",
      "File \u001b[0;32m~/micromamba/envs/jupiter_xray/lib/python3.9/site-packages/requests/sessions.py:589\u001b[0m, in \u001b[0;36mSession.request\u001b[0;34m(self, method, url, params, data, headers, cookies, files, auth, timeout, allow_redirects, proxies, hooks, stream, verify, cert, json)\u001b[0m\n\u001b[1;32m    584\u001b[0m send_kwargs \u001b[38;5;241m=\u001b[39m {\n\u001b[1;32m    585\u001b[0m     \u001b[38;5;124m\"\u001b[39m\u001b[38;5;124mtimeout\u001b[39m\u001b[38;5;124m\"\u001b[39m: timeout,\n\u001b[1;32m    586\u001b[0m     \u001b[38;5;124m\"\u001b[39m\u001b[38;5;124mallow_redirects\u001b[39m\u001b[38;5;124m\"\u001b[39m: allow_redirects,\n\u001b[1;32m    587\u001b[0m }\n\u001b[1;32m    588\u001b[0m send_kwargs\u001b[38;5;241m.\u001b[39mupdate(settings)\n\u001b[0;32m--> 589\u001b[0m resp \u001b[38;5;241m=\u001b[39m \u001b[38;5;28;43mself\u001b[39;49m\u001b[38;5;241;43m.\u001b[39;49m\u001b[43msend\u001b[49m\u001b[43m(\u001b[49m\u001b[43mprep\u001b[49m\u001b[43m,\u001b[49m\u001b[43m \u001b[49m\u001b[38;5;241;43m*\u001b[39;49m\u001b[38;5;241;43m*\u001b[39;49m\u001b[43msend_kwargs\u001b[49m\u001b[43m)\u001b[49m\n\u001b[1;32m    591\u001b[0m \u001b[38;5;28;01mreturn\u001b[39;00m resp\n",
      "File \u001b[0;32m~/micromamba/envs/jupiter_xray/lib/python3.9/site-packages/requests/sessions.py:703\u001b[0m, in \u001b[0;36mSession.send\u001b[0;34m(self, request, **kwargs)\u001b[0m\n\u001b[1;32m    700\u001b[0m start \u001b[38;5;241m=\u001b[39m preferred_clock()\n\u001b[1;32m    702\u001b[0m \u001b[38;5;66;03m# Send the request\u001b[39;00m\n\u001b[0;32m--> 703\u001b[0m r \u001b[38;5;241m=\u001b[39m \u001b[43madapter\u001b[49m\u001b[38;5;241;43m.\u001b[39;49m\u001b[43msend\u001b[49m\u001b[43m(\u001b[49m\u001b[43mrequest\u001b[49m\u001b[43m,\u001b[49m\u001b[43m \u001b[49m\u001b[38;5;241;43m*\u001b[39;49m\u001b[38;5;241;43m*\u001b[39;49m\u001b[43mkwargs\u001b[49m\u001b[43m)\u001b[49m\n\u001b[1;32m    705\u001b[0m \u001b[38;5;66;03m# Total elapsed time of the request (approximately)\u001b[39;00m\n\u001b[1;32m    706\u001b[0m elapsed \u001b[38;5;241m=\u001b[39m preferred_clock() \u001b[38;5;241m-\u001b[39m start\n",
      "File \u001b[0;32m~/micromamba/envs/jupiter_xray/lib/python3.9/site-packages/requests/adapters.py:667\u001b[0m, in \u001b[0;36mHTTPAdapter.send\u001b[0;34m(self, request, stream, timeout, verify, cert, proxies)\u001b[0m\n\u001b[1;32m    664\u001b[0m     timeout \u001b[38;5;241m=\u001b[39m TimeoutSauce(connect\u001b[38;5;241m=\u001b[39mtimeout, read\u001b[38;5;241m=\u001b[39mtimeout)\n\u001b[1;32m    666\u001b[0m \u001b[38;5;28;01mtry\u001b[39;00m:\n\u001b[0;32m--> 667\u001b[0m     resp \u001b[38;5;241m=\u001b[39m \u001b[43mconn\u001b[49m\u001b[38;5;241;43m.\u001b[39;49m\u001b[43murlopen\u001b[49m\u001b[43m(\u001b[49m\n\u001b[1;32m    668\u001b[0m \u001b[43m        \u001b[49m\u001b[43mmethod\u001b[49m\u001b[38;5;241;43m=\u001b[39;49m\u001b[43mrequest\u001b[49m\u001b[38;5;241;43m.\u001b[39;49m\u001b[43mmethod\u001b[49m\u001b[43m,\u001b[49m\n\u001b[1;32m    669\u001b[0m \u001b[43m        \u001b[49m\u001b[43murl\u001b[49m\u001b[38;5;241;43m=\u001b[39;49m\u001b[43murl\u001b[49m\u001b[43m,\u001b[49m\n\u001b[1;32m    670\u001b[0m \u001b[43m        \u001b[49m\u001b[43mbody\u001b[49m\u001b[38;5;241;43m=\u001b[39;49m\u001b[43mrequest\u001b[49m\u001b[38;5;241;43m.\u001b[39;49m\u001b[43mbody\u001b[49m\u001b[43m,\u001b[49m\n\u001b[1;32m    671\u001b[0m \u001b[43m        \u001b[49m\u001b[43mheaders\u001b[49m\u001b[38;5;241;43m=\u001b[39;49m\u001b[43mrequest\u001b[49m\u001b[38;5;241;43m.\u001b[39;49m\u001b[43mheaders\u001b[49m\u001b[43m,\u001b[49m\n\u001b[1;32m    672\u001b[0m \u001b[43m        \u001b[49m\u001b[43mredirect\u001b[49m\u001b[38;5;241;43m=\u001b[39;49m\u001b[38;5;28;43;01mFalse\u001b[39;49;00m\u001b[43m,\u001b[49m\n\u001b[1;32m    673\u001b[0m \u001b[43m        \u001b[49m\u001b[43massert_same_host\u001b[49m\u001b[38;5;241;43m=\u001b[39;49m\u001b[38;5;28;43;01mFalse\u001b[39;49;00m\u001b[43m,\u001b[49m\n\u001b[1;32m    674\u001b[0m \u001b[43m        \u001b[49m\u001b[43mpreload_content\u001b[49m\u001b[38;5;241;43m=\u001b[39;49m\u001b[38;5;28;43;01mFalse\u001b[39;49;00m\u001b[43m,\u001b[49m\n\u001b[1;32m    675\u001b[0m \u001b[43m        \u001b[49m\u001b[43mdecode_content\u001b[49m\u001b[38;5;241;43m=\u001b[39;49m\u001b[38;5;28;43;01mFalse\u001b[39;49;00m\u001b[43m,\u001b[49m\n\u001b[1;32m    676\u001b[0m \u001b[43m        \u001b[49m\u001b[43mretries\u001b[49m\u001b[38;5;241;43m=\u001b[39;49m\u001b[38;5;28;43mself\u001b[39;49m\u001b[38;5;241;43m.\u001b[39;49m\u001b[43mmax_retries\u001b[49m\u001b[43m,\u001b[49m\n\u001b[1;32m    677\u001b[0m \u001b[43m        \u001b[49m\u001b[43mtimeout\u001b[49m\u001b[38;5;241;43m=\u001b[39;49m\u001b[43mtimeout\u001b[49m\u001b[43m,\u001b[49m\n\u001b[1;32m    678\u001b[0m \u001b[43m        \u001b[49m\u001b[43mchunked\u001b[49m\u001b[38;5;241;43m=\u001b[39;49m\u001b[43mchunked\u001b[49m\u001b[43m,\u001b[49m\n\u001b[1;32m    679\u001b[0m \u001b[43m    \u001b[49m\u001b[43m)\u001b[49m\n\u001b[1;32m    681\u001b[0m \u001b[38;5;28;01mexcept\u001b[39;00m (ProtocolError, \u001b[38;5;167;01mOSError\u001b[39;00m) \u001b[38;5;28;01mas\u001b[39;00m err:\n\u001b[1;32m    682\u001b[0m     \u001b[38;5;28;01mraise\u001b[39;00m \u001b[38;5;167;01mConnectionError\u001b[39;00m(err, request\u001b[38;5;241m=\u001b[39mrequest)\n",
      "File \u001b[0;32m~/micromamba/envs/jupiter_xray/lib/python3.9/site-packages/urllib3/connectionpool.py:787\u001b[0m, in \u001b[0;36mHTTPConnectionPool.urlopen\u001b[0;34m(self, method, url, body, headers, retries, redirect, assert_same_host, timeout, pool_timeout, release_conn, chunked, body_pos, preload_content, decode_content, **response_kw)\u001b[0m\n\u001b[1;32m    784\u001b[0m response_conn \u001b[38;5;241m=\u001b[39m conn \u001b[38;5;28;01mif\u001b[39;00m \u001b[38;5;129;01mnot\u001b[39;00m release_conn \u001b[38;5;28;01melse\u001b[39;00m \u001b[38;5;28;01mNone\u001b[39;00m\n\u001b[1;32m    786\u001b[0m \u001b[38;5;66;03m# Make the request on the HTTPConnection object\u001b[39;00m\n\u001b[0;32m--> 787\u001b[0m response \u001b[38;5;241m=\u001b[39m \u001b[38;5;28;43mself\u001b[39;49m\u001b[38;5;241;43m.\u001b[39;49m\u001b[43m_make_request\u001b[49m\u001b[43m(\u001b[49m\n\u001b[1;32m    788\u001b[0m \u001b[43m    \u001b[49m\u001b[43mconn\u001b[49m\u001b[43m,\u001b[49m\n\u001b[1;32m    789\u001b[0m \u001b[43m    \u001b[49m\u001b[43mmethod\u001b[49m\u001b[43m,\u001b[49m\n\u001b[1;32m    790\u001b[0m \u001b[43m    \u001b[49m\u001b[43murl\u001b[49m\u001b[43m,\u001b[49m\n\u001b[1;32m    791\u001b[0m \u001b[43m    \u001b[49m\u001b[43mtimeout\u001b[49m\u001b[38;5;241;43m=\u001b[39;49m\u001b[43mtimeout_obj\u001b[49m\u001b[43m,\u001b[49m\n\u001b[1;32m    792\u001b[0m \u001b[43m    \u001b[49m\u001b[43mbody\u001b[49m\u001b[38;5;241;43m=\u001b[39;49m\u001b[43mbody\u001b[49m\u001b[43m,\u001b[49m\n\u001b[1;32m    793\u001b[0m \u001b[43m    \u001b[49m\u001b[43mheaders\u001b[49m\u001b[38;5;241;43m=\u001b[39;49m\u001b[43mheaders\u001b[49m\u001b[43m,\u001b[49m\n\u001b[1;32m    794\u001b[0m \u001b[43m    \u001b[49m\u001b[43mchunked\u001b[49m\u001b[38;5;241;43m=\u001b[39;49m\u001b[43mchunked\u001b[49m\u001b[43m,\u001b[49m\n\u001b[1;32m    795\u001b[0m \u001b[43m    \u001b[49m\u001b[43mretries\u001b[49m\u001b[38;5;241;43m=\u001b[39;49m\u001b[43mretries\u001b[49m\u001b[43m,\u001b[49m\n\u001b[1;32m    796\u001b[0m \u001b[43m    \u001b[49m\u001b[43mresponse_conn\u001b[49m\u001b[38;5;241;43m=\u001b[39;49m\u001b[43mresponse_conn\u001b[49m\u001b[43m,\u001b[49m\n\u001b[1;32m    797\u001b[0m \u001b[43m    \u001b[49m\u001b[43mpreload_content\u001b[49m\u001b[38;5;241;43m=\u001b[39;49m\u001b[43mpreload_content\u001b[49m\u001b[43m,\u001b[49m\n\u001b[1;32m    798\u001b[0m \u001b[43m    \u001b[49m\u001b[43mdecode_content\u001b[49m\u001b[38;5;241;43m=\u001b[39;49m\u001b[43mdecode_content\u001b[49m\u001b[43m,\u001b[49m\n\u001b[1;32m    799\u001b[0m \u001b[43m    \u001b[49m\u001b[38;5;241;43m*\u001b[39;49m\u001b[38;5;241;43m*\u001b[39;49m\u001b[43mresponse_kw\u001b[49m\u001b[43m,\u001b[49m\n\u001b[1;32m    800\u001b[0m \u001b[43m\u001b[49m\u001b[43m)\u001b[49m\n\u001b[1;32m    802\u001b[0m \u001b[38;5;66;03m# Everything went great!\u001b[39;00m\n\u001b[1;32m    803\u001b[0m clean_exit \u001b[38;5;241m=\u001b[39m \u001b[38;5;28;01mTrue\u001b[39;00m\n",
      "File \u001b[0;32m~/micromamba/envs/jupiter_xray/lib/python3.9/site-packages/urllib3/connectionpool.py:534\u001b[0m, in \u001b[0;36mHTTPConnectionPool._make_request\u001b[0;34m(self, conn, method, url, body, headers, retries, timeout, chunked, response_conn, preload_content, decode_content, enforce_content_length)\u001b[0m\n\u001b[1;32m    532\u001b[0m \u001b[38;5;66;03m# Receive the response from the server\u001b[39;00m\n\u001b[1;32m    533\u001b[0m \u001b[38;5;28;01mtry\u001b[39;00m:\n\u001b[0;32m--> 534\u001b[0m     response \u001b[38;5;241m=\u001b[39m \u001b[43mconn\u001b[49m\u001b[38;5;241;43m.\u001b[39;49m\u001b[43mgetresponse\u001b[49m\u001b[43m(\u001b[49m\u001b[43m)\u001b[49m\n\u001b[1;32m    535\u001b[0m \u001b[38;5;28;01mexcept\u001b[39;00m (BaseSSLError, \u001b[38;5;167;01mOSError\u001b[39;00m) \u001b[38;5;28;01mas\u001b[39;00m e:\n\u001b[1;32m    536\u001b[0m     \u001b[38;5;28mself\u001b[39m\u001b[38;5;241m.\u001b[39m_raise_timeout(err\u001b[38;5;241m=\u001b[39me, url\u001b[38;5;241m=\u001b[39murl, timeout_value\u001b[38;5;241m=\u001b[39mread_timeout)\n",
      "File \u001b[0;32m~/micromamba/envs/jupiter_xray/lib/python3.9/site-packages/urllib3/connection.py:516\u001b[0m, in \u001b[0;36mHTTPConnection.getresponse\u001b[0;34m(self)\u001b[0m\n\u001b[1;32m    513\u001b[0m _shutdown \u001b[38;5;241m=\u001b[39m \u001b[38;5;28mgetattr\u001b[39m(\u001b[38;5;28mself\u001b[39m\u001b[38;5;241m.\u001b[39msock, \u001b[38;5;124m\"\u001b[39m\u001b[38;5;124mshutdown\u001b[39m\u001b[38;5;124m\"\u001b[39m, \u001b[38;5;28;01mNone\u001b[39;00m)\n\u001b[1;32m    515\u001b[0m \u001b[38;5;66;03m# Get the response from http.client.HTTPConnection\u001b[39;00m\n\u001b[0;32m--> 516\u001b[0m httplib_response \u001b[38;5;241m=\u001b[39m \u001b[38;5;28;43msuper\u001b[39;49m\u001b[43m(\u001b[49m\u001b[43m)\u001b[49m\u001b[38;5;241;43m.\u001b[39;49m\u001b[43mgetresponse\u001b[49m\u001b[43m(\u001b[49m\u001b[43m)\u001b[49m\n\u001b[1;32m    518\u001b[0m \u001b[38;5;28;01mtry\u001b[39;00m:\n\u001b[1;32m    519\u001b[0m     assert_header_parsing(httplib_response\u001b[38;5;241m.\u001b[39mmsg)\n",
      "File \u001b[0;32m~/micromamba/envs/jupiter_xray/lib/python3.9/http/client.py:1377\u001b[0m, in \u001b[0;36mHTTPConnection.getresponse\u001b[0;34m(self)\u001b[0m\n\u001b[1;32m   1375\u001b[0m \u001b[38;5;28;01mtry\u001b[39;00m:\n\u001b[1;32m   1376\u001b[0m     \u001b[38;5;28;01mtry\u001b[39;00m:\n\u001b[0;32m-> 1377\u001b[0m         \u001b[43mresponse\u001b[49m\u001b[38;5;241;43m.\u001b[39;49m\u001b[43mbegin\u001b[49m\u001b[43m(\u001b[49m\u001b[43m)\u001b[49m\n\u001b[1;32m   1378\u001b[0m     \u001b[38;5;28;01mexcept\u001b[39;00m \u001b[38;5;167;01mConnectionError\u001b[39;00m:\n\u001b[1;32m   1379\u001b[0m         \u001b[38;5;28mself\u001b[39m\u001b[38;5;241m.\u001b[39mclose()\n",
      "File \u001b[0;32m~/micromamba/envs/jupiter_xray/lib/python3.9/http/client.py:320\u001b[0m, in \u001b[0;36mHTTPResponse.begin\u001b[0;34m(self)\u001b[0m\n\u001b[1;32m    318\u001b[0m \u001b[38;5;66;03m# read until we get a non-100 response\u001b[39;00m\n\u001b[1;32m    319\u001b[0m \u001b[38;5;28;01mwhile\u001b[39;00m \u001b[38;5;28;01mTrue\u001b[39;00m:\n\u001b[0;32m--> 320\u001b[0m     version, status, reason \u001b[38;5;241m=\u001b[39m \u001b[38;5;28;43mself\u001b[39;49m\u001b[38;5;241;43m.\u001b[39;49m\u001b[43m_read_status\u001b[49m\u001b[43m(\u001b[49m\u001b[43m)\u001b[49m\n\u001b[1;32m    321\u001b[0m     \u001b[38;5;28;01mif\u001b[39;00m status \u001b[38;5;241m!=\u001b[39m CONTINUE:\n\u001b[1;32m    322\u001b[0m         \u001b[38;5;28;01mbreak\u001b[39;00m\n",
      "File \u001b[0;32m~/micromamba/envs/jupiter_xray/lib/python3.9/http/client.py:281\u001b[0m, in \u001b[0;36mHTTPResponse._read_status\u001b[0;34m(self)\u001b[0m\n\u001b[1;32m    280\u001b[0m \u001b[38;5;28;01mdef\u001b[39;00m\u001b[38;5;250m \u001b[39m\u001b[38;5;21m_read_status\u001b[39m(\u001b[38;5;28mself\u001b[39m):\n\u001b[0;32m--> 281\u001b[0m     line \u001b[38;5;241m=\u001b[39m \u001b[38;5;28mstr\u001b[39m(\u001b[38;5;28;43mself\u001b[39;49m\u001b[38;5;241;43m.\u001b[39;49m\u001b[43mfp\u001b[49m\u001b[38;5;241;43m.\u001b[39;49m\u001b[43mreadline\u001b[49m\u001b[43m(\u001b[49m\u001b[43m_MAXLINE\u001b[49m\u001b[43m \u001b[49m\u001b[38;5;241;43m+\u001b[39;49m\u001b[43m \u001b[49m\u001b[38;5;241;43m1\u001b[39;49m\u001b[43m)\u001b[49m, \u001b[38;5;124m\"\u001b[39m\u001b[38;5;124miso-8859-1\u001b[39m\u001b[38;5;124m\"\u001b[39m)\n\u001b[1;32m    282\u001b[0m     \u001b[38;5;28;01mif\u001b[39;00m \u001b[38;5;28mlen\u001b[39m(line) \u001b[38;5;241m>\u001b[39m _MAXLINE:\n\u001b[1;32m    283\u001b[0m         \u001b[38;5;28;01mraise\u001b[39;00m LineTooLong(\u001b[38;5;124m\"\u001b[39m\u001b[38;5;124mstatus line\u001b[39m\u001b[38;5;124m\"\u001b[39m)\n",
      "File \u001b[0;32m~/micromamba/envs/jupiter_xray/lib/python3.9/socket.py:716\u001b[0m, in \u001b[0;36mSocketIO.readinto\u001b[0;34m(self, b)\u001b[0m\n\u001b[1;32m    714\u001b[0m \u001b[38;5;28;01mwhile\u001b[39;00m \u001b[38;5;28;01mTrue\u001b[39;00m:\n\u001b[1;32m    715\u001b[0m     \u001b[38;5;28;01mtry\u001b[39;00m:\n\u001b[0;32m--> 716\u001b[0m         \u001b[38;5;28;01mreturn\u001b[39;00m \u001b[38;5;28;43mself\u001b[39;49m\u001b[38;5;241;43m.\u001b[39;49m\u001b[43m_sock\u001b[49m\u001b[38;5;241;43m.\u001b[39;49m\u001b[43mrecv_into\u001b[49m\u001b[43m(\u001b[49m\u001b[43mb\u001b[49m\u001b[43m)\u001b[49m\n\u001b[1;32m    717\u001b[0m     \u001b[38;5;28;01mexcept\u001b[39;00m timeout:\n\u001b[1;32m    718\u001b[0m         \u001b[38;5;28mself\u001b[39m\u001b[38;5;241m.\u001b[39m_timeout_occurred \u001b[38;5;241m=\u001b[39m \u001b[38;5;28;01mTrue\u001b[39;00m\n",
      "File \u001b[0;32m~/micromamba/envs/jupiter_xray/lib/python3.9/ssl.py:1275\u001b[0m, in \u001b[0;36mSSLSocket.recv_into\u001b[0;34m(self, buffer, nbytes, flags)\u001b[0m\n\u001b[1;32m   1271\u001b[0m     \u001b[38;5;28;01mif\u001b[39;00m flags \u001b[38;5;241m!=\u001b[39m \u001b[38;5;241m0\u001b[39m:\n\u001b[1;32m   1272\u001b[0m         \u001b[38;5;28;01mraise\u001b[39;00m \u001b[38;5;167;01mValueError\u001b[39;00m(\n\u001b[1;32m   1273\u001b[0m           \u001b[38;5;124m\"\u001b[39m\u001b[38;5;124mnon-zero flags not allowed in calls to recv_into() on \u001b[39m\u001b[38;5;132;01m%s\u001b[39;00m\u001b[38;5;124m\"\u001b[39m \u001b[38;5;241m%\u001b[39m\n\u001b[1;32m   1274\u001b[0m           \u001b[38;5;28mself\u001b[39m\u001b[38;5;241m.\u001b[39m\u001b[38;5;18m__class__\u001b[39m)\n\u001b[0;32m-> 1275\u001b[0m     \u001b[38;5;28;01mreturn\u001b[39;00m \u001b[38;5;28;43mself\u001b[39;49m\u001b[38;5;241;43m.\u001b[39;49m\u001b[43mread\u001b[49m\u001b[43m(\u001b[49m\u001b[43mnbytes\u001b[49m\u001b[43m,\u001b[49m\u001b[43m \u001b[49m\u001b[43mbuffer\u001b[49m\u001b[43m)\u001b[49m\n\u001b[1;32m   1276\u001b[0m \u001b[38;5;28;01melse\u001b[39;00m:\n\u001b[1;32m   1277\u001b[0m     \u001b[38;5;28;01mreturn\u001b[39;00m \u001b[38;5;28msuper\u001b[39m()\u001b[38;5;241m.\u001b[39mrecv_into(buffer, nbytes, flags)\n",
      "File \u001b[0;32m~/micromamba/envs/jupiter_xray/lib/python3.9/ssl.py:1133\u001b[0m, in \u001b[0;36mSSLSocket.read\u001b[0;34m(self, len, buffer)\u001b[0m\n\u001b[1;32m   1131\u001b[0m \u001b[38;5;28;01mtry\u001b[39;00m:\n\u001b[1;32m   1132\u001b[0m     \u001b[38;5;28;01mif\u001b[39;00m buffer \u001b[38;5;129;01mis\u001b[39;00m \u001b[38;5;129;01mnot\u001b[39;00m \u001b[38;5;28;01mNone\u001b[39;00m:\n\u001b[0;32m-> 1133\u001b[0m         \u001b[38;5;28;01mreturn\u001b[39;00m \u001b[38;5;28;43mself\u001b[39;49m\u001b[38;5;241;43m.\u001b[39;49m\u001b[43m_sslobj\u001b[49m\u001b[38;5;241;43m.\u001b[39;49m\u001b[43mread\u001b[49m\u001b[43m(\u001b[49m\u001b[38;5;28;43mlen\u001b[39;49m\u001b[43m,\u001b[49m\u001b[43m \u001b[49m\u001b[43mbuffer\u001b[49m\u001b[43m)\u001b[49m\n\u001b[1;32m   1134\u001b[0m     \u001b[38;5;28;01melse\u001b[39;00m:\n\u001b[1;32m   1135\u001b[0m         \u001b[38;5;28;01mreturn\u001b[39;00m \u001b[38;5;28mself\u001b[39m\u001b[38;5;241m.\u001b[39m_sslobj\u001b[38;5;241m.\u001b[39mread(\u001b[38;5;28mlen\u001b[39m)\n",
      "\u001b[0;31mKeyboardInterrupt\u001b[0m: "
     ]
    }
   ],
   "source": [
    "disp_by_date = {}\n",
    "data_by_date = {}\n",
    "\n",
    "while True:\n",
    "    image_results = []\n",
    "\n",
    "    for year_month in set(year_months):\n",
    "        filtered_scws = [\n",
    "            (scw[i], isot_start_times[i], isot_end_times[i], duration_seconds[i])\n",
    "            for i, year_month_in_list in enumerate(year_months)\n",
    "            if year_month_in_list == year_month\n",
    "        ]\n",
    "\n",
    "        if not filtered_scws:\n",
    "            print(f\"No SCWs found for {year_month}\")\n",
    "            continue\n",
    "\n",
    "        # Sort SCWs by duration (smallest first)\n",
    "        filtered_scws.sort(key=lambda x: x[3]) \n",
    "\n",
    "        for scw_id, start_time, end_time, duration in filtered_scws:\n",
    "            print(f\"Trying SCW {scw_id} with duration {duration}\")\n",
    "\n",
    "            par_dict = {\n",
    "                \"RA\": ra,\n",
    "                \"DEC\": dec,\n",
    "                \"E1_keV\": \"15\",\n",
    "                \"E2_keV\": \"30\",\n",
    "                \"T_format\": \"isot\",\n",
    "                'T1': start_time,\n",
    "                'T2': end_time,\n",
    "                \"detection_threshold\": \"5\",\n",
    "                \"instrument\": \"isgri\",\n",
    "                \"osa_version\": \"OSA11.2\",\n",
    "                \"product\": \"isgri_image\",\n",
    "                \"product_type\": \"Real\",\n",
    "                \"scw_list\": [scw_id],\n",
    "                'token': oda_api.token.discover_token(),\n",
    "                'selected_catalog': json.dumps(api_cat)\n",
    "            }\n",
    "\n",
    "            if scw_id not in disp_by_date:\n",
    "                disp_by_date[scw_id] = DispatcherAPI(url=\"https://www.astro.unige.ch/mmoda/dispatch-data\", instrument=\"mock\", wait=False)\n",
    "\n",
    "            _disp = disp_by_date[scw_id]\n",
    "\n",
    "            data = data_by_date.get(scw_id, None)\n",
    "\n",
    "            if data is None and not _disp.is_failed:\n",
    "                try:\n",
    "                    if not _disp.is_submitted:\n",
    "                        data = _disp.get_product(**par_dict)\n",
    "                    else:\n",
    "                        _disp.poll()\n",
    "\n",
    "                    if not _disp.is_complete:\n",
    "                        # continue  # Retry with the next SCW\n",
    "                        raise ValueError(\"Query incomplete\")  # Force skipping the month\n",
    "\n",
    "                    # Query successful, store the data\n",
    "                    data = _disp.get_product(**par_dict)\n",
    "                    data_by_date[scw_id] = data\n",
    "                    image_results.append(data)\n",
    "                    break  # Stop trying other SCWs for this month\n",
    "\n",
    "                except Exception as e:\n",
    "                    print(f\"Query failed for SCW {scw_id}: {e}\")\n",
    "                    continue  # Try the next SCW\n",
    "\n",
    "        else:\n",
    "            # print(f\"All SCWs failed for {year_month}, skipping.\")\n",
    "            print(f\"Skipping {year_month} due to errors.\")\n",
    "\n",
    "    n_complete = len([year for year, _disp in disp_by_date.items() if _disp.is_complete])\n",
    "    print(f\"complete {n_complete} / {len(disp_by_date)}\")\n",
    "\n",
    "    if n_complete == len(disp_by_date):\n",
    "        print(\"done!\")\n",
    "        break\n",
    "    print(\"not done\")"
   ]
  },
  {
   "cell_type": "code",
   "execution_count": 285,
   "metadata": {},
   "outputs": [
    {
     "data": {
      "text/plain": [
       "[<oda_api.api.DataCollection at 0x7fae5fe39e20>]"
      ]
     },
     "execution_count": 285,
     "metadata": {},
     "output_type": "execute_result"
    }
   ],
   "source": [
    "image_results"
   ]
  },
  {
   "cell_type": "markdown",
   "metadata": {},
   "source": [
    "Image analysis (extraction of count rates over time)."
   ]
  },
  {
   "cell_type": "code",
   "execution_count": null,
   "metadata": {},
   "outputs": [
    {
     "name": "stderr",
     "output_type": "stream",
     "text": [
      "WARNING: FITSFixedWarning: RADECSYS= 'FK5 ' \n",
      "the RADECSYS keyword is deprecated, use RADESYSa. [astropy.wcs.wcs]\n",
      "WARNING: FITSFixedWarning: 'datfix' made the change 'Set DATEREF to '2000-01-01' from MJDREF.\n",
      "Set MJD-OBS to 58895.802222 from DATE-OBS.\n",
      "Set MJD-END to 58895.811458 from DATE-END'. [astropy.wcs.wcs]\n"
     ]
    }
   ],
   "source": [
    "crab_countrates = []\n",
    "crab_variances = []\n",
    "obs_start_dates = []\n",
    "obs_end_dates = []\n",
    "offsets = []\n",
    "\n",
    "for result in image_results:\n",
    "\n",
    "    intensity_unit = result.mosaic_image_0_mosaic.get_data_unit(2)  \n",
    "    header = result.mosaic_image_0_mosaic.get_data_unit(2).header\n",
    "    intensity_data = intensity_unit.data \n",
    "\n",
    "    var_unit = result.mosaic_image_0_mosaic.get_data_unit(3)  \n",
    "    var_data = var_unit.data\n",
    "\n",
    "    wcs = WCS(header) \n",
    "    x, y = wcs.all_world2pix(ra, dec, 0)\n",
    "    x_int, y_int = int(round(x.item())), int(round(y.item()))\n",
    "\n",
    "    pointing = SkyCoord(ra=header['CRVAL1'], dec=header['CRVAL2'], unit=(\"deg\", \"deg\"))\n",
    "    offset = pointing.separation(crab_coords).deg\n",
    "\n",
    "    crab_countrates.append(intensity_data[y_int, x_int])\n",
    "    crab_variances.append(var_data[y_int, x_int])\n",
    "    obs_start_dates.append(header['DATE-OBS'])\n",
    "    obs_end_dates.append(header['DATE-END'])\n",
    "    offsets.append(offset)"
   ]
  },
  {
   "cell_type": "code",
   "execution_count": null,
   "metadata": {},
   "outputs": [],
   "source": [
    "output_filename = \"crab_countrate_data.txt\"\n",
    "\n",
    "data = np.column_stack([obs_start_dates, obs_end_dates, crab_countrates, crab_variances, offsets])\n",
    "\n",
    "header = \"Obs Start Date, Obs End Date, Count Rate, Variance, Angular offset\"\n",
    "\n",
    "np.savetxt(output_filename, data, fmt=\"%s\", delimiter=\",\", header=header, comments=\"\")\n",
    "\n",
    "print(f\"Data saved to {output_filename}\")"
   ]
  },
  {
   "cell_type": "code",
   "execution_count": null,
   "metadata": {},
   "outputs": [
    {
     "data": {
      "image/png": "[encoded data removed]",
      "text/plain": [
       "<Figure size 640x480 with 1 Axes>"
      ]
     },
     "metadata": {},
     "output_type": "display_data"
    }
   ],
   "source": [
    "from datetime import datetime\n",
    "\n",
    "obs_times = [datetime.strptime(date, \"%Y-%m-%dT%H:%M:%S\") for date in obs_start_dates]\n",
    "\n",
    "crab_countrates = np.array(crab_countrates)\n",
    "crab_variances = np.array(crab_variances)\n",
    "errors = np.sqrt(crab_variances)\n",
    "offsets = np.array(offsets)\n",
    "\n",
    "# Plot count rate over time with errorbars\n",
    "plt.figure()\n",
    "plt.errorbar(obs_times, crab_countrates, yerr=errors, fmt='o', capsize=5, label=\"Crab Count Rate\")\n",
    "plt.xlabel(\"Observation Date\")\n",
    "plt.ylabel(\"Count Rate\")\n",
    "plt.title(\"Crab Count Rate Over Time\")\n",
    "plt.xticks(rotation=45)\n",
    "plt.grid(True, linestyle=\"--\", alpha=0.6)\n",
    "plt.legend()\n",
    "plt.tight_layout()\n",
    "\n",
    "# Plot angular offset from pointing center over time\n",
    "plt.figure()\n",
    "plt.scatter(obs_times, offsets, label=\"Crab Count Rate\")\n",
    "plt.xlabel(\"Observation Date\")\n",
    "plt.ylabel(\"Angular offset\")\n",
    "plt.title(\"Crab Angular Offset Over Time\")\n",
    "plt.xticks(rotation=45)\n",
    "plt.grid(True, linestyle=\"--\", alpha=0.6)\n",
    "plt.legend()\n",
    "plt.tight_layout()"
   ]
  },
  {
   "cell_type": "markdown",
   "metadata": {},
   "source": [
    "## LIGHT CURVE"
   ]
  },
  {
   "cell_type": "code",
   "execution_count": null,
   "metadata": {},
   "outputs": [],
   "source": [
    "lc_disp_by_date = {}\n",
    "lc_data_by_date = {}\n",
    "\n",
    "while True:\n",
    "    lightcurve_results = []\n",
    "\n",
    "    for year_month in set(year_months):\n",
    "\n",
    "        filtered_scws = []\n",
    "        for i, year_month_in_list in enumerate(year_months):\n",
    "            if year_month_in_list == year_month:\n",
    "                filtered_scws.append((scw[i], isot_start_times[i], isot_end_times[i], duration_seconds[i]))\n",
    "\n",
    "        if not filtered_scws:\n",
    "            print(f\"No SCWs found for {year_month}\")\n",
    "            continue\n",
    "\n",
    "        min_duration_scw = min(filtered_scws, key=lambda x: x[3]) # minimum duration\n",
    "        scw_id, start_time, end_time, duration = min_duration_scw\n",
    "\n",
    "        par_dict = {\n",
    "            \"RA\": ra,\n",
    "            \"DEC\": dec,\n",
    "            \"E1_keV\": \"15\",\n",
    "            \"E2_keV\": \"30\", \n",
    "            \"T_format\": \"isot\",\n",
    "            'T1': start_time,\n",
    "            'T2': end_time,\n",
    "            \"time_bin\": duration_seconds, \n",
    "            \"instrument\": \"isgri\",\n",
    "            \"osa_version\": \"OSA11.2\",\n",
    "            \"product\": \"isgri_lc\",\n",
    "            \"product_type\": \"Real\",\n",
    "            \"scw_list\": [scw_id],\n",
    "            'token': oda_api.token.discover_token(),\n",
    "            'selected_catalog': json.dumps(api_cat)\n",
    "            }\n",
    "        \n",
    "        if scw_id not in lc_disp_by_date:\n",
    "            lc_disp_by_date[scw_id] = DispatcherAPI(url=\"https://www.astro.unige.ch/mmoda/dispatch-data\", instrument=\"mock\", wait=False)\n",
    "        \n",
    "        _disp = lc_disp_by_date[scw_id]\n",
    "        \n",
    "        data = lc_data_by_date.get(scw_id, None)\n",
    "\n",
    "        if data is None and not _disp.is_failed:\n",
    "            if not _disp.is_submitted:\n",
    "                data = _disp.get_product(**par_dict)\n",
    "            else:\n",
    "                _disp.poll()\n",
    "\n",
    "            print(\"Is complete \", _disp.is_complete)\n",
    "            if not _disp.is_complete:\n",
    "                continue\n",
    "            else:\n",
    "                data = _disp.get_product(**par_dict)\n",
    "                lc_data_by_date[scw_id] = data\n",
    "\n",
    "        lightcurve_results.append(data)\n",
    "\n",
    "    n_complete = len([ year for year, _disp in lc_disp_by_date.items() if _disp.is_complete ])\n",
    "    print(f\"complete {n_complete} / {len(lc_disp_by_date)}\")\n",
    "    if n_complete == len(lc_disp_by_date):\n",
    "        print(\"done!\")\n",
    "        break\n",
    "    print(\"not done\")"
   ]
  },
  {
   "cell_type": "markdown",
   "metadata": {},
   "source": [
    "Light curve analysis."
   ]
  },
  {
   "cell_type": "code",
   "execution_count": null,
   "metadata": {},
   "outputs": [],
   "source": []
  },
  {
   "cell_type": "markdown",
   "metadata": {},
   "source": [
    "## COMPARISON\n",
    "Here we compare the count rate of the Crab over time between the two methods (using images or light curves)."
   ]
  },
  {
   "cell_type": "code",
   "execution_count": null,
   "metadata": {},
   "outputs": [],
   "source": []
  }
 ],
 "metadata": {
  "kernelspec": {
   "display_name": "jupiter_xray",
   "language": "python",
   "name": "python3"
  },
  "language_info": {
   "codemirror_mode": {
    "name": "ipython",
    "version": 3
   },
   "file_extension": ".py",
   "mimetype": "text/x-python",
   "name": "python",
   "nbconvert_exporter": "python",
   "pygments_lexer": "ipython3",
   "version": "3.9.21"
  }
 },
 "nbformat": 4,
 "nbformat_minor": 2
}
