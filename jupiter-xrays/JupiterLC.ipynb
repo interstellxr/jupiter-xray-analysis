{
 "cells": [
  {
   "cell_type": "code",
   "execution_count": 1,
   "metadata": {},
   "outputs": [],
   "source": [
    "import oda_api.token \n",
    "import logging\n",
    "import numpy as np\n",
    "from oda_api.api import DispatcherAPI\n",
    "from oda_api.plot_tools import OdaImage, OdaLightCurve, OdaSpectrum\n",
    "import matplotlib.pyplot as plt\n",
    "from astropy.io import fits\n",
    "from astropy.wcs import WCS\n",
    "from matplotlib.patches import Circle\n",
    "from astropy.time import Time"
   ]
  },
  {
   "cell_type": "code",
   "execution_count": 2,
   "metadata": {},
   "outputs": [],
   "source": [
    "logging.getLogger().setLevel(logging.INFO) # WARNING, INFO or DEBUG\n",
    "logging.getLogger('oda_api').addHandler(logging.StreamHandler())"
   ]
  },
  {
   "cell_type": "markdown",
   "metadata": {},
   "source": [
    "Import the ScWs from the saved file."
   ]
  },
  {
   "cell_type": "code",
   "execution_count": 4,
   "metadata": {},
   "outputs": [],
   "source": [
    "scw_ids = []\n",
    "scw_versions = []\n",
    "scw_start_times = []\n",
    "scw_end_times = []\n",
    "jupiter_ra = []\n",
    "jupiter_dec = []\n",
    "\n",
    "with open(\"../data/2003-01-01_2025-01-01.txt\", \"r\") as f:\n",
    "    next(f)\n",
    "    for line in f:\n",
    "        parts = line.strip().split(\", \")\n",
    "        scw_ids.append(parts[0])\n",
    "        scw_versions.append(parts[1])\n",
    "        scw_start_times.append(float(parts[2]))  \n",
    "        scw_end_times.append(float(parts[3]))  \n",
    "        jupiter_ra.append(float(parts[4]))  \n",
    "        jupiter_dec.append(float(parts[5]))  \n",
    "\n",
    "unique_sorted_data = {}\n",
    "for sid, ver, start, end, ra, dec in sorted(zip(scw_ids, scw_versions, scw_start_times, scw_end_times, jupiter_ra, jupiter_dec), key=lambda x: x[0]):\n",
    "    if sid not in unique_sorted_data:  \n",
    "        unique_sorted_data[sid] = (sid, ver, start, end, ra, dec)\n",
    "\n",
    "scw_ids, scw_versions, scw_start_times, scw_end_times, jupiter_ra, jupiter_dec = map(list, zip(*unique_sorted_data.values()))"
   ]
  },
  {
   "cell_type": "markdown",
   "metadata": {},
   "source": [
    "Add IDs and versions together to make correctly formatted ScWs, and compute durations of the ScW observations."
   ]
  },
  {
   "cell_type": "code",
   "execution_count": 5,
   "metadata": {},
   "outputs": [
    {
     "name": "stdout",
     "output_type": "stream",
     "text": [
      "['012001160010.001', '012001170010.001', '012001180010.001', '012301060010.001', '012301070010.001', '012301080010.001', '026601100010.001', '026601110010.001', '026700000210.001', '026700000230.001', '043200640010.001', '043200650010.001', '091700010010.001', '091700020010.001', '106300180010.001', '106300190010.001', '112600220010.001', '112600230010.001', '124200010010.001', '124200020010.001', '168600570010.001', '168600580010.001', '169500010010.001', '169500020010.001', '230200070010.001', '230200080010.001', '230200090010.001', '230200160010.001', '230200170010.001', '230200180010.001', '230200470010.001', '230200480010.001', '230200490010.001', '230200550010.001', '230200560010.001', '230200570010.001', '230200570020.001', '236600410010.001', '236600420010.001', '236600440010.001', '236600450010.001', '236600460010.001', '236600470010.001', '236600480010.001', '236600490010.001', '236600500010.001', '236600510010.001', '236600520010.001', '236600530010.001', '236600540010.001', '236600550010.001', '236600560010.001', '236600570010.001', '236600580010.001', '236600590010.001', '236600600010.001', '236600610010.001', '236600620010.001', '236700010010.001', '236700020010.001', '236700030010.001', '236700040010.001', '236700050010.001', '236700060010.001', '236700070010.001', '236700080010.001', '236700090010.001', '236700100010.001', '236700110010.001', '236700120010.001', '236700130010.001', '236700140010.001', '236700150010.001', '236700160010.001', '236700170010.001', '236700180010.001', '236700190010.001', '236700200010.001', '236700210010.001', '236700220010.001', '236700250010.001', '236800110010.001', '236800120010.001', '236800130010.001', '236800140010.001', '236800160010.001', '236800170010.001', '236800180010.001', '236800190010.001', '236800200010.001', '236800210010.001', '236900030010.001', '236900040010.001', '236900050010.001', '236900060010.001', '236900070010.001', '236900080010.001', '236900090010.001', '236900100010.001', '236900110010.001', '236900120010.001', '236900170010.001', '236900180010.001', '237200010010.001', '237200020010.001', '237300010010.001', '237300020010.001', '237400080010.001', '237400090010.001', '237400160010.001', '237400170010.001', '243800290010.001', '243800300010.001', '250600210010.001', '250600220010.001', '256500270010.001', '256500280010.001', '258100840010.001', '258100850010.001', '258200000020.001', '258200000030.001', '263600270010.001', '263600280010.001', '265000840010.001', '265000850010.001', '265100000020.001', '270100010010.001', '270100020010.001']\n",
      "[9.883338483050466, 14.766674540005624, 12.316673087188974, 9.86667178105563, 14.766674393322319, 12.33333978918381, 9.88333935267292, 15.066675940761343, 32.5000173621811, 33.01668418105692, 9.866674086079001, 14.766677567968145, 9.833342107012868, 14.666679786751047, 9.883340211817995, 13.183342565316707, 13.300008903024718, 15.666677139233798, 13.350011188304052, 14.866679089609534, 9.883340494707227, 18.88334697810933, 9.883339635562152, 12.166674477048218, 9.883339195512235, 55.33336612279527, 55.33336612279527, 55.350032835267484, 95.76672322000377, 55.33336583990604, 55.33336684573442, 55.35003341152333, 55.35003341152333, 55.33336612279527, 55.350032835267484, 58.850034774513915, 37.083355193026364, 48.78336370107718, 48.78336370107718, 48.733363731298596, 48.7833636905998, 50.000031071249396, 15.083342642756179, 48.73336358461529, 49.05003023101017, 48.766696852399036, 48.8000301097054, 48.78336340771057, 48.78336340771057, 48.76669670571573, 48.8000301097054, 48.78336340771057, 48.78336355439387, 48.75003013992682, 48.7833636905998, 48.80003054975532, 48.766697281971574, 71.80004534544423, 9.866672640200704, 49.78336348431185, 48.900029473006725, 48.750029280781746, 48.76669598277658, 48.80002954392694, 48.80002953344956, 48.800029680132866, 48.78336296766065, 48.783363124821335, 48.80002981633879, 48.7666964228265, 48.7666964228265, 48.766696265665814, 48.800029680132866, 48.783362831454724, 48.78336297813803, 48.78336296766065, 48.80002953344956, 48.783362831454724, 48.80002954392694, 48.7833628419321, 48.7833626952488, 48.78336154273711, 48.80002809804864, 48.80002809804864, 48.80002795136534, 48.783361396053806, 48.783361396053806, 48.783361396053806, 48.783361396053806, 48.7833612493705, 48.80002809804864, 9.866673216456547, 49.83336576959118, 48.78336470690556, 48.78336441353895, 48.78336398396641, 48.783363837283105, 48.800030403072014, 48.78336355439387, 48.8000301097054, 48.78336340771057, 48.733363731298596, 48.78336398396641, 15.650010720128193, 15.983344225678593, 15.4333440028131, 16.05001103365794, 48.80003270809539, 48.783365859417245, 48.80003154510632, 48.800031408900395, 13.28334263060242, 16.050011044135317, 13.250007937895134, 15.983342926483601, 13.31667474587448, 17.283343680901453, 13.333341458346695, 55.55003413930535, 150.28342847828753, 2.1000012452714145, 13.300012360559776, 16.00001496146433, 9.883342799730599, 34.750033342279494, 105.41675865766592, 13.316674756351858, 17.1333436248824]\n",
      "['2003-10-10T02:54:30.329', '2003-10-10T03:06:19.329', '2003-10-10T03:22:35.330', '2003-10-18T19:29:05.725', '2003-10-18T19:40:52.726', '2003-10-18T19:57:08.726', '2004-12-19T19:48:56.654', '2004-12-19T20:00:44.654', '2004-12-20T09:40:05.683', '2004-12-20T10:14:04.684', '2006-04-29T05:10:22.194', '2006-04-29T05:22:09.195', '2010-04-17T07:40:39.526', '2010-04-17T07:52:31.526', '2011-06-28T10:40:48.998', '2011-06-28T10:52:36.998', '2012-01-03T03:24:40.594', '2012-01-03T03:39:54.595', '2012-12-14T11:04:08.379', '2012-12-14T11:19:25.380', '2016-06-05T01:14:24.654', '2016-06-05T01:25:45.654', '2016-06-26T17:49:59.816', '2016-06-26T18:01:51.817', '2020-11-26T22:58:31.199', '2020-11-26T23:10:19.199', '2020-11-27T00:07:35.201', '2020-11-27T06:50:03.216', '2020-11-27T07:47:35.218', '2020-11-27T09:25:33.221', '2020-11-28T15:31:23.285', '2020-11-28T16:28:38.287', '2020-11-28T17:25:54.289', '2020-11-28T23:10:51.302', '2020-11-29T00:08:22.304', '2020-11-29T01:05:38.306', '2020-11-29T02:04:29.308', '2021-05-17T13:03:47.183', '2021-05-17T13:54:45.184', '2021-05-17T15:36:14.188', '2021-05-17T16:27:10.190', '2021-05-17T17:18:09.192', '2021-05-17T18:08:09.194', '2021-05-17T18:59:38.196', '2021-05-17T19:50:18.198', '2021-05-17T20:41:34.200', '2021-05-17T21:32:15.201', '2021-05-17T22:23:15.203', '2021-05-17T23:14:14.205', '2021-05-18T00:05:12.207', '2021-05-18T00:55:54.209', '2021-05-18T01:46:38.211', '2021-05-18T02:37:21.213', '2021-05-18T03:28:22.215', '2021-05-18T04:19:03.217', '2021-05-18T05:09:45.218', '2021-05-18T06:00:46.220', '2021-05-18T06:51:27.222', '2021-05-18T19:54:36.251', '2021-05-18T20:06:27.252', '2021-05-18T20:59:01.254', '2021-05-18T21:50:09.256', '2021-05-18T22:41:07.257', '2021-05-18T23:31:48.259', '2021-05-19T00:22:31.261', '2021-05-19T01:13:14.263', '2021-05-19T02:03:57.265', '2021-05-19T02:54:40.267', '2021-05-19T03:45:23.269', '2021-05-19T04:36:24.270', '2021-05-19T05:27:23.272', '2021-05-19T06:18:22.274', '2021-05-19T07:09:03.276', '2021-05-19T08:00:03.278', '2021-05-19T08:51:02.280', '2021-05-19T09:42:01.282', '2021-05-19T10:32:43.283', '2021-05-19T11:23:42.285', '2021-05-19T12:14:41.287', '2021-05-19T13:05:25.289', '2021-05-19T15:37:50.294', '2021-05-21T18:40:25.403', '2021-05-21T19:31:07.405', '2021-05-21T20:22:06.407', '2021-05-21T21:12:49.409', '2021-05-21T22:54:48.412', '2021-05-21T23:45:47.414', '2021-05-22T00:36:29.416', '2021-05-22T01:27:28.417', '2021-05-22T02:18:27.419', '2021-05-22T03:09:26.421', '2021-05-24T04:25:06.528', '2021-05-24T04:36:54.528', '2021-05-24T05:28:40.531', '2021-05-24T06:19:23.532', '2021-05-24T07:10:22.534', '2021-05-24T08:01:05.536', '2021-05-24T08:51:48.538', '2021-05-24T09:42:32.540', '2021-05-24T10:33:14.542', '2021-05-24T11:23:58.544', '2021-05-24T15:05:18.552', '2021-05-24T15:55:58.554', '2021-06-01T03:08:33.012', '2021-06-01T03:26:12.013', '2021-06-03T19:01:05.168', '2021-06-03T19:18:27.169', '2021-06-06T16:17:36.338', '2021-06-06T17:08:19.340', '2021-06-06T23:04:50.354', '2021-06-06T23:55:49.356', '2021-11-24T07:42:01.458', '2021-11-24T07:57:14.459', '2022-05-24T08:30:06.902', '2022-05-24T08:45:20.902', '2022-10-28T04:39:19.612', '2022-10-28T04:54:33.612', '2022-12-11T12:10:54.321', '2022-12-11T12:25:43.321', '2022-12-11T15:09:16.327', '2022-12-11T17:39:33.333', '2023-05-05T01:16:46.348', '2023-05-05T01:32:03.348', '2023-06-13T00:23:18.619', '2023-06-13T00:35:06.620', '2023-06-13T05:03:36.635', '2023-10-24T08:08:37.915', '2023-10-24T08:24:00.915']\n",
      "Max duration in minutes: 150.28342847828753 at position 119\n"
     ]
    }
   ],
   "source": [
    "scw_list = [id + \".\" + ver for id, ver in zip(scw_ids, scw_versions)]\n",
    "scw_durations = [(end - start)*24*60 for start, end in zip(scw_start_times, scw_end_times)]\n",
    "print(scw_list)\n",
    "print(scw_durations)\n",
    "print([Time(start, format='mjd').isot for start in scw_start_times])\n",
    "print(\"Max duration in minutes:\", np.max(scw_durations), \"at position\", np.argmax(scw_durations))"
   ]
  },
  {
   "cell_type": "markdown",
   "metadata": {},
   "source": [
    "We hardcore a catalog for Jupiter."
   ]
  },
  {
   "cell_type": "code",
   "execution_count": 6,
   "metadata": {},
   "outputs": [],
   "source": [
    "list_position = 3\n",
    "\n",
    "# Jupiter\n",
    "ra_deg = jupiter_ra[list_position]\n",
    "dec_deg = jupiter_dec[list_position]\n",
    "\n",
    "api_cat={\n",
    "    \"cat_frame\": \"fk5\",\n",
    "    \"cat_coord_units\": \"deg\",\n",
    "    \"cat_column_list\": [\n",
    "        [0],\n",
    "        [\"Jupiter\"],\n",
    "        [125.4826889038086],\n",
    "        [ra_deg],\n",
    "        [dec_deg],\n",
    "        [-32768],\n",
    "        [2],\n",
    "        [0],\n",
    "        [0.0002800000074785203]],\n",
    "    \"cat_column_names\": [\n",
    "        \"meta_ID\",\n",
    "        \"src_names\",\n",
    "        \"significance\",\n",
    "        \"ra\",\n",
    "        \"dec\",\n",
    "        \"NEW_SOURCE\",\n",
    "        \"ISGRI_FLAG\",\n",
    "        \"FLAG\",\n",
    "        \"ERR_RAD\"\n",
    "    ],\n",
    "    \"cat_column_descr\":\n",
    "        [\n",
    "            [\"meta_ID\", \"<i8\"],\n",
    "            [\"src_names\", \"<U11\"],\n",
    "            [\"significance\", \"<f8\"],\n",
    "            [\"ra\", \"<f8\"],\n",
    "            [\"dec\", \"<f8\"],\n",
    "            [\"NEW_SOURCE\", \"<i8\"],\n",
    "            [\"ISGRI_FLAG\", \"<i8\"],\n",
    "            [\"FLAG\", \"<i8\"],\n",
    "            [\"ERR_RAD\", \"<f8\"]\n",
    "        ],\n",
    "    \"cat_lat_name\": \"dec\",\n",
    "    \"cat_lon_name\": \"ra\"\n",
    "}\n"
   ]
  },
  {
   "cell_type": "markdown",
   "metadata": {},
   "source": [
    "Query the ODA API."
   ]
  },
  {
   "cell_type": "code",
   "execution_count": 7,
   "metadata": {},
   "outputs": [
    {
     "name": "stderr",
     "output_type": "stream",
     "text": [
      "found token in TokenLocation.FILE_CUR_DIR your token payload: {\n",
      "    \"email\": \"hucklethums@icloud.com\",\n",
      "    \"exp\": 1742905994,\n",
      "    \"name\": \"interstellxr\",\n",
      "    \"roles\": \"authenticated user, public-pool-hpc\",\n",
      "    \"sub\": \"hucklethums@icloud.com\"\n",
      "}\n",
      "token expires in 214.2 h\n",
      "discovered token in environment\n",
      "found token in TokenLocation.FILE_CUR_DIR your token payload: {\n",
      "    \"email\": \"hucklethums@icloud.com\",\n",
      "    \"exp\": 1742905994,\n",
      "    \"name\": \"interstellxr\",\n",
      "    \"roles\": \"authenticated user, public-pool-hpc\",\n",
      "    \"sub\": \"hucklethums@icloud.com\"\n",
      "}\n",
      "token expires in 214.2 h\n",
      "please beware that by default, in a typical setup, oda_api will not output much. To learn how to increase the verbosity, please refer to the documentation: https://oda-api.readthedocs.io/en/latest/user_guide/ScienceWindowList.html?highlight=logging#Let's-get-some-logging . \n",
      "To disable this message you can pass `.get_product(..., silent=True)`\n",
      "- waiting for remote response (since 2025-03-16 15:18:36), please wait for https://www.astro.unige.ch/mmoda/dispatch-data/run_analysis\n",
      "session: 550LKQBWO0PRMJFZ job: 1451bd3935f7f894\n",
      "\n",
      "... query status \u001b[35mprepared\u001b[0m => \u001b[35msubmitted\u001b[0m\n",
      "... assigned job id: \u001b[33m1451bd3935f7f894\u001b[0m\n",
      " | the job is working remotely, please wait status=submitted job_id=1451bd39 in 0 messages since 10 seconds (10/10); in 0 SCW so far; nodes (0): 0 computed 0 restored\n",
      "... \u001b[32m\u001b[0m\u001b[0m\n",
      "- waiting for remote response (since 2025-03-16 15:18:47), please wait for https://www.astro.unige.ch/mmoda/dispatch-data/run_analysis\n",
      "session: 550LKQBWO0PRMJFZ job: 1451bd3935f7f894\n",
      " / the job is working remotely, please wait status=submitted job_id=1451bd39 in 0 messages since 16 seconds (7.7/10); in 0 SCW so far; nodes (0): 0 computed 0 restored\n",
      "... \u001b[32m\u001b[0m\u001b[0m\n",
      "- waiting for remote response (since 2025-03-16 15:18:53), please wait for https://www.astro.unige.ch/mmoda/dispatch-data/run_analysis\n",
      "session: 550LKQBWO0PRMJFZ job: 1451bd3935f7f894\n",
      " - the job is working remotely, please wait status=submitted job_id=1451bd39 in 0 messages since 23 seconds (7.2/10); in 0 SCW so far; nodes (0): 0 computed 0 restored\n",
      "... \u001b[32m\u001b[0m\u001b[0m\n",
      "- waiting for remote response (since 2025-03-16 15:19:01), please wait for https://www.astro.unige.ch/mmoda/dispatch-data/run_analysis\n",
      "session: 550LKQBWO0PRMJFZ job: 1451bd3935f7f894\n",
      " \\ the job is working remotely, please wait status=submitted job_id=1451bd39 in 0 messages since 31 seconds (7.2/10); in 0 SCW so far; nodes (0): 0 computed 0 restored\n",
      "... \u001b[32m\u001b[0m\u001b[0m\n",
      "- waiting for remote response (since 2025-03-16 15:19:09), please wait for https://www.astro.unige.ch/mmoda/dispatch-data/run_analysis\n",
      "session: 550LKQBWO0PRMJFZ job: 1451bd3935f7f894\n",
      " | the job is working remotely, please wait status=submitted job_id=1451bd39 in 0 messages since 43 seconds (7.8/10); in 0 SCW so far; nodes (0): 0 computed 0 restored\n",
      "... \u001b[32m\u001b[0m\u001b[0m\n",
      "- waiting for remote response (since 2025-03-16 15:19:20), please wait for https://www.astro.unige.ch/mmoda/dispatch-data/run_analysis\n",
      "session: 550LKQBWO0PRMJFZ job: 1451bd3935f7f894\n",
      "\n",
      "... query status \u001b[35msubmitted\u001b[0m => \u001b[35mprogress\u001b[0m\n",
      " / the job is working remotely, please wait status=progress job_id=1451bd39 in 1 messages since 53 seconds (8.1/10); in 0 SCW so far; nodes (1): 0 computed 0 restored\n",
      "... \u001b[32mISGRILCSum : task dependencies delegated : inapplicable\u001b[0m\u001b[0m\n",
      "- waiting for remote response (since 2025-03-16 15:19:30), please wait for https://www.astro.unige.ch/mmoda/dispatch-data/run_analysis\n",
      "session: 550LKQBWO0PRMJFZ job: 1451bd3935f7f894\n",
      " - the job is working remotely, please wait status=progress job_id=1451bd39 in 2 messages since 63 seconds (8.2/10); in 0 SCW so far; nodes (1): 0 computed 0 restored\n",
      "... \u001b[32mISGRILCSum : task dependencies delegated : inapplicable\u001b[0m\u001b[0m\n",
      "- waiting for remote response (since 2025-03-16 15:19:40), please wait for https://www.astro.unige.ch/mmoda/dispatch-data/run_analysis\n",
      "session: 550LKQBWO0PRMJFZ job: 1451bd3935f7f894\n",
      " \\ the job is working remotely, please wait status=progress job_id=1451bd39 in 3 messages since 78 seconds (9/15); in 1 SCW so far; nodes (2): 0 computed 0 restored\n",
      "... \u001b[32mii_lc_extract : task complete : 012301060010.001\u001b[0m\u001b[0m\n",
      "- waiting for remote response (since 2025-03-16 15:19:56), please wait for https://www.astro.unige.ch/mmoda/dispatch-data/run_analysis\n",
      "session: 550LKQBWO0PRMJFZ job: 1451bd3935f7f894\n",
      " | the job is working remotely, please wait status=progress job_id=1451bd39 in 3 messages since 84 seconds (8.5/15); in 1 SCW so far; nodes (2): 0 computed 0 restored\n",
      "... \u001b[32mii_lc_extract : task complete : 012301060010.001\u001b[0m\u001b[0m\n",
      "- waiting for remote response (since 2025-03-16 15:20:01), please wait for https://www.astro.unige.ch/mmoda/dispatch-data/run_analysis\n",
      "session: 550LKQBWO0PRMJFZ job: 1451bd3935f7f894\n",
      " / the job is working remotely, please wait status=progress job_id=1451bd39 in 3 messages since 89 seconds (8/15); in 1 SCW so far; nodes (2): 0 computed 0 restored\n",
      "... \u001b[32mii_lc_extract : task complete : 012301060010.001\u001b[0m\u001b[0m\n",
      "- waiting for remote response (since 2025-03-16 15:20:06), please wait for https://www.astro.unige.ch/mmoda/dispatch-data/run_analysis\n",
      "session: 550LKQBWO0PRMJFZ job: 1451bd3935f7f894\n",
      " - the job is working remotely, please wait status=progress job_id=1451bd39 in 3 messages since 95 seconds (7.7/15); in 1 SCW so far; nodes (2): 0 computed 0 restored\n",
      "... \u001b[32mii_lc_extract : task complete : 012301060010.001\u001b[0m\u001b[0m\n",
      "- waiting for remote response (since 2025-03-16 15:20:12), please wait for https://www.astro.unige.ch/mmoda/dispatch-data/run_analysis\n",
      "session: 550LKQBWO0PRMJFZ job: 1451bd3935f7f894\n",
      " \\ the job is working remotely, please wait status=progress job_id=1451bd39 in 3 messages since 103 seconds (7.7/15); in 1 SCW so far; nodes (2): 0 computed 0 restored\n",
      "... \u001b[32mii_lc_extract : task complete : 012301060010.001\u001b[0m\u001b[0m\n",
      "- waiting for remote response (since 2025-03-16 15:20:21), please wait for https://www.astro.unige.ch/mmoda/dispatch-data/run_analysis\n",
      "session: 550LKQBWO0PRMJFZ job: 1451bd3935f7f894\n",
      " | the job is working remotely, please wait status=progress job_id=1451bd39 in 3 messages since 111 seconds (7.7/15); in 1 SCW so far; nodes (2): 0 computed 0 restored\n",
      "... \u001b[32mii_lc_extract : task complete : 012301060010.001\u001b[0m\u001b[0m\n",
      "- waiting for remote response (since 2025-03-16 15:20:28), please wait for https://www.astro.unige.ch/mmoda/dispatch-data/run_analysis\n",
      "session: 550LKQBWO0PRMJFZ job: 1451bd3935f7f894\n",
      " / the job is working remotely, please wait status=progress job_id=1451bd39 in 3 messages since 124 seconds (8/15); in 1 SCW so far; nodes (2): 0 computed 0 restored\n",
      "... \u001b[32mii_lc_extract : task complete : 012301060010.001\u001b[0m\u001b[0m\n",
      "- waiting for remote response (since 2025-03-16 15:20:42), please wait for https://www.astro.unige.ch/mmoda/dispatch-data/run_analysis\n",
      "session: 550LKQBWO0PRMJFZ job: 1451bd3935f7f894\n",
      "\n",
      "... query status \u001b[35mprogress\u001b[0m => \u001b[35mready\u001b[0m\n",
      " - the job is working remotely, please wait status=ready job_id=1451bd39 in 4 messages since 134 seconds (8/15); in 1 SCW so far; nodes (2): 0 computed 0 restored\n",
      "... \u001b[32mISGRILCSum : task complete : inapplicable\u001b[0m\u001b[0m\n",
      "- waiting for remote response (since 2025-03-16 15:20:52), please wait for https://www.astro.unige.ch/mmoda/dispatch-data/run_analysis\n",
      "session: 550LKQBWO0PRMJFZ job: 1451bd3935f7f894\n",
      "\n",
      "... query status \u001b[35mready\u001b[0m => \u001b[35mdone\u001b[0m\n",
      "\u001b[32mquery COMPLETED SUCCESSFULLY (state done)\u001b[0m\n",
      "query complete: terminating\n"
     ]
    },
    {
     "name": "stdout",
     "output_type": "stream",
     "text": [
      "ID=0 prod_name=isgri_lc_0_Jupiter  meta_data: {'src_name': 'Jupiter', 'time_bin': 0.000694394184392877, 'time': 'TIME', 'rate': 'RATE', 'rate_err': 'ERROR'}\n",
      "\n"
     ]
    }
   ],
   "source": [
    "import json\n",
    "\n",
    "disp = DispatcherAPI(url=\"https://www.astro.unige.ch/mmoda/dispatch-data\", instrument=\"mock\")\n",
    "\n",
    "par_dict = {\n",
    "\"RA\": ra_deg,\n",
    "\"DEC\": dec_deg,\n",
    "\"E1_keV\": \"15\",\n",
    "\"E2_keV\": \"30\", \n",
    "\"T_format\": \"mjd\",\n",
    "'T1': scw_start_times[list_position],\n",
    "'T2': scw_end_times[list_position],\n",
    "\"time_bin\": \"60\", \n",
    "\"instrument\": \"isgri\",\n",
    "\"osa_version\": \"OSA11.2\",\n",
    "\"product\": \"isgri_lc\",\n",
    "\"product_type\": \"Real\",\n",
    "\"scw_list\": [scw_list[list_position]],\n",
    "'token': oda_api.token.discover_token() ,\n",
    "'selected_catalog': json.dumps(api_cat)\n",
    "}\n",
    "\n",
    "data_collection = disp.get_product(**par_dict)\n",
    "data_collection.show()"
   ]
  },
  {
   "cell_type": "markdown",
   "metadata": {},
   "source": [
    "LIGHT CURVE"
   ]
  },
  {
   "cell_type": "code",
   "execution_count": 8,
   "metadata": {},
   "outputs": [
    {
     "name": "stdout",
     "output_type": "stream",
     "text": [
      "------------------------------\n",
      "name: isgri_lc\n",
      "meta_data dict_keys(['src_name', 'time_bin', 'time', 'rate', 'rate_err'])\n",
      "number of data units 2\n",
      "------------------------------\n",
      "data uniti 0 ,name: PRIMARY\n",
      "data uniti 1 ,name: ISGR-SRC.-LCR\n"
     ]
    }
   ],
   "source": [
    "data_collection.isgri_lc_0_Jupiter.show()"
   ]
  },
  {
   "cell_type": "code",
   "execution_count": 9,
   "metadata": {},
   "outputs": [
    {
     "data": {
      "text/plain": [
       "array([(1386.81323132, 74.40108 , 83.35815 , 1.2954814,  1.1226335 , 4.7721524, 0.99999946, 0.0003472 , 0.00069439),\n",
       "       (1386.81392576, 73.92548 , 52.847572, 1.2964035, -4.6548023 , 4.7758775, 0.99999946, 0.0003472 , 0.00069439),\n",
       "       (1386.81462019, 74.60025 , 53.64341 , 1.3254974, -2.3899996 , 4.8835053, 0.99999946, 0.0003472 , 0.00069439),\n",
       "       (1386.81531464, 72.44006 , 51.069664, 1.2794493, -0.16451325, 4.7134213, 0.99999946, 0.0003472 , 0.00069439),\n",
       "       (1386.81600908, 73.45795 , 52.34818 , 1.3113598, -0.90802616, 4.8315825, 0.99999946, 0.0003472 , 0.00069439),\n",
       "       (1386.81670351, 75.16615 , 53.713463, 1.29953  , -4.3681974 , 4.7873898, 0.99999946, 0.0003472 , 0.00069439),\n",
       "       (1386.81739796, 71.5961  , 51.57832 , 1.2789587, -4.312915  , 4.7117133, 0.99999946, 0.0003472 , 0.00069439),\n",
       "       (1386.81809241, 74.30623 , 54.059277, 1.3050529, -2.0172925 , 4.8081007, 0.99999946, 0.0003472 , 0.00069439),\n",
       "       (1386.81878685, 74.797356, 52.9035  , 1.3250614, -3.0622325 , 4.881918 , 0.99999946, 0.0003472 , 0.00069439),\n",
       "       (1386.81926896, 79.772415, 55.004585, 2.5387042,  4.798061  , 9.352782 , 0.7160272 , 0.00013491, 0.00026982)],\n",
       "      dtype=[('TIME', '>f8'), ('TOT_COUNTS', '>f4'), ('BACKV', '>f4'), ('BACKE', '>f4'), ('RATE', '>f4'), ('ERROR', '>f4'), ('FRACEXP', '>f4'), ('XAX_E', '>f4'), ('TIMEDEL', '<f8')])"
      ]
     },
     "execution_count": 9,
     "metadata": {},
     "output_type": "execute_result"
    }
   ],
   "source": [
    "lc=data_collection._p_list[0]\n",
    "lc.data_unit[1].data"
   ]
  },
  {
   "cell_type": "code",
   "execution_count": 10,
   "metadata": {},
   "outputs": [
    {
     "name": "stdout",
     "output_type": "stream",
     "text": [
      "------------------------------\n",
      "name: isgri_lc\n",
      "meta_data dict_keys(['src_name', 'time_bin', 'time', 'rate', 'rate_err'])\n",
      "number of data units 2\n",
      "------------------------------\n",
      "data uniti 0 ,name: PRIMARY\n",
      "data uniti 1 ,name: ISGR-SRC.-LCR\n"
     ]
    }
   ],
   "source": [
    "lc.show()"
   ]
  },
  {
   "cell_type": "code",
   "execution_count": 11,
   "metadata": {},
   "outputs": [
    {
     "data": {
      "text/plain": [
       "{'src_name': 'Jupiter',\n",
       " 'time_bin': 0.000694394184392877,\n",
       " 'time': 'TIME',\n",
       " 'rate': 'RATE',\n",
       " 'rate_err': 'ERROR'}"
      ]
     },
     "execution_count": 11,
     "metadata": {},
     "output_type": "execute_result"
    }
   ],
   "source": [
    "lc.meta_data"
   ]
  },
  {
   "cell_type": "code",
   "execution_count": 12,
   "metadata": {},
   "outputs": [
    {
     "data": {
      "text/plain": [
       "{'BACKAPP': True,\n",
       " 'BANDTYPE': 'ENERGY',\n",
       " 'BASETYPE': 'DAL_TABLE',\n",
       " 'BITPIX': 8,\n",
       " 'BKGPARAM': 'rebinned_back_lcr.fits',\n",
       " 'CHANTYPE': 'PI',\n",
       " 'CHECKSUM': 'jWEMjWBMjWBMjWBM',\n",
       " 'COMMENT': 'STAMP :',\n",
       " 'CONFIGUR': 'osa_2021-08-27T14:27:00',\n",
       " 'CREATOR': 'ii_lc_extract 2.7.1',\n",
       " 'DATASUM': '4204715411',\n",
       " 'DATE': '2025-03-16T14:19:45',\n",
       " 'DEADAPP': True,\n",
       " 'DEADC': 0.777554059521213,\n",
       " 'DEC_OBJ': 16.2247791290283,\n",
       " 'DETNAM': 'ISGRI',\n",
       " 'EQUINOX': 2000.0,\n",
       " 'EUNIT': 'keV',\n",
       " 'EXPOSURE': 415.432056103966,\n",
       " 'EXP_SRC': 112.171111600484,\n",
       " 'EXTNAME': 'ISGR-SRC.-LCR',\n",
       " 'EXTREL': '7.9.4',\n",
       " 'EXTVER': 1,\n",
       " 'E_MAX': 30.0,\n",
       " 'E_MIN': 15.0,\n",
       " 'FITTYPE': 6,\n",
       " 'GCOUNT': 1,\n",
       " 'GRPID1': 1,\n",
       " 'INSTRUME': 'IBIS',\n",
       " 'ISDCLEVL': 'LCR',\n",
       " 'MJDREF': 51544.0,\n",
       " 'NAME': 'Jupiter',\n",
       " 'NAXIS': 2,\n",
       " 'NAXIS1': 36,\n",
       " 'NAXIS2': 10,\n",
       " 'OBTEND': '00000033226367172608',\n",
       " 'OBTSTART': '00000033225746415616',\n",
       " 'OFFCORR': 'rebinned_corr_lcr.fits',\n",
       " 'ONTIME': 556.649047851562,\n",
       " 'ORIGIN': 'ISDC',\n",
       " 'PCOUNT': 0,\n",
       " 'RADECSYS': 'FK5',\n",
       " 'RA_OBJ': 140.578994750977,\n",
       " 'REVOL': 123,\n",
       " 'SOURCEID': 'Jupiter',\n",
       " 'SRCCNT': -2.10263769667061,\n",
       " 'SRCCNTE': 1.57552297729723,\n",
       " 'STAMP': '2025-03-16T14:19:45 ii_lc_extract 2.7.1',\n",
       " 'SWBOUND': 'String',\n",
       " 'SWID': '012301060010',\n",
       " 'SW_TYPE': 'POINTING',\n",
       " 'TELAPSE': 563.300103165238,\n",
       " 'TELESCOP': 'INTEGRAL',\n",
       " 'TFIELDS': 8,\n",
       " 'TFIRST': 1386.81288415844,\n",
       " 'TFORM1': '1D',\n",
       " 'TFORM2': '1E',\n",
       " 'TFORM3': '1E',\n",
       " 'TFORM4': '1E',\n",
       " 'TFORM5': '1E',\n",
       " 'TFORM6': '1E',\n",
       " 'TFORM7': '1E',\n",
       " 'TFORM8': '1E',\n",
       " 'TIERABSO': 0.0,\n",
       " 'TIERRELA': 0.0,\n",
       " 'TIMEDEL': 0.000694394184392877,\n",
       " 'TIMEPIXR': 0.5,\n",
       " 'TIMEREF': 'LOCAL',\n",
       " 'TIMESYS': 'TT',\n",
       " 'TIMEUNIT': 'd',\n",
       " 'TLAST': 1386.81940383556,\n",
       " 'TSTART': 1386.81261469022,\n",
       " 'TSTOP': 1386.81946654571,\n",
       " 'TTYPE1': 'TIME',\n",
       " 'TTYPE2': 'TOT_COUNTS',\n",
       " 'TTYPE3': 'BACKV',\n",
       " 'TTYPE4': 'BACKE',\n",
       " 'TTYPE5': 'RATE',\n",
       " 'TTYPE6': 'ERROR',\n",
       " 'TTYPE7': 'FRACEXP',\n",
       " 'TTYPE8': 'XAX_E',\n",
       " 'TUNIT1': 'd',\n",
       " 'TUNIT2': 'count/s',\n",
       " 'TUNIT3': 'count/s',\n",
       " 'TUNIT4': 'count/s',\n",
       " 'TUNIT5': 'count/s',\n",
       " 'TUNIT6': 'count/s',\n",
       " 'VIGNAPP': True,\n",
       " 'VIGNET': 1.0,\n",
       " 'XTENSION': 'BINTABLE',\n",
       " 'Y_FIN': -30.7472,\n",
       " 'Z_FIN': 65.7237}"
      ]
     },
     "execution_count": 12,
     "metadata": {},
     "output_type": "execute_result"
    }
   ],
   "source": [
    "lc.data_unit[1].header"
   ]
  },
  {
   "cell_type": "code",
   "execution_count": 13,
   "metadata": {},
   "outputs": [
    {
     "data": {
      "text/plain": [
       "<matplotlib.legend.Legend at 0x7f5067eace80>"
      ]
     },
     "execution_count": 13,
     "metadata": {},
     "output_type": "execute_result"
    },
    {
     "data": {
      "image/png": "[encoded data removed]",
      "text/plain": [
       "<Figure size 1000x600 with 1 Axes>"
      ]
     },
     "metadata": {},
     "output_type": "display_data"
    }
   ],
   "source": [
    "import matplotlib.pyplot as plt\n",
    "import numpy as np\n",
    "from datetime import datetime, timedelta\n",
    "\n",
    "time = lc.data_unit[1].data['TIME']\n",
    "rate = lc.data_unit[1].data['RATE']\n",
    "error = lc.data_unit[1].data['ERROR'] # just the std of the rate\n",
    "\n",
    "mjd_ref = lc.data_unit[1].header['MJDREF'] \n",
    "\n",
    "time = [Time(mjd_ref + t, format='mjd').isot for t in time]\n",
    "date_str = time[0].split('T')[0]\n",
    "time_labels = []\n",
    "for t in time:\n",
    "    time_str = t.split('T')[1]\n",
    "    h, m, s = time_str.split(':')\n",
    "    s = round(float(s))\n",
    "    time_labels.append(f'{int(h):02}:{int(m):02}:{s:02}')\n",
    "\n",
    "\n",
    "plt.figure(figsize=(10, 6))\n",
    "plt.errorbar(time_labels, rate, yerr=error, label='Light Curve', color='blue',fmt='o', capsize=5)\n",
    "\n",
    "plt.xlabel('Time (HH:MM:SS)')\n",
    "plt.ylabel('Rate (counts/s)')\n",
    "plt.title(f'Light Curve of ScW {scw_list[list_position]} on {date_str}')\n",
    "plt.grid(True)\n",
    "\n",
    "plt.fill_between(time_labels, -error.mean(), error.mean(), color='blue', alpha=0.2, label='1-sigma Region')\n",
    "plt.fill_between(time_labels, -3*error.mean(), 3*error.mean(), color='green', alpha=0.2, label='3-sigma Region')\n",
    "\n",
    "plt.plot([time_labels[0], time_labels[-1]], [np.mean(rate), np.mean(rate)], color='k')\n",
    "\n",
    "xticks = np.arange(0, len(time_labels), 5) \n",
    "plt.xticks(xticks, [time_labels[i] for i in xticks], rotation=45, ha='right')\n",
    "plt.tight_layout()\n",
    "\n",
    "plt.legend()\n",
    "\n",
    "#plt.savefig(f\"../data/{scw_list[list_position]}\"+\"_\"+f\"LC.pdf\", format='pdf', bbox_inches='tight')\n"
   ]
  },
  {
   "cell_type": "code",
   "execution_count": 17,
   "metadata": {},
   "outputs": [
    {
     "data": {
      "text/plain": [
       "-1.2259233"
      ]
     },
     "execution_count": 17,
     "metadata": {},
     "output_type": "execute_result"
    }
   ],
   "source": [
    "np.mean(rate)"
   ]
  },
  {
   "cell_type": "code",
   "execution_count": 19,
   "metadata": {},
   "outputs": [
    {
     "data": {
      "image/png": "[encoded data removed]",
      "text/plain": [
       "<Figure size 800x493.827 with 1 Axes>"
      ]
     },
     "metadata": {},
     "output_type": "display_data"
    }
   ],
   "source": [
    "import oda_api.plot_tools\n",
    "lc = oda_api.plot_tools.OdaLightCurve(data_collection)\n",
    "lc.show(\"Jupiter\", ng_sig_limit=3.0, find_excesses=True)"
   ]
  },
  {
   "cell_type": "code",
   "execution_count": 139,
   "metadata": {},
   "outputs": [
    {
     "data": {
      "text/plain": [
       "('./IBIS_lc_Jupiter.fits',\n",
       " 53359.403798433224,\n",
       " 53359.426019513536,\n",
       " 1269.90130086554)"
      ]
     },
     "execution_count": 139,
     "metadata": {},
     "output_type": "execute_result"
    }
   ],
   "source": [
    "lc.write_fits(\"Jupiter\")"
   ]
  }
 ],
 "metadata": {
  "kernelspec": {
   "display_name": "jupiter_xray",
   "language": "python",
   "name": "python3"
  },
  "language_info": {
   "codemirror_mode": {
    "name": "ipython",
    "version": 3
   },
   "file_extension": ".py",
   "mimetype": "text/x-python",
   "name": "python",
   "nbconvert_exporter": "python",
   "pygments_lexer": "ipython3",
   "version": "3.9.21"
  }
 },
 "nbformat": 4,
 "nbformat_minor": 2
}
