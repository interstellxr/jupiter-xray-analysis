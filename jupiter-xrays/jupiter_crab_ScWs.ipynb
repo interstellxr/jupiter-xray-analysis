{
 "cells": [
  {
   "cell_type": "code",
   "execution_count": 5,
   "id": "3313429d",
   "metadata": {},
   "outputs": [],
   "source": [
    "import time\n",
    "import astroquery.heasarc\n",
    "from astropy.coordinates import SkyCoord\n",
    "import astropy.units as u\n",
    "from astroquery.jplhorizons import Horizons\n",
    "import numpy as np\n",
    "import pandas as pd\n",
    "from collections import defaultdict\n",
    "from astropy.time import Time"
   ]
  },
  {
   "cell_type": "markdown",
   "id": "baec8afe",
   "metadata": {},
   "source": [
    "Idea of how this code works\n",
    "\n",
    "1. We obtain Jupiter's position in the sky (ephemerides). We will be using a search radius of 8 degrees (due to FOV of INTEGRAL, fully coded). I found that Jupiter's position does not significantly change (more than 8 degrees) within less than 2 months. For safety, we will obtain Jupiter's mean monthly position.\n",
    "2. Using the mean monthly position of Jupiter over a certain time period (1 year, 2 years, ...), we will search for all the ScWs within 8 degrees of this position. No time filtering yet. We will group by mean monthly position of Jupiter.\n",
    "Though we already filter for pointing ScWs only.\n",
    "3. Then, we have N groups of ScWs, each corresponding to a certain RA and DEC (within 8 degrees). These only contain Jupiter if it is in the FOV at that precise time, i.e. that month. So filtering will be done by taking ScWs only within corresponding month (aka the month corresponding to the mean position as found in step 1).\n",
    "4. Finally, we will have N groups of ScWs, each containg Jupiter, for each month in the given interval. Some may be empty."
   ]
  },
  {
   "cell_type": "markdown",
   "id": "771fe389",
   "metadata": {},
   "source": [
    "STEP 1 - obtaining Jupiter's position"
   ]
  },
  {
   "cell_type": "code",
   "execution_count": 6,
   "id": "8055dc69",
   "metadata": {},
   "outputs": [
    {
     "name": "stdout",
     "output_type": "stream",
     "text": [
      "Jupiter's monthly position between 2024-01-01 and 2025-01-01: \n",
      "\n",
      "   datetime_str      RA      DEC   \n",
      "       ---          deg      deg   \n",
      "----------------- -------- --------\n",
      "2024-Jan-01 00:00 43.39843 15.47283\n",
      "2024-Feb-01 00:00 46.18021 16.29968\n",
      "2024-Mar-03 00:00 48.97777 17.08786\n",
      "2024-Apr-03 00:00 51.79074 17.83537\n",
      "2024-May-04 00:00 54.61845 18.54027\n",
      "2024-Jun-04 00:00 57.46004  19.2008\n",
      "2024-Jul-05 00:00 60.31451  19.8153\n",
      "2024-Aug-05 00:00 63.18055 20.38228\n",
      "2024-Sep-05 00:00 66.05671 20.90038\n",
      "2024-Oct-06 00:00 68.94133 21.36844\n",
      "2024-Nov-06 00:00 71.83257 21.78546\n",
      "2024-Dec-07 00:00 74.72841  22.1506\n",
      "Monthly intervals based on Jupiter's positions:\n",
      " [(60310.0, 60341.0), (60341.0, 60372.0), (60372.0, 60403.0), (60403.0, 60434.0), (60434.0, 60465.0), (60465.0, 60496.0), (60496.0, 60527.0), (60527.0, 60558.0), (60558.0, 60589.0), (60589.0, 60620.0), (60620.0, 60651.0)]\n"
     ]
    }
   ],
   "source": [
    "# First, define the time interval we are interested in (> 1 month)\n",
    "epochs = {'start':'2024-01-01', 'stop':'2025-01-01', 'step':'31d'}\n",
    "\n",
    "# Get Jupiter's monthly position in the given time interval (not using mean as step of 31 days)\n",
    "jupiter = Horizons(id='599', location='@0',epochs=epochs) \n",
    "eph = jupiter.ephemerides()\n",
    "\n",
    "ra_values = eph['RA']\n",
    "dec_values = eph['DEC']\n",
    "datetime_values = eph['datetime_jd']\n",
    "print(f\"Jupiter's monthly position between {epochs['start']} and {epochs['stop']}: \\n\")\n",
    "print(eph[['datetime_str', 'RA', 'DEC']])\n",
    "\n",
    "monthly_intervals = []\n",
    "for i in range(len(datetime_values) - 1):  # Get the intervals between successive months\n",
    "    start_time = Time(datetime_values[i], format='jd').mjd\n",
    "    end_time = Time(datetime_values[i + 1], format='jd').mjd\n",
    "    monthly_intervals.append((start_time, end_time))\n",
    "print(f\"Monthly intervals based on Jupiter's positions:\\n {monthly_intervals}\")\n",
    "\n",
    "# If we want to use mean:\n",
    "# df = eph.to_pandas()\n",
    "# df['datetime_str'] = pd.to_datetime(df['datetime_str'])\n",
    "# monthly_means = df.groupby(df['datetime_str'].dt.strftime('%Y-%m'))[['RA', 'DEC']].mean()\n",
    "# for month, row in monthly_means.iterrows():\n",
    "    # print(f\"Month: {month}, Mean RA: {row['RA']:.2f} deg, Mean DEC: {row['DEC']:.2f} deg\")"
   ]
  },
  {
   "cell_type": "markdown",
   "id": "0448b554",
   "metadata": {},
   "source": [
    "STEP 2 - obtaining ScWs"
   ]
  },
  {
   "cell_type": "code",
   "execution_count": 7,
   "id": "051fe1ee",
   "metadata": {},
   "outputs": [],
   "source": [
    "Heasarc = astroquery.heasarc.Heasarc()\n",
    "\n",
    "def get_scw_list(ra_obj, dec_obj, radius):\n",
    "    R = Heasarc.query_region(\n",
    "            position = SkyCoord(ra_obj, dec_obj, unit='deg'),\n",
    "            radius = f\"{radius} deg\",\n",
    "            catalog = 'intscw',\n",
    "            good_isgri = \">1000\",\n",
    "        )\n",
    "    R.sort('scw_id') \n",
    "    return R['scw_id'], R['scw_ver'], R['start_date'], R['end_date']\n",
    "\n",
    "assert astroquery.__version__ >= '0.4.2.dev6611'\n",
    "assert 'isdc' in astroquery.heasarc.Conf.server.cfgtype"
   ]
  },
  {
   "cell_type": "code",
   "execution_count": 8,
   "id": "f68a0d88",
   "metadata": {},
   "outputs": [
    {
     "name": "stdout",
     "output_type": "stream",
     "text": [
      "Found a total of 6441  pointing ScWs.\n",
      "Number of ScWs found per month: \n",
      "\n",
      "Month 1 - # of ScWs found: 289\n",
      "Month 2 - # of ScWs found: 185\n",
      "Month 3 - # of ScWs found: 188\n",
      "Month 4 - # of ScWs found: 173\n",
      "Month 5 - # of ScWs found: 144\n",
      "Month 6 - # of ScWs found: 122\n",
      "Month 7 - # of ScWs found: 93\n",
      "Month 8 - # of ScWs found: 106\n",
      "Month 9 - # of ScWs found: 135\n",
      "Month 10 - # of ScWs found: 169\n",
      "Month 11 - # of ScWs found: 1427\n",
      "Month 12 - # of ScWs found: 3410\n"
     ]
    }
   ],
   "source": [
    "scw_ids = []\n",
    "scw_versions = []\n",
    "scw_start_times = []\n",
    "scw_end_times = []\n",
    "\n",
    "for row in eph:\n",
    "    ra = float(row['RA'])\n",
    "    dec = float(row['DEC'])\n",
    "    radius = 8.\n",
    "    scw_id, scw_ver, scw_start, scw_end = get_scw_list(ra, dec, radius)\n",
    "    scw_ids.append(scw_id) # Using append means we get a list of lists, grouped by Jupiter's monthly position\n",
    "    scw_versions.append(scw_ver)\n",
    "    scw_start_times.append(scw_start)\n",
    "    scw_end_times.append(scw_end)\n",
    "\n",
    "# Filter by type (pointing type)\n",
    "scw_ids_filtered = []\n",
    "scw_versions_filtered = []\n",
    "scw_start_times_filtered = []\n",
    "scw_end_times_filtered = []\n",
    "\n",
    "for scw_sublist, ver_sublist, start_sublist, end_sublist in zip(scw_ids, scw_versions, scw_start_times, scw_end_times):\n",
    "    \n",
    "    mask = [int(scw) % 10 == 0 for scw in scw_sublist] # divisible by 10 (ends with a 0 <=> pointing type)\n",
    "    \n",
    "    filtered_scws = [scw_sublist[i] for i in range(len(scw_sublist)) if mask[i]]\n",
    "    filtered_versions = [ver_sublist[i] for i in range(len(ver_sublist)) if mask[i]]\n",
    "    filtered_start_times = [start_sublist[i] for i in range(len(start_sublist)) if mask[i]]\n",
    "    filtered_end_times = [end_sublist[i] for i in range(len(end_sublist)) if mask[i]]\n",
    "    \n",
    "    scw_ids_filtered.append(filtered_scws)\n",
    "    scw_versions_filtered.append(filtered_versions)\n",
    "    scw_start_times_filtered.append(filtered_start_times)\n",
    "    scw_end_times_filtered.append(filtered_end_times)\n",
    "\n",
    "scw_ids = scw_ids_filtered\n",
    "scw_versions = scw_versions_filtered\n",
    "scw_start_times = scw_start_times_filtered\n",
    "scw_end_times = scw_end_times_filtered\n",
    "\n",
    "print(\"Found a total of\", np.sum([len(scw_id) for scw_id in scw_ids]), \" pointing ScWs.\")\n",
    "print(\"Number of ScWs found per month: \\n\")\n",
    "for i, scw_sublist in enumerate(scw_ids):\n",
    "    print(f\"Month {i+1} - # of ScWs found: {len(scw_sublist)}\")"
   ]
  },
  {
   "cell_type": "markdown",
   "id": "946960b9",
   "metadata": {},
   "source": [
    "STEP 3 - filtering by time"
   ]
  },
  {
   "cell_type": "code",
   "execution_count": 11,
   "id": "560b42a3",
   "metadata": {},
   "outputs": [
    {
     "name": "stdout",
     "output_type": "stream",
     "text": [
      "Found a total of 0 matching ScWs.\n",
      "Number of matching ScWs found per month: \n",
      "\n"
     ]
    }
   ],
   "source": [
    "scw_ids_filtered = []\n",
    "scw_versions_filtered = []\n",
    "scw_start_times_filtered = []\n",
    "scw_end_times_filtered = []\n",
    "\n",
    "for month_index, (scw_sublist, ver_sublist, start_sublist, end_sublist) in enumerate(zip(scw_ids, scw_versions, scw_start_times, scw_end_times)):\n",
    "    filtered_scws_month = []\n",
    "    filtered_versions_month = []\n",
    "    filtered_start_times_month = []\n",
    "    filtered_end_times_month = []\n",
    "\n",
    "    if month_index < len(monthly_intervals):\n",
    "        month_start, month_end = monthly_intervals[month_index]\n",
    "    else:\n",
    "        month_start, month_end = monthly_intervals[-1] \n",
    "\n",
    "    for scw_id, start_time, end_time in zip(scw_sublist, start_sublist, end_sublist):\n",
    "            if month_start <= start_time <= month_end: \n",
    "                filtered_scws_month.append(scw_sublist)\n",
    "                filtered_versions_month.append(ver_sublist[scw_sublist.index(scw_id)])\n",
    "                filtered_start_times_month.append(start_sublist)\n",
    "                filtered_end_times_month.append(end_sublist) \n",
    "    \n",
    "    scw_ids_filtered.append(filtered_scws_month)\n",
    "    scw_versions_filtered.append(filtered_versions_month)\n",
    "    scw_start_times_filtered.append(filtered_start_times_month)\n",
    "    scw_end_times_filtered.append(filtered_end_times_month)\n",
    "\n",
    "print(\"Found a total of\", np.sum([len(scw_id) for scw_id in scw_ids_filtered]), \"matching ScWs.\")\n",
    "print(\"Number of matching ScWs found per month: \\n\")\n",
    "for i, scw_sublist in enumerate(scw_ids_filtered):\n",
    "    if len(scw_sublist)!=0:\n",
    "        print(f\"Month {i+1} - # of ScWs found: {len(scw_sublist)}\")"
   ]
  },
  {
   "cell_type": "markdown",
   "id": "194ca2ce",
   "metadata": {},
   "source": [
    "We can save these ScWs to a file, with Jupiter's expected position."
   ]
  },
  {
   "cell_type": "code",
   "execution_count": null,
   "id": "86d9f926",
   "metadata": {},
   "outputs": [],
   "source": [
    "# with open(f\"{epochs['start']}_{epochs['stop']}.txt\", \"w+\") as f:\n",
    "    # for (ids, vers, starts, ends) in zip(scw_ids, scw_versions, scw_start_times, scw_end_times):\n",
    "        # f.write(\"{0}, {1}, {2}, {3}\\n\".format(ids, vers, starts, ends))\n",
    "\n",
    "# Flatten the lists\n",
    "flat_ids = [item for sublist in scw_ids_filtered for item in sublist]\n",
    "flat_versions = [item for sublist in scw_versions_filtered for item in sublist]\n",
    "flat_start_times = [item for sublist in scw_start_times_filtered for item in sublist]\n",
    "flat_end_times = [item for sublist in scw_end_times_filtered for item in sublist]\n",
    "\n",
    "with open(f\"../data/{epochs['start']}_{epochs['stop']}.txt\", \"w\") as f:\n",
    "    f.write(\"ID, Version, Start Time, End Time, Jupiter RA, Jupiter DEC\\n\")\n",
    "    for id, version, start, end, ra, dec in zip(flat_ids, flat_versions, flat_start_times, flat_end_times, ra_values, dec_values):\n",
    "        f.write(f\"{id}, {version}, {start}, {end}, {ra}, {dec}\\n\")"
   ]
  },
  {
   "cell_type": "markdown",
   "id": "840787e4",
   "metadata": {},
   "source": [
    "## CRAB"
   ]
  },
  {
   "cell_type": "code",
   "execution_count": null,
   "id": "927da66f",
   "metadata": {},
   "outputs": [],
   "source": [
    "source_name = 'Crab'\n",
    "\n",
    "Heasarc = astroquery.heasarc.Heasarc()\n",
    "\n",
    "def get_scw_list(ra_obj, dec_obj, radius):\n",
    "    R = Heasarc.query_region(\n",
    "            position = SkyCoord(ra_obj, dec_obj, unit='deg'),\n",
    "            radius = f\"{radius} deg\",\n",
    "            catalog = 'intscw',\n",
    "            good_isgri = \">1000\",\n",
    "        )\n",
    "    R.sort('scw_id') \n",
    "    # R['ra', 'dec'].pprint()\n",
    "    return R['scw_id'], R['scw_ver'], R['start_date'], R['end_date']\n",
    "\n",
    "assert astroquery.__version__ >= '0.4.2.dev6611'\n",
    "assert 'isdc' in astroquery.heasarc.Conf.server.cfgtype\n",
    "\n",
    "result_table = Simbad.query_object(source_name)\n",
    "print(result_table)\n",
    "source_coord = coord.SkyCoord(result_table['ra'][0], result_table['dec'][0], unit=(\"deg\", \"deg\"))\n",
    "ra=source_coord.ra.deg\n",
    "dec=source_coord.dec.deg\n",
    "radius=8.\n",
    "\n",
    "scwlist,version,start_all,end_all = get_scw_list(ra,dec,radius)"
   ]
  },
  {
   "cell_type": "markdown",
   "id": "4a53a3bc",
   "metadata": {},
   "source": [
    "Filter for pointing ScWs."
   ]
  },
  {
   "cell_type": "code",
   "execution_count": null,
   "id": "b59e95fb",
   "metadata": {},
   "outputs": [],
   "source": [
    "scw = [(s+\".\"+v).strip() for s,v in zip(scwlist,version) if s.endswith('0')]\n",
    "start = [t for s, t in zip(scwlist, start_all) if s.endswith('0')]\n",
    "end = [t for s, t in zip(scwlist, end_all) if s.endswith('0')]\n",
    "durations = [e-s for e,s in zip(end, start)]\n",
    "print(f\"Found {len(scw)} Crab ScWs of type pointing.\")"
   ]
  },
  {
   "cell_type": "markdown",
   "id": "9d0123d8",
   "metadata": {},
   "source": [
    "Save to file."
   ]
  },
  {
   "cell_type": "code",
   "execution_count": null,
   "id": "e6ad6592",
   "metadata": {},
   "outputs": [],
   "source": [
    "with open(f\"../data/Crab-ScWs.txt\", \"w\") as f:\n",
    "    f.write(\"SCW, Start Time, End Time\\n\")\n",
    "    for s, start, end in zip(scw, start, end):\n",
    "        f.write(f\"{s}, {start}, {end}\\n\")"
   ]
  }
 ],
 "metadata": {
  "jupytext": {
   "cell_metadata_filter": "-all",
   "main_language": "python",
   "notebook_metadata_filter": "-all"
  },
  "kernelspec": {
   "display_name": "jupiter_xray",
   "language": "python",
   "name": "python3"
  },
  "language_info": {
   "codemirror_mode": {
    "name": "ipython",
    "version": 3
   },
   "file_extension": ".py",
   "mimetype": "text/x-python",
   "name": "python",
   "nbconvert_exporter": "python",
   "pygments_lexer": "ipython3",
   "version": "3.9.21"
  }
 },
 "nbformat": 4,
 "nbformat_minor": 5
}
