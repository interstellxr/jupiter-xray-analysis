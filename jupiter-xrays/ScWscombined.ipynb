{
 "cells": [
  {
   "cell_type": "code",
   "execution_count": 23,
   "metadata": {},
   "outputs": [],
   "source": [
    "import oda_api.token \n",
    "import logging\n",
    "import numpy as np\n",
    "from oda_api.api import DispatcherAPI\n",
    "from oda_api.plot_tools import OdaImage, OdaLightCurve, OdaSpectrum\n",
    "import matplotlib.pyplot as plt\n",
    "from astropy.io import fits\n",
    "from astropy.wcs import WCS\n",
    "from matplotlib.patches import Circle\n",
    "from astropy.time import Time"
   ]
  },
  {
   "cell_type": "code",
   "execution_count": 24,
   "metadata": {},
   "outputs": [
    {
     "name": "stderr",
     "output_type": "stream",
     "text": [
      "found token in TokenLocation.FILE_CUR_DIR your token payload: {\n",
      "    \"email\": \"hucklethums@icloud.com\",\n",
      "    \"exp\": 1742905994,\n",
      "    \"name\": \"interstellxr\",\n",
      "    \"roles\": \"authenticated user, public-pool-hpc\",\n",
      "    \"sub\": \"hucklethums@icloud.com\"\n",
      "}\n",
      "token expires in 333.7 h\n"
     ]
    }
   ],
   "source": [
    "# token = ''\n",
    "# token = getpass.getpass('Insert the token')\n",
    "token = oda_api.token.discover_token() # get token stored locally"
   ]
  },
  {
   "cell_type": "code",
   "execution_count": 25,
   "metadata": {},
   "outputs": [],
   "source": [
    "logging.getLogger().setLevel(logging.INFO) # WARNING, INFO or DEBUG\n",
    "logging.getLogger('oda_api').addHandler(logging.StreamHandler())"
   ]
  },
  {
   "cell_type": "markdown",
   "metadata": {},
   "source": [
    "Import the ScWs from the saved file."
   ]
  },
  {
   "cell_type": "code",
   "execution_count": 26,
   "metadata": {},
   "outputs": [],
   "source": [
    "scw_ids = []\n",
    "scw_versions = []\n",
    "scw_start_times = []\n",
    "scw_end_times = []\n",
    "jupiter_ra = []\n",
    "jupiter_dec = []\n",
    "\n",
    "with open(\"../data/2004-01-01_2024-01-01.txt\", \"r\") as f:\n",
    "    next(f)\n",
    "    for line in f:\n",
    "        parts = line.strip().split(\", \")\n",
    "        scw_ids.append(parts[0])\n",
    "        scw_versions.append(parts[1])\n",
    "        scw_start_times.append(float(parts[2]))  \n",
    "        scw_end_times.append(float(parts[3]))  \n",
    "        jupiter_ra.append(float(parts[4]))  \n",
    "        jupiter_dec.append(float(parts[5]))  \n",
    "\n",
    "# Sort by time and remove duplicates\n",
    "unique_sorted_data = {}\n",
    "for sid, ver, start, end, ra, dec in sorted(zip(scw_ids, scw_versions, scw_start_times, scw_end_times, jupiter_ra, jupiter_dec), key=lambda x: x[0]):\n",
    "    if sid not in unique_sorted_data:  \n",
    "        unique_sorted_data[sid] = (sid, ver, start, end, ra, dec)\n",
    "\n",
    "scw_ids, scw_versions, scw_start_times, scw_end_times, jupiter_ra, jupiter_dec = map(list, zip(*unique_sorted_data.values()))"
   ]
  },
  {
   "cell_type": "markdown",
   "metadata": {},
   "source": [
    "Add IDs and versions together to make correctly formatted ScWs, and compute durations of the ScW observations."
   ]
  },
  {
   "cell_type": "code",
   "execution_count": 27,
   "metadata": {},
   "outputs": [
    {
     "name": "stdout",
     "output_type": "stream",
     "text": [
      "['026601100010.001', '026601110010.001', '026700000210.001', '026700000230.001', '043200640010.001', '043200650010.001', '091700010010.001', '091700020010.001', '106300180010.001', '106300190010.001', '112600220010.001', '112600230010.001', '124200010010.001', '124200020010.001', '168600570010.001', '168600580010.001', '169500010010.001', '169500020010.001', '230200070010.001', '230200080010.001', '230200090010.001', '230200160010.001', '230200170010.001', '230200180010.001', '230200470010.001', '230200480010.001', '230200490010.001', '230200550010.001', '230200560010.001', '230200570010.001', '230200570020.001', '236600410010.001', '236600420010.001', '236600440010.001', '236600450010.001', '236600460010.001', '236600470010.001', '236600480010.001', '236600490010.001', '236600500010.001', '236600510010.001', '236600520010.001', '236600530010.001', '236600540010.001', '236600550010.001', '236600560010.001', '236600570010.001', '236600580010.001', '236600590010.001', '236600600010.001', '236600610010.001', '236600620010.001', '236700010010.001', '236700020010.001', '236700030010.001', '236700040010.001', '236700050010.001', '236700060010.001', '236700070010.001', '236700080010.001', '236700090010.001', '236700100010.001', '236700110010.001', '236700120010.001', '236700130010.001', '236700140010.001', '236700150010.001', '236700160010.001', '236700170010.001', '236700180010.001', '236700190010.001', '236700200010.001', '236700210010.001', '236700220010.001', '236700250010.001', '236800110010.001', '236800120010.001', '236800130010.001', '236800140010.001', '236800160010.001', '236800170010.001', '236800180010.001', '236800190010.001', '236800200010.001', '236800210010.001', '236900030010.001', '236900040010.001', '236900050010.001', '236900060010.001', '236900070010.001', '236900080010.001', '236900090010.001', '236900100010.001', '236900110010.001', '236900120010.001', '236900170010.001', '236900180010.001', '237200010010.001', '237200020010.001', '237300010010.001', '237300020010.001', '237400080010.001', '237400090010.001', '237400160010.001', '237400170010.001', '243800290010.001', '243800300010.001', '250600210010.001', '250600220010.001', '256500270010.001', '256500280010.001', '258100840010.001', '258100850010.001', '258200000020.001', '258200000030.001', '263600270010.001', '263600280010.001', '265000840010.001', '265000850010.001', '265100000020.001', '270100010010.001', '270100020010.001']\n",
      "[9.88333935267292, 15.066675940761343, 32.5000173621811, 33.01668418105692, 9.866674086079001, 14.766677567968145, 9.833342107012868, 14.666679786751047, 9.883340211817995, 13.183342565316707, 13.300008903024718, 15.666677139233798, 13.350011188304052, 14.866679089609534, 9.883340494707227, 18.88334697810933, 9.883339635562152, 12.166674477048218, 9.883339195512235, 55.33336612279527, 55.33336612279527, 55.350032835267484, 95.76672322000377, 55.33336583990604, 55.33336684573442, 55.35003341152333, 55.35003341152333, 55.33336612279527, 55.350032835267484, 58.850034774513915, 37.083355193026364, 48.78336370107718, 48.78336370107718, 48.733363731298596, 48.7833636905998, 50.000031071249396, 15.083342642756179, 48.73336358461529, 49.05003023101017, 48.766696852399036, 48.8000301097054, 48.78336340771057, 48.78336340771057, 48.76669670571573, 48.8000301097054, 48.78336340771057, 48.78336355439387, 48.75003013992682, 48.7833636905998, 48.80003054975532, 48.766697281971574, 71.80004534544423, 9.866672640200704, 49.78336348431185, 48.900029473006725, 48.750029280781746, 48.76669598277658, 48.80002954392694, 48.80002953344956, 48.800029680132866, 48.78336296766065, 48.783363124821335, 48.80002981633879, 48.7666964228265, 48.7666964228265, 48.766696265665814, 48.800029680132866, 48.783362831454724, 48.78336297813803, 48.78336296766065, 48.80002953344956, 48.783362831454724, 48.80002954392694, 48.7833628419321, 48.7833626952488, 48.78336154273711, 48.80002809804864, 48.80002809804864, 48.80002795136534, 48.783361396053806, 48.783361396053806, 48.783361396053806, 48.783361396053806, 48.7833612493705, 48.80002809804864, 9.866673216456547, 49.83336576959118, 48.78336470690556, 48.78336441353895, 48.78336398396641, 48.783363837283105, 48.800030403072014, 48.78336355439387, 48.8000301097054, 48.78336340771057, 48.733363731298596, 48.78336398396641, 15.650010720128193, 15.983344225678593, 15.4333440028131, 16.05001103365794, 48.80003270809539, 48.783365859417245, 48.80003154510632, 48.800031408900395, 13.28334263060242, 16.050011044135317, 13.250007937895134, 15.983342926483601, 13.31667474587448, 17.283343680901453, 13.333341458346695, 55.55003413930535, 150.28342847828753, 2.1000012452714145, 13.300012360559776, 16.00001496146433, 9.883342799730599, 34.750033342279494, 105.41675865766592, 13.316674756351858, 17.1333436248824]\n",
      "['2004-12-19T19:48:56.654', '2004-12-19T20:00:44.654', '2004-12-20T09:40:05.683', '2004-12-20T10:14:04.684', '2006-04-29T05:10:22.194', '2006-04-29T05:22:09.195', '2010-04-17T07:40:39.526', '2010-04-17T07:52:31.526', '2011-06-28T10:40:48.998', '2011-06-28T10:52:36.998', '2012-01-03T03:24:40.594', '2012-01-03T03:39:54.595', '2012-12-14T11:04:08.379', '2012-12-14T11:19:25.380', '2016-06-05T01:14:24.654', '2016-06-05T01:25:45.654', '2016-06-26T17:49:59.816', '2016-06-26T18:01:51.817', '2020-11-26T22:58:31.199', '2020-11-26T23:10:19.199', '2020-11-27T00:07:35.201', '2020-11-27T06:50:03.216', '2020-11-27T07:47:35.218', '2020-11-27T09:25:33.221', '2020-11-28T15:31:23.285', '2020-11-28T16:28:38.287', '2020-11-28T17:25:54.289', '2020-11-28T23:10:51.302', '2020-11-29T00:08:22.304', '2020-11-29T01:05:38.306', '2020-11-29T02:04:29.308', '2021-05-17T13:03:47.183', '2021-05-17T13:54:45.184', '2021-05-17T15:36:14.188', '2021-05-17T16:27:10.190', '2021-05-17T17:18:09.192', '2021-05-17T18:08:09.194', '2021-05-17T18:59:38.196', '2021-05-17T19:50:18.198', '2021-05-17T20:41:34.200', '2021-05-17T21:32:15.201', '2021-05-17T22:23:15.203', '2021-05-17T23:14:14.205', '2021-05-18T00:05:12.207', '2021-05-18T00:55:54.209', '2021-05-18T01:46:38.211', '2021-05-18T02:37:21.213', '2021-05-18T03:28:22.215', '2021-05-18T04:19:03.217', '2021-05-18T05:09:45.218', '2021-05-18T06:00:46.220', '2021-05-18T06:51:27.222', '2021-05-18T19:54:36.251', '2021-05-18T20:06:27.252', '2021-05-18T20:59:01.254', '2021-05-18T21:50:09.256', '2021-05-18T22:41:07.257', '2021-05-18T23:31:48.259', '2021-05-19T00:22:31.261', '2021-05-19T01:13:14.263', '2021-05-19T02:03:57.265', '2021-05-19T02:54:40.267', '2021-05-19T03:45:23.269', '2021-05-19T04:36:24.270', '2021-05-19T05:27:23.272', '2021-05-19T06:18:22.274', '2021-05-19T07:09:03.276', '2021-05-19T08:00:03.278', '2021-05-19T08:51:02.280', '2021-05-19T09:42:01.282', '2021-05-19T10:32:43.283', '2021-05-19T11:23:42.285', '2021-05-19T12:14:41.287', '2021-05-19T13:05:25.289', '2021-05-19T15:37:50.294', '2021-05-21T18:40:25.403', '2021-05-21T19:31:07.405', '2021-05-21T20:22:06.407', '2021-05-21T21:12:49.409', '2021-05-21T22:54:48.412', '2021-05-21T23:45:47.414', '2021-05-22T00:36:29.416', '2021-05-22T01:27:28.417', '2021-05-22T02:18:27.419', '2021-05-22T03:09:26.421', '2021-05-24T04:25:06.528', '2021-05-24T04:36:54.528', '2021-05-24T05:28:40.531', '2021-05-24T06:19:23.532', '2021-05-24T07:10:22.534', '2021-05-24T08:01:05.536', '2021-05-24T08:51:48.538', '2021-05-24T09:42:32.540', '2021-05-24T10:33:14.542', '2021-05-24T11:23:58.544', '2021-05-24T15:05:18.552', '2021-05-24T15:55:58.554', '2021-06-01T03:08:33.012', '2021-06-01T03:26:12.013', '2021-06-03T19:01:05.168', '2021-06-03T19:18:27.169', '2021-06-06T16:17:36.338', '2021-06-06T17:08:19.340', '2021-06-06T23:04:50.354', '2021-06-06T23:55:49.356', '2021-11-24T07:42:01.458', '2021-11-24T07:57:14.459', '2022-05-24T08:30:06.902', '2022-05-24T08:45:20.902', '2022-10-28T04:39:19.612', '2022-10-28T04:54:33.612', '2022-12-11T12:10:54.321', '2022-12-11T12:25:43.321', '2022-12-11T15:09:16.327', '2022-12-11T17:39:33.333', '2023-05-05T01:16:46.348', '2023-05-05T01:32:03.348', '2023-06-13T00:23:18.619', '2023-06-13T00:35:06.620', '2023-06-13T05:03:36.635', '2023-10-24T08:08:37.915', '2023-10-24T08:24:00.915']\n",
      "Max duration in minutes: 150.28342847828753 at position 113\n"
     ]
    }
   ],
   "source": [
    "scw_list = [id + \".\" + ver for id, ver in zip(scw_ids, scw_versions)]\n",
    "scw_durations = [(end - start)*24*60 for start, end in zip(scw_start_times, scw_end_times)]\n",
    "print(scw_list)\n",
    "print(scw_durations)\n",
    "print([Time(start, format='mjd').isot for start in scw_start_times])\n",
    "print(\"Max duration in minutes:\", np.max(scw_durations), \"at position\", np.argmax(scw_durations))"
   ]
  },
  {
   "cell_type": "markdown",
   "metadata": {},
   "source": [
    "Group the ScWs by revolution number (and pointing number)."
   ]
  },
  {
   "cell_type": "code",
   "execution_count": 41,
   "metadata": {},
   "outputs": [
    {
     "name": "stdout",
     "output_type": "stream",
     "text": [
      "Group R=2302: SCWs at positions [18, 19, 20, 21, 22, 23, 24, 25, 26, 27, 28, 29, 30] -> 230200070010.001, 230200080010.001, 230200090010.001, 230200160010.001, 230200170010.001, 230200180010.001, 230200470010.001, 230200480010.001, 230200490010.001, 230200550010.001, 230200560010.001, 230200570010.001, 230200570020.001\n",
      "Group R=2366: SCWs at positions [31, 32, 33, 34, 35, 36, 37, 38, 39, 40, 41, 42, 43, 44, 45, 46, 47, 48, 49, 50, 51] -> 236600410010.001, 236600420010.001, 236600440010.001, 236600450010.001, 236600460010.001, 236600470010.001, 236600480010.001, 236600490010.001, 236600500010.001, 236600510010.001, 236600520010.001, 236600530010.001, 236600540010.001, 236600550010.001, 236600560010.001, 236600570010.001, 236600580010.001, 236600590010.001, 236600600010.001, 236600610010.001, 236600620010.001\n",
      "Group R=2367: SCWs at positions [52, 53, 54, 55, 56, 57, 58, 59, 60, 61, 62, 63, 64, 65, 66, 67, 68, 69, 70, 71, 72, 73, 74] -> 236700010010.001, 236700020010.001, 236700030010.001, 236700040010.001, 236700050010.001, 236700060010.001, 236700070010.001, 236700080010.001, 236700090010.001, 236700100010.001, 236700110010.001, 236700120010.001, 236700130010.001, 236700140010.001, 236700150010.001, 236700160010.001, 236700170010.001, 236700180010.001, 236700190010.001, 236700200010.001, 236700210010.001, 236700220010.001, 236700250010.001\n",
      "Group R=2369: SCWs at positions [85, 86, 87, 88, 89, 90, 91, 92, 93, 94, 95, 96] -> 236900030010.001, 236900040010.001, 236900050010.001, 236900060010.001, 236900070010.001, 236900080010.001, 236900090010.001, 236900100010.001, 236900110010.001, 236900120010.001, 236900170010.001, 236900180010.001\n",
      "['230200070010.001', '230200080010.001', '230200090010.001', '230200160010.001', '230200170010.001', '230200180010.001', '230200470010.001', '230200480010.001', '230200490010.001', '230200550010.001', '230200560010.001', '230200570010.001', '230200570020.001']\n",
      "['2020-11-26T22:58:31.199', '2020-11-26T23:10:19.199', '2020-11-27T00:07:35.201', '2020-11-27T06:50:03.216', '2020-11-27T07:47:35.218', '2020-11-27T09:25:33.221', '2020-11-28T15:31:23.285', '2020-11-28T16:28:38.287', '2020-11-28T17:25:54.289', '2020-11-28T23:10:51.302', '2020-11-29T00:08:22.304', '2020-11-29T01:05:38.306', '2020-11-29T02:04:29.308']\n",
      "[9.883339195512235, 55.33336612279527, 55.33336612279527, 55.350032835267484, 95.76672322000377, 55.33336583990604, 55.33336684573442, 55.35003341152333, 55.35003341152333, 55.33336612279527, 55.350032835267484, 58.850034774513915, 37.083355193026364]\n",
      "13\n"
     ]
    }
   ],
   "source": [
    "from collections import defaultdict\n",
    "\n",
    "scw_groups = defaultdict(list)\n",
    "\n",
    "for idx, scw in enumerate(scw_list):\n",
    "    R = scw[:4]  \n",
    "    P = scw[4:8] \n",
    "    #scw_groups[(R, P)].append(idx)  \n",
    "    scw_groups[R].append(idx)  \n",
    "\n",
    "large_scw_groups = []\n",
    "\n",
    "#for (R, P), indices in scw_groups.items():\n",
    "for R, indices in scw_groups.items():\n",
    "    if len(indices)>10: # select revolutions with many pointings\n",
    "        #print(f\"Group R={R}, P={P}: SCWs at positions {indices} -> {', '.join([scw_list[i] for i in indices])}\")\n",
    "        print(f\"Group R={R}: SCWs at positions {indices} -> {', '.join([scw_list[i] for i in indices])}\")\n",
    "        large_scw_groups.append([i for i in indices])\n",
    "\n",
    "# We found groups of ScWs with more than 10 consecutive pointings\n",
    "# Let us check the dates and see they are really consecutive and how close together they are\n",
    "\n",
    "group = large_scw_groups[0]\n",
    "Revs = [R for R, indices in scw_groups.items() if len(indices)>10]\n",
    "R = Revs[0]\n",
    "\n",
    "print([scw_list[i] for i in group])\n",
    "print([Time(scw_start_times[i], format='mjd').isot for i in group])\n",
    "print([scw_durations[i] for i in group])\n",
    "print(len(group))"
   ]
  },
  {
   "cell_type": "markdown",
   "metadata": {},
   "source": [
    "Asynchronously query the ODA API with scw list and save the fits files."
   ]
  },
  {
   "cell_type": "code",
   "execution_count": null,
   "metadata": {},
   "outputs": [],
   "source": [
    "disp_by_scw = {}\n",
    "data_by_scw = {}\n",
    "\n",
    "while True:\n",
    "    image_results = []\n",
    "\n",
    "    for list_position in group:\n",
    "        ra_deg = jupiter_ra[list_position]\n",
    "        dec_deg = jupiter_dec[list_position]\n",
    "\n",
    "        par_dict = {\n",
    "            \"E1_keV\": \"15\",\n",
    "            \"E2_keV\": \"30\",\n",
    "            \"T_format\": \"isot\",\n",
    "            \"detection_threshold\": \"5\",\n",
    "            \"instrument\": \"isgri\",\n",
    "            \"osa_version\": \"OSA11.2\",\n",
    "            \"product\": \"isgri_image\",\n",
    "            \"product_type\": \"Real\",\n",
    "            \"scw_list\": [scw_list[list_position]],\n",
    "            'token': token\n",
    "        }\n",
    "        \n",
    "        scw_id = scw_list[list_position]\n",
    "\n",
    "        if scw_id not in disp_by_scw:\n",
    "            disp_by_scw[scw_id] = DispatcherAPI(url=\"https://www.astro.unige.ch/mmoda/dispatch-data\", instrument=\"mock\", wait=False)\n",
    "        \n",
    "        _disp = disp_by_scw[scw_id]\n",
    "        \n",
    "        data = data_by_scw.get(scw_id, None)\n",
    "\n",
    "        if data is None and not _disp.is_failed:\n",
    "            if not _disp.is_submitted:\n",
    "                data = _disp.get_product(**par_dict)\n",
    "            else:\n",
    "                _disp.poll()\n",
    "\n",
    "            print(\"Is complete \", _disp.is_complete)\n",
    "            if not _disp.is_complete:\n",
    "                continue\n",
    "            else:\n",
    "                data = _disp.get_product(**par_dict)\n",
    "                data_by_scw[scw_id] = data\n",
    "\n",
    "        image_results.append(data)\n"
   ]
  },
  {
   "cell_type": "code",
   "execution_count": 48,
   "metadata": {},
   "outputs": [],
   "source": [
    "import os\n",
    "output_dir = f\"../data/Rev_{R}/\"\n",
    "os.makedirs(output_dir, exist_ok=True)\n",
    "for i, image in enumerate(image_results):\n",
    "    im = OdaImage(image)\n",
    "    file_path = os.path.join(output_dir, f\"{scw_ids[i]}.{scw_versions[i]}\")\n",
    "    im.write_fits(file_path)"
   ]
  },
  {
   "cell_type": "markdown",
   "metadata": {},
   "source": [
    "Plot from the fits file and extract countrates/uncertainties."
   ]
  },
  {
   "cell_type": "code",
   "execution_count": null,
   "metadata": {},
   "outputs": [
    {
     "name": "stdout",
     "output_type": "stream",
     "text": [
      "File not found: ../data/230200070010.001mosaic.fits, skipping...\n",
      "File not found: ../data/230200080010.001mosaic.fits, skipping...\n",
      "File not found: ../data/230200090010.001mosaic.fits, skipping...\n",
      "File not found: ../data/230200160010.001mosaic.fits, skipping...\n",
      "File not found: ../data/230200170010.001mosaic.fits, skipping...\n",
      "File not found: ../data/230200180010.001mosaic.fits, skipping...\n",
      "File not found: ../data/230200470010.001mosaic.fits, skipping...\n",
      "File not found: ../data/230200480010.001mosaic.fits, skipping...\n",
      "File not found: ../data/230200490010.001mosaic.fits, skipping...\n",
      "File not found: ../data/230200550010.001mosaic.fits, skipping...\n",
      "File not found: ../data/230200560010.001mosaic.fits, skipping...\n",
      "File not found: ../data/230200570010.001mosaic.fits, skipping...\n",
      "File not found: ../data/230200570020.001mosaic.fits, skipping...\n"
     ]
    }
   ],
   "source": [
    "import os\n",
    "\n",
    "countrates = []\n",
    "variances = []\n",
    "exposuretimes = []\n",
    "calculated_stds = []\n",
    "\n",
    "for list_position in group:\n",
    "\n",
    "    fits_file = f\"../data/{scw_list[list_position]}\"+\"mosaic.fits\"\n",
    "\n",
    "    if not os.path.exists(fits_file):\n",
    "        print(f\"File not found: {fits_file}, skipping...\")\n",
    "        continue  \n",
    "\n",
    "    pick = 2  # 2 for image, 3 for variance, 4 for significance and 5 for exposure map\n",
    "\n",
    "    ra_deg = jupiter_ra[list_position]\n",
    "    dec_deg = jupiter_dec[list_position]\n",
    "\n",
    "    with fits.open(fits_file) as hdul:\n",
    "        #hdul.info()\n",
    "        intensity_data = hdul[2].data \n",
    "        variance_data = hdul[3].data\n",
    "        significance_data = hdul[4].data\n",
    "        exposure_data = hdul[5].data\n",
    "        #print(\"\\n\")\n",
    "        #print(repr(hdul[pick].header))\n",
    "        #print(\"\\n\")\n",
    "        #print(hdul[1].data.columns)\n",
    "        wcs = WCS(hdul[pick].header)  \n",
    "        CD1 = np.abs(hdul[pick].header[\"CD1_1\"])\n",
    "\n",
    "    data = [intensity_data, variance_data, significance_data, exposure_data]\n",
    "    image_data = data[pick-2]\n",
    "\n",
    "    x, y = wcs.all_world2pix(ra_deg, dec_deg, 1)\n",
    "    x_int, y_int = int(round(x.item())), int(round(y.item()))\n",
    "\n",
    "    countrates.append(intensity_data[y_int, x_int])\n",
    "    variances.append(variance_data[y_int, x_int])\n",
    "    exposuretimes.append(exposure_data[y_int, x_int])\n",
    "\n",
    "    box_width, box_height = 4, 4\n",
    "\n",
    "    y_min = max(0, y_int - box_height // 2)\n",
    "    y_max = min(intensity_data.shape[0], y_int + box_height // 2)\n",
    "    x_min = max(0, x_int - box_width // 2)\n",
    "    x_max = min(intensity_data.shape[1], x_int + box_width // 2)\n",
    "    box_region = intensity_data[y_min:y_max, x_min:x_max]\n",
    "\n",
    "    calculated_stds.append(np.std(box_region))\n",
    "\n",
    "    #'''\n",
    "    fig = plt.figure(figsize=(10, 8))\n",
    "    ax = fig.add_subplot(111, projection=wcs)\n",
    "    im = ax.imshow(np.log10(image_data), cmap='plasma', origin='lower')\n",
    "\n",
    "    ax.set_xlabel('RA')\n",
    "    ax.set_ylabel('DEC')\n",
    "\n",
    "    pixel_scale = CD1 * 3600  # pixel size in arcseconds (|CD1_1| from fits header)\n",
    "    circle_radius_pixels = 30 * 40 / pixel_scale / 2  # radius in pixels (30 times Jupiter's apparent size which is ~ 40\")\n",
    "\n",
    "    circle = Circle((x, y), circle_radius_pixels, edgecolor='black', facecolor='none', lw = 0.5)\n",
    "    ax.add_patch(circle)\n",
    "\n",
    "    title = \"\"\n",
    "    if pick == 2:\n",
    "        title = \"Intensity\"\n",
    "    elif pick == 3:\n",
    "        title = \"Variance\"\n",
    "    elif pick == 4:\n",
    "        title = \"Significance\"\n",
    "    elif pick == 5:\n",
    "        title = \"Exposure\"\n",
    "\n",
    "    plt.title(title+\" map\")\n",
    "    plt.colorbar(im, label=\"Intensity\")\n",
    "\n",
    "    ax.annotate(\n",
    "        text=\"Jupiter (30x Rj)\", \n",
    "        xy=(x, y),  \n",
    "        xytext=(x - 100, y + 150),\n",
    "        arrowprops=dict(arrowstyle=\"->\", color=\"black\", lw=0.5),\n",
    "        fontsize=11,\n",
    "        color=\"black\"\n",
    "    )\n",
    "\n",
    "    #plt.savefig(f\"../data/{scw_list[list_position]}\"+\"_\"+f\"{title}.pdf\", format='pdf', bbox_inches='tight')\n",
    "    #'''\n",
    "\n",
    "uncertainties = np.sqrt(variances)\n"
   ]
  },
  {
   "cell_type": "code",
   "execution_count": null,
   "metadata": {},
   "outputs": [],
   "source": [
    "isot_start_times = [Time(scw_start_times[i], format='mjd').isot for i in group]\n",
    "isot_end_times = [Time(scw_end_times[i], format='mjd').isot for i in group]\n",
    "\n",
    "exposure_durations = np.array(scw_end_times) - np.array(scw_start_times)\n",
    "\n",
    "isot_mid_times = Time((np.array(scw_start_times) + np.array(scw_end_times)) / 2, format='mjd').plot_date\n",
    "\n",
    "plt.figure(figsize=(10, 6))\n",
    "\n",
    "plt.bar(isot_mid_times, countrates, width=exposure_durations, color='b', alpha=0.6, edgecolor='black', label='Intensity')\n",
    "plt.errorbar(isot_mid_times, countrates, yerr=uncertainties, fmt='o', color='r', capsize=5, label='Error bars')\n",
    "\n",
    "plt.xlabel('Time', fontsize=14)\n",
    "plt.ylabel('Countrate (counts/s)', fontsize=14)\n",
    "plt.title('Intensity over Time (SCWs)', fontsize=16)\n",
    "plt.grid(True)\n",
    "plt.legend()\n",
    "\n",
    "import matplotlib.dates as mdates\n",
    "plt.gca().xaxis.set_major_formatter(mdates.DateFormatter('%Y-%m-%d %H:%M'))\n",
    "plt.xticks(rotation=45)\n",
    "plt.show()\n"
   ]
  },
  {
   "cell_type": "code",
   "execution_count": null,
   "metadata": {},
   "outputs": [],
   "source": [
    "plt.figure()\n",
    "plt.scatter(uncertainties, calculated_stds)\n",
    "plt.xlabel('Calculated STDevs', fontsize=14)\n",
    "plt.ylabel('Extracted STDevs', fontsize=14)\n",
    "plt.title('True vs calculated uncertainties', fontsize=16)\n",
    "plt.grid(True)\n",
    "plt.legend()"
   ]
  }
 ],
 "metadata": {
  "kernelspec": {
   "display_name": "jupiter_xray",
   "language": "python",
   "name": "python3"
  },
  "language_info": {
   "codemirror_mode": {
    "name": "ipython",
    "version": 3
   },
   "file_extension": ".py",
   "mimetype": "text/x-python",
   "name": "python",
   "nbconvert_exporter": "python",
   "pygments_lexer": "ipython3",
   "version": "3.9.21"
  }
 },
 "nbformat": 4,
 "nbformat_minor": 2
}
