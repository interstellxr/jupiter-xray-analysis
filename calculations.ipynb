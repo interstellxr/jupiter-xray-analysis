{
 "cells": [
  {
   "cell_type": "markdown",
   "metadata": {},
   "source": [
    "Error due to seperation between INTEGRAL and Earth."
   ]
  },
  {
   "cell_type": "code",
   "execution_count": 2,
   "metadata": {},
   "outputs": [
    {
     "name": "stdout",
     "output_type": "stream",
     "text": [
      "Angular error is  0.8617477267341882  arcmin\n"
     ]
    }
   ],
   "source": [
    "D = 150e3 # max distance between INTEGRAL and Earth (~ 150 000 km)\n",
    "r = 4 * 149597870.7 # min distance between Jupiter and Earth is ~ 4 AU \n",
    "\n",
    "error = D/r * 206265/60 # convert to arcmin\n",
    "print(\"Angular error is \", error, \" arcmin\") # below 1', insignificant (FWHM is 12' for INTEGRAL)"
   ]
  },
  {
   "cell_type": "markdown",
   "metadata": {},
   "source": [
    "Error due to seperation between INTEGRAL and Earth is negligible."
   ]
  },
  {
   "cell_type": "code",
   "execution_count": 3,
   "metadata": {},
   "outputs": [
    {
     "name": "stdout",
     "output_type": "stream",
     "text": [
      "0.17454320433896983 pixels\n"
     ]
    }
   ],
   "source": [
    "error = 0.8617477267341882 # arcmin error due to distance between INTEGRAL and Earth\n",
    "pixel_scale_arcmin = 0.082286 * 60 # arcmin pixel scale\n",
    "print(error/pixel_scale_arcmin, \"pixels\")"
   ]
  }
 ],
 "metadata": {
  "kernelspec": {
   "display_name": "jupiter_xray",
   "language": "python",
   "name": "python3"
  },
  "language_info": {
   "codemirror_mode": {
    "name": "ipython",
    "version": 3
   },
   "file_extension": ".py",
   "mimetype": "text/x-python",
   "name": "python",
   "nbconvert_exporter": "python",
   "pygments_lexer": "ipython3",
   "version": "3.9.21"
  }
 },
 "nbformat": 4,
 "nbformat_minor": 2
}
