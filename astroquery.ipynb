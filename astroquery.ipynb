{
 "cells": [
  {
   "cell_type": "markdown",
   "id": "13a97c14",
   "metadata": {},
   "source": [
    "In the first cell, we define our query function. This is to be copied and pasted each time we want to query science windows. "
   ]
  },
  {
   "cell_type": "code",
   "execution_count": null,
   "id": "051fe1ee",
   "metadata": {},
   "outputs": [],
   "source": [
    "import time\n",
    "\n",
    "import astroquery.heasarc\n",
    "from astropy.coordinates import SkyCoord\n",
    "from astropy import units as u\n",
    "\n",
    "Heasarc = astroquery.heasarc.Heasarc()\n",
    "\n",
    "def get_scw_list(ra_obj, dec_obj,radius,start_date,end_date ):\n",
    "    R = Heasarc.query_region(\n",
    "            position = SkyCoord(ra_obj, dec_obj, unit='deg'),\n",
    "            radius = f\"{radius} deg\",\n",
    "            catalog = 'intscw', # 'mission' has been deprecated\n",
    "            time = start_date + \" .. \" + end_date,\n",
    "            good_isgri = \">1000\",\n",
    "        )\n",
    "    # print(R)\n",
    "    R.sort('scw_id') # changed SCW_ID to scw_id\n",
    "\n",
    "    return R['scw_id'], R['scw_ver']  # changed SCW_VER to scw_ver\n",
    "\n",
    "\n",
    "assert astroquery.__version__ >= '0.4.2.dev6611'\n",
    "assert 'isdc' in astroquery.heasarc.Conf.server.cfgtype"
   ]
  },
  {
   "cell_type": "markdown",
   "id": "8d252b81",
   "metadata": {},
   "source": [
    "In this second cell, define our source and region to query."
   ]
  },
  {
   "cell_type": "code",
   "execution_count": 14,
   "id": "36ae7f01",
   "metadata": {},
   "outputs": [],
   "source": [
    "from astroquery.simbad import Simbad\n",
    "from astropy import coordinates as coord\n",
    "\n",
    "import json\n",
    "\n",
    "import os\n",
    "import shutil\n",
    "import random\n",
    "\n",
    "from astropy.io import fits\n",
    "\n",
    "from scipy import stats\n",
    "\n",
    "source_name = 'Crab'\n",
    "\n",
    "result_table = Simbad.query_object(source_name)\n",
    "source_coord = coord.SkyCoord(result_table['ra'][0], result_table['dec'][0], unit=(\"hourangle\", \"deg\")) # changed RA and DEC to ra and dec respectively\n",
    "ra=source_coord.ra.deg\n",
    "dec=source_coord.dec.deg\n",
    "radius=8."
   ]
  },
  {
   "cell_type": "markdown",
   "id": "2630f4f6",
   "metadata": {},
   "source": [
    "Finally, define the time interval within which we wish to retrieve our object."
   ]
  },
  {
   "cell_type": "code",
   "execution_count": 15,
   "id": "60d4e551",
   "metadata": {},
   "outputs": [
    {
     "name": "stdout",
     "output_type": "stream",
     "text": [
      "   scw_id    scw_ver scw_type  status ... obs_type pi_name data_size __row \n",
      "                                      ...                     byte         \n",
      "------------ ------- -------- ------- ... -------- ------- --------- ------\n",
      "026901160010     001 pointing  public ...                    2051072 299097\n",
      "027000000012     001    other  public ...                     849920 299099\n",
      "027000000020     001 pointing  public ...                    2483200 299100\n",
      "149800020010     001 pointing  public ...                   14561280 301172\n",
      "258100830031     001     slew  public ...                    1101824 301261\n",
      "149800010021     001     slew  public ...                    2998272 301693\n",
      "154400530021     001     slew  public ...                   20643840 301771\n",
      "279500000041     001     slew private ...                    4399104 302049\n",
      "074800260021     001     slew  public ...                   18846720 302098\n",
      "149800010010     001 pointing  public ...                   12148736 302189\n",
      "         ...     ...      ...     ... ...      ...     ...       ...    ...\n",
      "031100760021     001     slew  public ...                     774144 344104\n",
      "031000910021     001     slew  public ...                     784384 344203\n",
      "216800030021     001     slew  public ...                    2961408 344213\n",
      "243600010010     001 pointing  public ...                   15151104 344271\n",
      "031100760010     001 pointing  public ...                     943104 344274\n",
      "043700580021     001     slew  public ...                    4881408 344280\n",
      "216800030010     001 pointing  public ...                   13303808 344375\n",
      "031000910010     001 pointing  public ...                    1006592 344390\n",
      "043700580010     001 pointing  public ...                   26745856 344474\n",
      "111300000051     001     slew  public ...                    1171456 345742\n",
      "Length = 450 rows\n"
     ]
    }
   ],
   "source": [
    "scwlist,version = get_scw_list(ra,dec, 10, '2020-01-01T00:00:00', '2020-06-01T00:00:00')"
   ]
  },
  {
   "cell_type": "markdown",
   "id": "80bb54ba",
   "metadata": {},
   "source": [
    "We then pick 10 science windows at random. "
   ]
  },
  {
   "cell_type": "code",
   "execution_count": 16,
   "id": "5a265619",
   "metadata": {},
   "outputs": [
    {
     "name": "stdout",
     "output_type": "stream",
     "text": [
      "['021200630021.001', '074900350021.001', '110900000021.001', '154400530021.001', '155000270020.001', '155100280090.001', '155300030072.001', '176400540010.001', '182100530031.001', '231400550021.001']\n"
     ]
    }
   ],
   "source": [
    "nscw = 10\n",
    "if len(scwlist) == 0:\n",
    "    raise Exception('No science windows')\n",
    "\n",
    "scw_pick = [(s+\".\"+v).strip() for s,v in zip(scwlist,version)]\n",
    "\n",
    "if nscw >0 and len(scw_pick)>=nscw:\n",
    "    random.seed(0)\n",
    "    scw_pick = random.sample(scw_pick, nscw)\n",
    "scw_pick = sorted(scw_pick)\n",
    "\n",
    "print(scw_pick)"
   ]
  },
  {
   "cell_type": "markdown",
   "id": "126b6a71",
   "metadata": {},
   "source": [
    "Before moving on to using this query for our ODA, we need to input our token. "
   ]
  },
  {
   "cell_type": "code",
   "execution_count": 9,
   "id": "f5de3f27",
   "metadata": {},
   "outputs": [],
   "source": [
    "token = ''\n",
    "\n",
    "import getpass\n",
    "token = getpass.getpass('Insert the token')"
   ]
  },
  {
   "cell_type": "code",
   "execution_count": 10,
   "id": "4d7c7eb5",
   "metadata": {},
   "outputs": [],
   "source": [
    "import oda_api.token\n",
    "token = oda_api.token.discover_token()"
   ]
  },
  {
   "cell_type": "code",
   "execution_count": 12,
   "id": "c78ccafb",
   "metadata": {},
   "outputs": [
    {
     "data": {
      "text/plain": [
       "{'sub': 'hucklethums@icloud.com',\n",
       " 'email': 'hucklethums@icloud.com',\n",
       " 'name': 'interstellxr',\n",
       " 'roles': 'authenticated user, public-pool-hpc',\n",
       " 'exp': 1741191208}"
      ]
     },
     "execution_count": 12,
     "metadata": {},
     "output_type": "execute_result"
    }
   ],
   "source": [
    "oda_api.token.decode_oda_token(token)"
   ]
  },
  {
   "cell_type": "markdown",
   "id": "07a0b383",
   "metadata": {},
   "source": [
    "Now let us look at an example."
   ]
  },
  {
   "cell_type": "code",
   "execution_count": 15,
   "id": "562e416d",
   "metadata": {},
   "outputs": [
    {
     "name": "stderr",
     "output_type": "stream",
     "text": [
      "please beware that by default, in a typical setup, oda_api will not output much. To learn how to increase the verbosity, please refer to the documentation: https://oda-api.readthedocs.io/en/latest/user_guide/ScienceWindowList.html?highlight=logging#Let's-get-some-logging . \n",
      "To disable this message you can pass `.get_product(..., silent=True)`\n",
      "/home/hthums/micromamba/envs/jupiter_xray/lib/python3.9/site-packages/oda_api/api.py:1069: UserWarning: \n",
      "----------------------------------------------------------------------------\n",
      "the parameter: user_catalog_file   is not among valid ones:\n",
      "['src_name', 'RA', 'DEC', 'T1', 'T_format', 'T2', 'token', None, 'selected_catalog', 'data_level', 'time_bin', 'time_bin_format']\n",
      "----------------------------------------------------------------------------\n",
      "\n",
      "  warnings.warn(msg)\n"
     ]
    },
    {
     "name": "stdout",
     "output_type": "stream",
     "text": [
      "Please note that argument user_catalog_file is not used\n"
     ]
    }
   ],
   "source": [
    "from oda_api.api import DispatcherAPI\n",
    "\n",
    "disp = DispatcherAPI(url='https://www.astro.unige.ch/mmoda/dispatch-data')\n",
    "par_dict = {'src_name': '4U 1700-377',\n",
    "            'RA': '257.815417',\n",
    "            'DEC': '-41.593417',\n",
    "            'T1': '58195.455',\n",
    "            'T2': '58195.555',\n",
    "            'T_format': 'mjd',\n",
    "            'instrument': 'spi_acs',\n",
    "            'product_type': 'Real',\n",
    "            'product': 'spi_acs_lc',\n",
    "            'time_bin': '1',\n",
    "            'user_catalog_file': None,\n",
    "           'token': token}\n",
    "\n",
    "data_collection = disp.get_product(**par_dict)\n",
    "data_collection.show()"
   ]
  },
  {
   "cell_type": "code",
   "execution_count": 16,
   "id": "524d9ac3",
   "metadata": {},
   "outputs": [
    {
     "data": {
      "image/png": "[encoded data removed]",
      "text/plain": [
       "<Figure size 640x480 with 1 Axes>"
      ]
     },
     "metadata": {},
     "output_type": "display_data"
    }
   ],
   "source": [
    "lc=data_collection._p_list[0]\n",
    "import matplotlib.pyplot as plt\n",
    "\n",
    "plt.errorbar(lc.data_unit[1].data['TIME'], lc.data_unit[1].data['RATE'], yerr=lc.data_unit[1].data['ERROR'])\n",
    "plt.xlabel('Time [IJD]')\n",
    "plt.ylabel('Count rate')\n",
    "\n",
    "descr = disp.get_product_description(instrument='isgri',product_name='isgri_spectrum')"
   ]
  }
 ],
 "metadata": {
  "jupytext": {
   "cell_metadata_filter": "-all",
   "main_language": "python",
   "notebook_metadata_filter": "-all"
  },
  "kernelspec": {
   "display_name": "jupiter_xray",
   "language": "python",
   "name": "python3"
  },
  "language_info": {
   "codemirror_mode": {
    "name": "ipython",
    "version": 3
   },
   "file_extension": ".py",
   "mimetype": "text/x-python",
   "name": "python",
   "nbconvert_exporter": "python",
   "pygments_lexer": "ipython3",
   "version": "3.9.21"
  }
 },
 "nbformat": 4,
 "nbformat_minor": 5
}
