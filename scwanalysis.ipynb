{
 "cells": [
  {
   "cell_type": "code",
   "execution_count": 8,
   "metadata": {},
   "outputs": [],
   "source": [
    "import oda_api.token \n",
    "import logging\n",
    "import numpy as np\n",
    "from oda_api.api import DispatcherAPI\n",
    "from oda_api.plot_tools import OdaImage\n",
    "import matplotlib.pyplot as plt\n",
    "from astropy.io import fits\n",
    "from astropy.wcs import WCS\n",
    "from matplotlib.patches import Circle"
   ]
  },
  {
   "cell_type": "code",
   "execution_count": 6,
   "metadata": {},
   "outputs": [],
   "source": [
    "# token = ''\n",
    "# token = getpass.getpass('Insert the token')\n",
    "token = oda_api.token.discover_token() # get token stored locally"
   ]
  },
  {
   "cell_type": "code",
   "execution_count": 7,
   "metadata": {},
   "outputs": [],
   "source": [
    "logging.getLogger().setLevel(logging.INFO) # WARNING, INFO or DEBUG\n",
    "logging.getLogger('oda_api').addHandler(logging.StreamHandler())"
   ]
  },
  {
   "cell_type": "markdown",
   "metadata": {},
   "source": [
    "Import the ScWs from the saved file."
   ]
  },
  {
   "cell_type": "code",
   "execution_count": 56,
   "metadata": {},
   "outputs": [],
   "source": [
    "scw_ids = []\n",
    "scw_versions = []\n",
    "scw_start_times = []\n",
    "scw_end_times = []\n",
    "\n",
    "with open(\"2003-01-01_2004-01-01.txt\", \"r\") as f:\n",
    "    next(f)\n",
    "    for line in f:\n",
    "        parts = line.strip().split(\", \")\n",
    "        scw_ids.append(parts[0])\n",
    "        scw_versions.append(parts[1])\n",
    "        scw_start_times.append(float(parts[2]))  \n",
    "        scw_end_times.append(float(parts[3]))  \n"
   ]
  },
  {
   "cell_type": "code",
   "execution_count": null,
   "metadata": {},
   "outputs": [],
   "source": [
    "disp = DispatcherAPI(url=\"https://www.astro.unige.ch/mmoda/dispatch-data\", instrument=\"mock\")\n",
    "\n",
    "par_dict = {\n",
    "# \"E1_keV\": \"15\",\n",
    "# \"E2_keV\": \"30\",\n",
    "# \"T_format\": \"isot\",\n",
    "\"detection_threshold\": \"5\",\n",
    "\"instrument\": \"isgri\",\n",
    "\"osa_version\": \"OSA10.2\",\n",
    "\"product\": \"isgri_image\",\n",
    "\"product_type\": \"Real\",\n",
    "\"scw_list\": [\"027300510010.001\"],\n",
    "'token': token\n",
    "}\n",
    "# \"integral_data_rights\": \"all-private\" had to be removed as didn't have the rights\n",
    "\n",
    "data_collection = disp.get_product(**par_dict)\n",
    "data_collection.show()\n",
    "data_collection.mosaic_image_0_mosaic.show()\n",
    "\n",
    "print(data_collection.mosaic_image_0_mosaic.show_meta())"
   ]
  },
  {
   "cell_type": "code",
   "execution_count": null,
   "metadata": {},
   "outputs": [],
   "source": [
    "im=OdaImage(data_collection)\n",
    "_ = im.show()\n",
    "im.write_fits('')"
   ]
  },
  {
   "cell_type": "code",
   "execution_count": null,
   "metadata": {},
   "outputs": [],
   "source": [
    "from astropy.wcs import WCS\n",
    "from matplotlib.patches import Circle\n",
    "\n",
    "fits_file = \"027300510010.001mosaic.fits\"\n",
    "\n",
    "# Jupiter\n",
    "ra_deg = ra_values[0]\n",
    "dec_deg = dec_values[0]\n",
    "\n",
    "with fits.open(fits_file) as hdul:\n",
    "    image_data = hdul[2].data \n",
    "    wcs = WCS(hdul[2].header)  \n",
    "\n",
    "x, y = wcs.all_world2pix(ra_deg, dec_deg, 1)\n",
    "\n",
    "fig = plt.figure(figsize=(10, 8))\n",
    "ax = fig.add_subplot(111, projection=wcs)\n",
    "im = ax.imshow(np.log10(image_data), cmap='plasma', origin='lower')\n",
    "\n",
    "ax.set_xlabel('RA')\n",
    "ax.set_ylabel('DEC')\n",
    "\n",
    "pixel_scale = np.abs(wcs.wcs.cdelt[0]) * 3600  # pixel size in arcseconds\n",
    "circle_radius_pixels = 30 * 50 / pixel_scale / 2  # radius in pixels\n",
    "\n",
    "circle = Circle((x, y), circle_radius_pixels, edgecolor='black', facecolor='none', lw=2)\n",
    "ax.add_patch(circle)\n",
    "\n",
    "plt.colorbar(im, label=\"Flux\")\n",
    "plt.show()"
   ]
  }
 ],
 "metadata": {
  "kernelspec": {
   "display_name": "jupiter_xray",
   "language": "python",
   "name": "python3"
  },
  "language_info": {
   "codemirror_mode": {
    "name": "ipython",
    "version": 3
   },
   "file_extension": ".py",
   "mimetype": "text/x-python",
   "name": "python",
   "nbconvert_exporter": "python",
   "pygments_lexer": "ipython3",
   "version": "3.9.21"
  }
 },
 "nbformat": 4,
 "nbformat_minor": 2
}
